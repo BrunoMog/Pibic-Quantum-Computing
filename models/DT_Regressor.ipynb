{
 "cells": [
  {
   "cell_type": "code",
   "execution_count": 1,
   "id": "397ec90d",
   "metadata": {},
   "outputs": [],
   "source": [
    "import sys\n",
    "import os\n",
    "sys.path.append(os.path.abspath(\"..\"))  # sobe um nível a partir da pasta models/"
   ]
  },
  {
   "cell_type": "code",
   "execution_count": 2,
   "id": "fcca8489",
   "metadata": {},
   "outputs": [],
   "source": [
    "import ast\n",
    "import numpy as np\n",
    "from sklearn.model_selection import cross_val_score\n",
    "from sklearn.tree import DecisionTreeRegressor\n",
    "import pandas as pd\n",
    "from sklearn.model_selection import KFold\n",
    "import joblib\n",
    "from sklearn.model_selection import GridSearchCV\n",
    "\n",
    "from features_selection.Wrapper import ForwardFeatureSelector, BackwardFeatureSelector\n"
   ]
  },
  {
   "cell_type": "code",
   "execution_count": 3,
   "id": "2306a2fd",
   "metadata": {},
   "outputs": [],
   "source": [
    "# abrindo os dados de treinamento\n",
    "df = pd.read_csv(\"./../ansatz_result/data.csv\")\n",
    "X = df.drop(columns=[\"target\"]).to_numpy()\n",
    "y = pd.DataFrame(df['target'].apply(ast.literal_eval).tolist()).to_numpy()"
   ]
  },
  {
   "cell_type": "code",
   "execution_count": 4,
   "id": "da769c3b",
   "metadata": {},
   "outputs": [
    {
     "name": "stdout",
     "output_type": "stream",
     "text": [
      "Melhores parâmetros: {'criterion': 'friedman_mse', 'max_depth': None, 'min_samples_leaf': 4, 'min_samples_split': 25}\n"
     ]
    }
   ],
   "source": [
    "# criando kfold\n",
    "kf = KFold(n_splits=3, shuffle=True, random_state=42)\n",
    "\n",
    "# Definir os parâmetros a testar\n",
    "param_grid = {\n",
    "    'max_depth': [3, 5, 7, None],\n",
    "    'min_samples_split': [2, 5, 10, 15, 20, 25, 30],\n",
    "    'min_samples_leaf': [1, 2, 4, 5,  10, 15, 20, 30, 35, 40],\n",
    "    'criterion': ['squared_error', 'friedman_mse']\n",
    "}\n",
    "\n",
    "dt_regressor = DecisionTreeRegressor(random_state=45)\n",
    "\n",
    "grid_search = GridSearchCV(dt_regressor, param_grid, cv=kf, scoring='neg_mean_squared_error', n_jobs=12)\n",
    "\n",
    "grid_search.fit(X, y)\n",
    "\n",
    "# Melhores parâmetros\n",
    "print(\"Melhores parâmetros:\", grid_search.best_params_)"
   ]
  },
  {
   "cell_type": "code",
   "execution_count": 5,
   "id": "f00bb36f",
   "metadata": {},
   "outputs": [
    {
     "name": "stdout",
     "output_type": "stream",
     "text": [
      "Scores: [-0.00089987 -0.00084969 -0.00095836]\n",
      "Média: -0.000902640345476667\n",
      "Desvio padrão: 4.4407732441965074e-05\n"
     ]
    }
   ],
   "source": [
    "# Usar os melhores parâmetros encontrados para validação cruzada\n",
    "best_dt_regressor = grid_search.best_estimator_\n",
    "\n",
    "score = cross_val_score(best_dt_regressor, X, y, cv=kf, scoring='neg_mean_squared_error')\n",
    "print(\"Scores:\", score)\n",
    "print(\"Média:\", score.mean())\n",
    "print(\"Desvio padrão:\", score.std())\n"
   ]
  },
  {
   "cell_type": "code",
   "execution_count": 6,
   "id": "cd18400e",
   "metadata": {},
   "outputs": [
    {
     "data": {
      "text/plain": [
       "['./models_salvos/dt_regressor.joblib']"
      ]
     },
     "execution_count": 6,
     "metadata": {},
     "output_type": "execute_result"
    }
   ],
   "source": [
    "# treinando o dt regressor e salvando o modelo \n",
    "best_dt_regressor.fit(X, y)\n",
    "\n",
    "# salvar o modelo treinado\n",
    "joblib.dump(best_dt_regressor, './models_salvos/dt_regressor.joblib')"
   ]
  },
  {
   "cell_type": "code",
   "execution_count": 7,
   "id": "00a95719",
   "metadata": {},
   "outputs": [],
   "source": [
    "selector = ForwardFeatureSelector(\n",
    "    model=best_dt_regressor,\n",
    "    model_type='sklearn',\n",
    "    scoring='neg_mean_squared_error',\n",
    "    cv=3,\n",
    "    verbose=1\n",
    ")"
   ]
  },
  {
   "cell_type": "code",
   "execution_count": 8,
   "id": "df692e55",
   "metadata": {},
   "outputs": [
    {
     "name": "stdout",
     "output_type": "stream",
     "text": [
      "Testing feature set: [0], score: -0.0009699440743350345\n",
      "Testing feature set: [1], score: -0.0009796132118767846\n",
      "Testing feature set: [2], score: -0.001821383761679551\n",
      "Testing feature set: [3], score: -0.001401001302248639\n",
      "Testing feature set: [4], score: -0.001388858702869208\n",
      "Testing feature set: [5], score: -0.0011159469447380788\n",
      "Testing feature set: [6], score: -0.00111987964064775\n",
      "Testing feature set: [7], score: -0.0012611252268093715\n",
      "Testing feature set: [8], score: -0.005322733305281623\n",
      "Testing feature set: [9], score: -0.0010425302330478673\n",
      "Testing feature set: [10], score: -0.009445114723652413\n",
      "Testing feature set: [11], score: -0.0013419189561402433\n",
      "Testing feature set: [12], score: -0.0011478828453696664\n",
      "Testing feature set: [13], score: -0.0009500432432162353\n",
      "Testing feature set: [14], score: -0.001225864719675134\n",
      "Testing feature set: [15], score: -0.010329371303058511\n",
      "Testing feature set: [16], score: -0.006093665918597443\n",
      "Testing feature set: [17], score: -0.016991018301295676\n",
      "Testing feature set: [18], score: -0.011938970216309361\n",
      "Testing feature set: [19], score: -0.01196443820452768\n",
      "Testing feature set: [20], score: -0.017004433915186443\n",
      "Testing feature set: [21], score: -0.017004433915186443\n",
      "13\n",
      "-0.0009500432432162353\n",
      "Selected feature: 13 | Score: -0.0010\n",
      "Testing feature set: [13, 0], score: -0.0009445992234347263\n",
      "Testing feature set: [13, 1], score: -0.0009541506715070383\n",
      "Testing feature set: [13, 2], score: -0.0009604453049233932\n",
      "Testing feature set: [13, 3], score: -0.0009450625200592737\n",
      "Testing feature set: [13, 4], score: -0.0009437653146681562\n",
      "Testing feature set: [13, 5], score: -0.0008747448327116591\n",
      "Testing feature set: [13, 6], score: -0.000932324105697482\n",
      "Testing feature set: [13, 7], score: -0.000945642693408763\n",
      "Testing feature set: [13, 8], score: -0.0009363724534980838\n",
      "Testing feature set: [13, 9], score: -0.0008849784682083017\n",
      "Testing feature set: [13, 10], score: -0.0009310262970133927\n",
      "Testing feature set: [13, 11], score: -0.0010365067780551721\n",
      "Testing feature set: [13, 12], score: -0.0008665953485748919\n",
      "Testing feature set: [13, 14], score: -0.0008827128650697987\n",
      "Testing feature set: [13, 15], score: -0.0008912610458279205\n",
      "Testing feature set: [13, 16], score: -0.0009476574411686092\n",
      "Testing feature set: [13, 17], score: -0.0009424785062722126\n",
      "Testing feature set: [13, 18], score: -0.0009020753314479169\n",
      "Testing feature set: [13, 19], score: -0.0009500432432162353\n",
      "Testing feature set: [13, 20], score: -0.0009500432432162353\n",
      "Testing feature set: [13, 21], score: -0.0009500432432162353\n",
      "12\n",
      "-0.0008665953485748919\n",
      "Selected feature: 12 | Score: -0.0009\n",
      "Testing feature set: [13, 12, 0], score: -0.0009344010379419291\n",
      "Testing feature set: [13, 12, 1], score: -0.0009293687362677067\n",
      "Testing feature set: [13, 12, 2], score: -0.000878753733266035\n",
      "Testing feature set: [13, 12, 3], score: -0.000873007269913529\n",
      "Testing feature set: [13, 12, 4], score: -0.000869601936382301\n",
      "Testing feature set: [13, 12, 5], score: -0.00090080146032479\n",
      "Testing feature set: [13, 12, 6], score: -0.0008611646980156944\n",
      "Testing feature set: [13, 12, 7], score: -0.0008671895100276153\n",
      "Testing feature set: [13, 12, 8], score: -0.0009197332611900637\n",
      "Testing feature set: [13, 12, 9], score: -0.0008523081485339013\n",
      "Testing feature set: [13, 12, 10], score: -0.0008986188609940452\n",
      "Testing feature set: [13, 12, 11], score: -0.0008700186724391385\n",
      "Testing feature set: [13, 12, 14], score: -0.0008645743859425325\n",
      "Testing feature set: [13, 12, 15], score: -0.0009002730711224846\n",
      "Testing feature set: [13, 12, 16], score: -0.0008597388188309836\n",
      "Testing feature set: [13, 12, 17], score: -0.0008632371388271913\n",
      "Testing feature set: [13, 12, 18], score: -0.0008526882224380839\n",
      "Testing feature set: [13, 12, 19], score: -0.0008665953485748919\n",
      "Testing feature set: [13, 12, 20], score: -0.000866595348574892\n",
      "Testing feature set: [13, 12, 21], score: -0.000866595348574892\n",
      "9\n",
      "-0.0008523081485339013\n",
      "Selected feature: 9 | Score: -0.0009\n",
      "Testing feature set: [13, 12, 9, 0], score: -0.0009472908459615155\n",
      "Testing feature set: [13, 12, 9, 1], score: -0.0009181070531405995\n",
      "Testing feature set: [13, 12, 9, 2], score: -0.0008701630055821399\n",
      "Testing feature set: [13, 12, 9, 3], score: -0.0008630774033150128\n",
      "Testing feature set: [13, 12, 9, 4], score: -0.0008707904536425937\n",
      "Testing feature set: [13, 12, 9, 5], score: -0.0008865807834073589\n",
      "Testing feature set: [13, 12, 9, 6], score: -0.0008587031531492811\n",
      "Testing feature set: [13, 12, 9, 7], score: -0.0008506618227580127\n",
      "Testing feature set: [13, 12, 9, 8], score: -0.0009082385624398616\n",
      "Testing feature set: [13, 12, 9, 10], score: -0.0008750489025954143\n",
      "Testing feature set: [13, 12, 9, 11], score: -0.0008700629027366687\n",
      "Testing feature set: [13, 12, 9, 14], score: -0.0008949528381603398\n",
      "Testing feature set: [13, 12, 9, 15], score: -0.0008810805523395021\n",
      "Testing feature set: [13, 12, 9, 16], score: -0.0008406705912003266\n",
      "Testing feature set: [13, 12, 9, 17], score: -0.0008473461635764816\n",
      "Testing feature set: [13, 12, 9, 18], score: -0.0008473461635764816\n",
      "Testing feature set: [13, 12, 9, 19], score: -0.0008523081485339013\n",
      "Testing feature set: [13, 12, 9, 20], score: -0.000848296769729496\n",
      "Testing feature set: [13, 12, 9, 21], score: -0.000848296769729496\n",
      "16\n",
      "-0.0008406705912003266\n",
      "Selected feature: 16 | Score: -0.0008\n",
      "Testing feature set: [13, 12, 9, 16, 0], score: -0.0009189673457662946\n",
      "Testing feature set: [13, 12, 9, 16, 1], score: -0.0009163295735000756\n",
      "Testing feature set: [13, 12, 9, 16, 2], score: -0.0008644070689483433\n",
      "Testing feature set: [13, 12, 9, 16, 3], score: -0.0008403869412761455\n",
      "Testing feature set: [13, 12, 9, 16, 4], score: -0.0008639259724794272\n",
      "Testing feature set: [13, 12, 9, 16, 5], score: -0.0008679639598025349\n",
      "Testing feature set: [13, 12, 9, 16, 6], score: -0.0008484834531551007\n",
      "Testing feature set: [13, 12, 9, 16, 7], score: -0.0008408019874895785\n",
      "Testing feature set: [13, 12, 9, 16, 8], score: -0.0008471224074518422\n",
      "Testing feature set: [13, 12, 9, 16, 10], score: -0.0008677671832654693\n",
      "Testing feature set: [13, 12, 9, 16, 11], score: -0.0008541149744424695\n",
      "Testing feature set: [13, 12, 9, 16, 14], score: -0.0008619387127600395\n",
      "Testing feature set: [13, 12, 9, 16, 15], score: -0.000870895420394315\n",
      "Testing feature set: [13, 12, 9, 16, 17], score: -0.0008457659725629704\n",
      "Testing feature set: [13, 12, 9, 16, 18], score: -0.0008457659725629704\n",
      "Testing feature set: [13, 12, 9, 16, 19], score: -0.0008445216449883339\n",
      "Testing feature set: [13, 12, 9, 16, 20], score: -0.0008406705912003268\n",
      "Testing feature set: [13, 12, 9, 16, 21], score: -0.0008406705912003268\n",
      "3\n",
      "-0.0008403869412761455\n",
      "Selected feature: 3 | Score: -0.0008\n",
      "Testing feature set: [13, 12, 9, 16, 3, 0], score: -0.0009152492361532283\n",
      "Testing feature set: [13, 12, 9, 16, 3, 1], score: -0.0009173627078239412\n",
      "Testing feature set: [13, 12, 9, 16, 3, 2], score: -0.0008538606189585738\n",
      "Testing feature set: [13, 12, 9, 16, 3, 4], score: -0.0008745960903640987\n",
      "Testing feature set: [13, 12, 9, 16, 3, 5], score: -0.0008742751863838237\n",
      "Testing feature set: [13, 12, 9, 16, 3, 6], score: -0.0008528813302225996\n",
      "Testing feature set: [13, 12, 9, 16, 3, 7], score: -0.0008436121754624316\n",
      "Testing feature set: [13, 12, 9, 16, 3, 8], score: -0.0008446532228887256\n",
      "Testing feature set: [13, 12, 9, 16, 3, 10], score: -0.0008561269694870745\n",
      "Testing feature set: [13, 12, 9, 16, 3, 11], score: -0.000854133404626089\n",
      "Testing feature set: [13, 12, 9, 16, 3, 14], score: -0.0008652013473787312\n",
      "Testing feature set: [13, 12, 9, 16, 3, 15], score: -0.0008407467208542508\n",
      "Testing feature set: [13, 12, 9, 16, 3, 17], score: -0.000838710259356775\n",
      "Testing feature set: [13, 12, 9, 16, 3, 18], score: -0.000838710259356775\n",
      "Testing feature set: [13, 12, 9, 16, 3, 19], score: -0.0008403869412761455\n",
      "Testing feature set: [13, 12, 9, 16, 3, 20], score: -0.0008403869412761455\n",
      "Testing feature set: [13, 12, 9, 16, 3, 21], score: -0.0008403869412761455\n",
      "17\n",
      "-0.000838710259356775\n",
      "Selected feature: 17 | Score: -0.0008\n",
      "Testing feature set: [13, 12, 9, 16, 3, 17, 0], score: -0.0009063282030588385\n",
      "Testing feature set: [13, 12, 9, 16, 3, 17, 1], score: -0.0009081277574753682\n",
      "Testing feature set: [13, 12, 9, 16, 3, 17, 2], score: -0.0008316317094363215\n",
      "Testing feature set: [13, 12, 9, 16, 3, 17, 4], score: -0.0008414810446403221\n",
      "Testing feature set: [13, 12, 9, 16, 3, 17, 5], score: -0.0008689607556331179\n",
      "Testing feature set: [13, 12, 9, 16, 3, 17, 6], score: -0.0008327500721792151\n",
      "Testing feature set: [13, 12, 9, 16, 3, 17, 7], score: -0.0008195523276130927\n",
      "Testing feature set: [13, 12, 9, 16, 3, 17, 8], score: -0.0008410647871677411\n",
      "Testing feature set: [13, 12, 9, 16, 3, 17, 10], score: -0.0008394447651994139\n",
      "Testing feature set: [13, 12, 9, 16, 3, 17, 11], score: -0.0008521914315641992\n",
      "Testing feature set: [13, 12, 9, 16, 3, 17, 14], score: -0.0008434173530518825\n",
      "Testing feature set: [13, 12, 9, 16, 3, 17, 15], score: -0.0008364701244492025\n",
      "Testing feature set: [13, 12, 9, 16, 3, 17, 18], score: -0.0008386184344061155\n",
      "Testing feature set: [13, 12, 9, 16, 3, 17, 19], score: -0.0008387102593567748\n",
      "Testing feature set: [13, 12, 9, 16, 3, 17, 20], score: -0.0008386184344061154\n",
      "Testing feature set: [13, 12, 9, 16, 3, 17, 21], score: -0.0008386184344061154\n",
      "7\n",
      "-0.0008195523276130927\n",
      "Selected feature: 7 | Score: -0.0008\n",
      "Testing feature set: [13, 12, 9, 16, 3, 17, 7, 0], score: -0.0008967724547357886\n",
      "Testing feature set: [13, 12, 9, 16, 3, 17, 7, 1], score: -0.0009114016966416142\n",
      "Testing feature set: [13, 12, 9, 16, 3, 17, 7, 2], score: -0.0008348867715266277\n",
      "Testing feature set: [13, 12, 9, 16, 3, 17, 7, 4], score: -0.000862740728411989\n",
      "Testing feature set: [13, 12, 9, 16, 3, 17, 7, 5], score: -0.0008688380791777086\n",
      "Testing feature set: [13, 12, 9, 16, 3, 17, 7, 6], score: -0.0008348516979169747\n",
      "Testing feature set: [13, 12, 9, 16, 3, 17, 7, 8], score: -0.0008458879756960219\n",
      "Testing feature set: [13, 12, 9, 16, 3, 17, 7, 10], score: -0.0008496851807730483\n",
      "Testing feature set: [13, 12, 9, 16, 3, 17, 7, 11], score: -0.0008475225414921158\n",
      "Testing feature set: [13, 12, 9, 16, 3, 17, 7, 14], score: -0.0008552491809295737\n",
      "Testing feature set: [13, 12, 9, 16, 3, 17, 7, 15], score: -0.0008361112833154259\n",
      "Testing feature set: [13, 12, 9, 16, 3, 17, 7, 18], score: -0.0008341331942353507\n",
      "Testing feature set: [13, 12, 9, 16, 3, 17, 7, 19], score: -0.0008340413692846915\n",
      "Testing feature set: [13, 12, 9, 16, 3, 17, 7, 20], score: -0.0008341331942353507\n",
      "Testing feature set: [13, 12, 9, 16, 3, 17, 7, 21], score: -0.0008341331942353507\n",
      "19\n",
      "-0.0008340413692846915\n"
     ]
    }
   ],
   "source": [
    "X_new = selector.fit_transform(X, y)"
   ]
  },
  {
   "cell_type": "code",
   "execution_count": 9,
   "id": "3f60f818",
   "metadata": {},
   "outputs": [
    {
     "name": "stdout",
     "output_type": "stream",
     "text": [
      "features selecionadas: [13, 12, 9, 16, 3, 17, 7], best score: -0.0008195523276130927\n"
     ]
    }
   ],
   "source": [
    "print(f\"features selecionadas: {selector.selected_features}, best score: {selector.best_scores[-1]}\")"
   ]
  },
  {
   "cell_type": "code",
   "execution_count": 10,
   "id": "13a52e5c",
   "metadata": {},
   "outputs": [],
   "source": [
    "selector2 = BackwardFeatureSelector(\n",
    "    model=best_dt_regressor,\n",
    "    model_type='sklearn',\n",
    "    scoring='neg_mean_squared_error',\n",
    "    cv = 3,\n",
    "    verbose=1\n",
    ")"
   ]
  },
  {
   "cell_type": "code",
   "execution_count": 11,
   "id": "6952eaf4",
   "metadata": {},
   "outputs": [
    {
     "name": "stdout",
     "output_type": "stream",
     "text": [
      "Testando subconjunto: [1, 2, 3, 4, 5, 6, 7, 8, 9, 10, 11, 12, 13, 14, 15, 16, 17, 18, 19, 20, 21], score: -0.0008660372349773138\n",
      "Testando subconjunto: [0, 2, 3, 4, 5, 6, 7, 8, 9, 10, 11, 12, 13, 14, 15, 16, 17, 18, 19, 20, 21], score: -0.0008554387214787606\n",
      "Testando subconjunto: [0, 1, 3, 4, 5, 6, 7, 8, 9, 10, 11, 12, 13, 14, 15, 16, 17, 18, 19, 20, 21], score: -0.0008623413589716205\n",
      "Testando subconjunto: [0, 1, 2, 4, 5, 6, 7, 8, 9, 10, 11, 12, 13, 14, 15, 16, 17, 18, 19, 20, 21], score: -0.0008910220698570268\n",
      "Testando subconjunto: [0, 1, 2, 3, 5, 6, 7, 8, 9, 10, 11, 12, 13, 14, 15, 16, 17, 18, 19, 20, 21], score: -0.0008897155542311011\n",
      "Testando subconjunto: [0, 1, 2, 3, 4, 6, 7, 8, 9, 10, 11, 12, 13, 14, 15, 16, 17, 18, 19, 20, 21], score: -0.0008504228793504531\n",
      "Testando subconjunto: [0, 1, 2, 3, 4, 5, 7, 8, 9, 10, 11, 12, 13, 14, 15, 16, 17, 18, 19, 20, 21], score: -0.0008572047717204061\n",
      "Testando subconjunto: [0, 1, 2, 3, 4, 5, 6, 8, 9, 10, 11, 12, 13, 14, 15, 16, 17, 18, 19, 20, 21], score: -0.0008572047717204061\n",
      "Testando subconjunto: [0, 1, 2, 3, 4, 5, 6, 7, 9, 10, 11, 12, 13, 14, 15, 16, 17, 18, 19, 20, 21], score: -0.0008520024173780189\n",
      "Testando subconjunto: [0, 1, 2, 3, 4, 5, 6, 7, 8, 10, 11, 12, 13, 14, 15, 16, 17, 18, 19, 20, 21], score: -0.0008675380938082535\n",
      "Testando subconjunto: [0, 1, 2, 3, 4, 5, 6, 7, 8, 9, 11, 12, 13, 14, 15, 16, 17, 18, 19, 20, 21], score: -0.0008670150211535126\n",
      "Testando subconjunto: [0, 1, 2, 3, 4, 5, 6, 7, 8, 9, 10, 12, 13, 14, 15, 16, 17, 18, 19, 20, 21], score: -0.000867950929522266\n",
      "Testando subconjunto: [0, 1, 2, 3, 4, 5, 6, 7, 8, 9, 10, 11, 13, 14, 15, 16, 17, 18, 19, 20, 21], score: -0.0008670150211535127\n",
      "Testando subconjunto: [0, 1, 2, 3, 4, 5, 6, 7, 8, 9, 10, 11, 12, 14, 15, 16, 17, 18, 19, 20, 21], score: -0.0008814453715711179\n",
      "Testando subconjunto: [0, 1, 2, 3, 4, 5, 6, 7, 8, 9, 10, 11, 12, 13, 15, 16, 17, 18, 19, 20, 21], score: -0.0008653871140958061\n",
      "Testando subconjunto: [0, 1, 2, 3, 4, 5, 6, 7, 8, 9, 10, 11, 12, 13, 14, 16, 17, 18, 19, 20, 21], score: -0.0009173346948176202\n",
      "Testando subconjunto: [0, 1, 2, 3, 4, 5, 6, 7, 8, 9, 10, 11, 12, 13, 14, 15, 17, 18, 19, 20, 21], score: -0.0008752968551045031\n",
      "Testando subconjunto: [0, 1, 2, 3, 4, 5, 6, 7, 8, 9, 10, 11, 12, 13, 14, 15, 16, 18, 19, 20, 21], score: -0.0008769650414957047\n",
      "Testando subconjunto: [0, 1, 2, 3, 4, 5, 6, 7, 8, 9, 10, 11, 12, 13, 14, 15, 16, 17, 19, 20, 21], score: -0.0008769650414957047\n",
      "Testando subconjunto: [0, 1, 2, 3, 4, 5, 6, 7, 8, 9, 10, 11, 12, 13, 14, 15, 16, 17, 18, 20, 21], score: -0.0008769650414957045\n",
      "Testando subconjunto: [0, 1, 2, 3, 4, 5, 6, 7, 8, 9, 10, 11, 12, 13, 14, 15, 16, 17, 18, 19, 21], score: -0.0008572047717204061\n",
      "Testando subconjunto: [0, 1, 2, 3, 4, 5, 6, 7, 8, 9, 10, 11, 12, 13, 14, 15, 16, 17, 18, 19, 20], score: -0.0008572047717204061\n",
      "Removed feature: 5 | Score: -0.0009\n",
      "Testando subconjunto: [1, 2, 3, 4, 6, 7, 8, 9, 10, 11, 12, 13, 14, 15, 16, 17, 18, 19, 20, 21], score: -0.0008710200564538405\n",
      "Testando subconjunto: [0, 2, 3, 4, 6, 7, 8, 9, 10, 11, 12, 13, 14, 15, 16, 17, 18, 19, 20, 21], score: -0.0008729156608514639\n",
      "Testando subconjunto: [0, 1, 3, 4, 6, 7, 8, 9, 10, 11, 12, 13, 14, 15, 16, 17, 18, 19, 20, 21], score: -0.0008523875225561745\n",
      "Testando subconjunto: [0, 1, 2, 4, 6, 7, 8, 9, 10, 11, 12, 13, 14, 15, 16, 17, 18, 19, 20, 21], score: -0.0008970104880919634\n",
      "Testando subconjunto: [0, 1, 2, 3, 6, 7, 8, 9, 10, 11, 12, 13, 14, 15, 16, 17, 18, 19, 20, 21], score: -0.0008946983757076276\n",
      "Testando subconjunto: [0, 1, 2, 3, 4, 7, 8, 9, 10, 11, 12, 13, 14, 15, 16, 17, 18, 19, 20, 21], score: -0.0008968313577029597\n",
      "Testando subconjunto: [0, 1, 2, 3, 4, 6, 8, 9, 10, 11, 12, 13, 14, 15, 16, 17, 18, 19, 20, 21], score: -0.0008973130323246039\n",
      "Testando subconjunto: [0, 1, 2, 3, 4, 6, 7, 9, 10, 11, 12, 13, 14, 15, 16, 17, 18, 19, 20, 21], score: -0.0008907952647431768\n",
      "Testando subconjunto: [0, 1, 2, 3, 4, 6, 7, 8, 10, 11, 12, 13, 14, 15, 16, 17, 18, 19, 20, 21], score: -0.0009188461571468435\n",
      "Testando subconjunto: [0, 1, 2, 3, 4, 6, 7, 8, 9, 11, 12, 13, 14, 15, 16, 17, 18, 19, 20, 21], score: -0.0009306109993662839\n",
      "Testando subconjunto: [0, 1, 2, 3, 4, 6, 7, 8, 9, 10, 12, 13, 14, 15, 16, 17, 18, 19, 20, 21], score: -0.000907081403950265\n",
      "Testando subconjunto: [0, 1, 2, 3, 4, 6, 7, 8, 9, 10, 11, 13, 14, 15, 16, 17, 18, 19, 20, 21], score: -0.0009061454955815118\n",
      "Testando subconjunto: [0, 1, 2, 3, 4, 6, 7, 8, 9, 10, 11, 12, 14, 15, 16, 17, 18, 19, 20, 21], score: -0.0009444783308388414\n",
      "Testando subconjunto: [0, 1, 2, 3, 4, 6, 7, 8, 9, 10, 11, 12, 13, 15, 16, 17, 18, 19, 20, 21], score: -0.0008942078808080754\n",
      "Testando subconjunto: [0, 1, 2, 3, 4, 6, 7, 8, 9, 10, 11, 12, 13, 14, 16, 17, 18, 19, 20, 21], score: -0.0008994175447213869\n",
      "Testando subconjunto: [0, 1, 2, 3, 4, 6, 7, 8, 9, 10, 11, 12, 13, 14, 15, 17, 18, 19, 20, 21], score: -0.000892041025582139\n",
      "Testando subconjunto: [0, 1, 2, 3, 4, 6, 7, 8, 9, 10, 11, 12, 13, 14, 15, 16, 18, 19, 20, 21], score: -0.0008943807817350322\n",
      "Testando subconjunto: [0, 1, 2, 3, 4, 6, 7, 8, 9, 10, 11, 12, 13, 14, 15, 16, 17, 19, 20, 21], score: -0.0008943807817350322\n",
      "Testando subconjunto: [0, 1, 2, 3, 4, 6, 7, 8, 9, 10, 11, 12, 13, 14, 15, 16, 17, 18, 20, 21], score: -0.0008953585679112308\n",
      "Testando subconjunto: [0, 1, 2, 3, 4, 6, 7, 8, 9, 10, 11, 12, 13, 14, 15, 16, 17, 18, 19, 21], score: -0.0008628591629586242\n",
      "Testando subconjunto: [0, 1, 2, 3, 4, 6, 7, 8, 9, 10, 11, 12, 13, 14, 15, 16, 17, 18, 19, 20], score: -0.0008628591629586242\n"
     ]
    }
   ],
   "source": [
    "X_new2 = selector2.fit_transform(X, y)"
   ]
  },
  {
   "cell_type": "code",
   "execution_count": 12,
   "id": "d7cec660",
   "metadata": {},
   "outputs": [
    {
     "name": "stdout",
     "output_type": "stream",
     "text": [
      "features selecionadas: [0, 1, 2, 3, 4, 6, 7, 8, 9, 10, 11, 12, 13, 14, 15, 16, 17, 18, 19, 20, 21], best score: -0.0008504228793504531\n"
     ]
    }
   ],
   "source": [
    "print(f\"features selecionadas: {selector2.selected_features}, best score: {selector2.best_scores[-1]}\")"
   ]
  }
 ],
 "metadata": {
  "kernelspec": {
   "display_name": "IA_venv",
   "language": "python",
   "name": "python3"
  },
  "language_info": {
   "codemirror_mode": {
    "name": "ipython",
    "version": 3
   },
   "file_extension": ".py",
   "mimetype": "text/x-python",
   "name": "python",
   "nbconvert_exporter": "python",
   "pygments_lexer": "ipython3",
   "version": "3.13.3"
  }
 },
 "nbformat": 4,
 "nbformat_minor": 5
}
