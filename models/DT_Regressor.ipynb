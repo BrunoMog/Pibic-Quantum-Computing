{
 "cells": [
  {
   "cell_type": "code",
   "execution_count": 43,
   "id": "fcca8489",
   "metadata": {},
   "outputs": [],
   "source": [
    "import ast\n",
    "import numpy as np\n",
    "from sklearn.model_selection import cross_val_score\n",
    "from sklearn.tree import DecisionTreeRegressor\n",
    "import pandas as pd\n",
    "from sklearn.model_selection import KFold\n",
    "import joblib"
   ]
  },
  {
   "cell_type": "code",
   "execution_count": 44,
   "id": "2306a2fd",
   "metadata": {},
   "outputs": [],
   "source": [
    "# abrindo os dados de treinamento\n",
    "df = pd.read_csv(\"./../ansatz_result/data.csv\")\n",
    "X = df.drop(columns=[\"target\"]).to_numpy()\n",
    "y = pd.DataFrame(df['target'].apply(ast.literal_eval).tolist()).to_numpy()"
   ]
  },
  {
   "cell_type": "code",
   "execution_count": 45,
   "id": "da769c3b",
   "metadata": {},
   "outputs": [
    {
     "name": "stdout",
     "output_type": "stream",
     "text": [
      "0.7\n"
     ]
    }
   ],
   "source": [
    "print(y[0][0])"
   ]
  },
  {
   "cell_type": "code",
   "execution_count": 46,
   "id": "f00bb36f",
   "metadata": {},
   "outputs": [
    {
     "name": "stdout",
     "output_type": "stream",
     "text": [
      "Scores: [0.77098979 0.72907267 0.77288125]\n",
      "Média: 0.7576479027426459\n",
      "Desvio padrão: 0.020220491574825535\n"
     ]
    }
   ],
   "source": [
    "# criando kfold\n",
    "kf = KFold(n_splits=3, shuffle=True, random_state=42)\n",
    "\n",
    "#realizando validação cruzada\n",
    "\n",
    "dt_regressor = DecisionTreeRegressor(random_state=45)\n",
    "\n",
    "score = cross_val_score(dt_regressor, X, y, cv=kf)\n",
    "\n",
    "print(\"Scores:\", score)\n",
    "print(\"Média:\", score.mean())\n",
    "print(\"Desvio padrão:\", score.std())"
   ]
  },
  {
   "cell_type": "code",
   "execution_count": null,
   "id": "cd18400e",
   "metadata": {},
   "outputs": [
    {
     "data": {
      "text/plain": [
       "['./dt_regressor_treinado.joblib']"
      ]
     },
     "execution_count": 47,
     "metadata": {},
     "output_type": "execute_result"
    }
   ],
   "source": [
    "# treinando e salvando o modelo\n",
    "dt_regressor.fit(X, y)\n",
    "\n",
    "joblib.dump(dt_regressor, './models_salvos/dt_regressor_treinado.joblib')"
   ]
  }
 ],
 "metadata": {
  "kernelspec": {
   "display_name": "IA_venv",
   "language": "python",
   "name": "python3"
  },
  "language_info": {
   "codemirror_mode": {
    "name": "ipython",
    "version": 3
   },
   "file_extension": ".py",
   "mimetype": "text/x-python",
   "name": "python",
   "nbconvert_exporter": "python",
   "pygments_lexer": "ipython3",
   "version": "3.13.2"
  }
 },
 "nbformat": 4,
 "nbformat_minor": 5
}
