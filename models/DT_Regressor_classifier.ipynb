{
 "cells": [
  {
   "cell_type": "code",
   "execution_count": 40,
   "id": "a2f8a29b",
   "metadata": {},
   "outputs": [],
   "source": [
    "import ast\n",
    "import numpy as np\n",
    "from sklearn.model_selection import cross_val_score\n",
    "from sklearn.tree import DecisionTreeRegressor\n",
    "from sklearn.model_selection import GridSearchCV\n",
    "import pandas as pd\n",
    "from sklearn.model_selection import KFold\n",
    "import joblib"
   ]
  },
  {
   "cell_type": "code",
   "execution_count": null,
   "id": "1072e759",
   "metadata": {},
   "outputs": [],
   "source": [
    "# abrindo os dados de treinamento\n",
    "df = pd.read_csv(\"./../ansatz_result/data.csv\")\n",
    "X = df.drop(columns=[\"target\"]).to_numpy()\n",
    "y = pd.DataFrame(df['target'].apply(ast.literal_eval).tolist()).to_numpy()\n",
    "\n",
    "\"\"\"\n",
    "pra esse modelo eu testei 2 formas do target.\n",
    "a primeira, sendo uma lista de 30 valores, com cada um deles representando a acurácia do ansatz.\n",
    "e o target de cada ansatz é definido pelo seu valor dividido pela soma da acurácia de todos os ansatz\n",
    "a segunda forma do target, é uma lista de 30 valores, preenchidos com 0.0, exceto no ansatz que teve a melhor \n",
    "acurácia.\n",
    "ambas geraram outputs distintos para o mesmo caso, que seria a entrada de index 6 dos dados, e tiveram scores\n",
    "diferentes em suas validações cruzadas.\n",
    "a primeira forma teve score aproximado de 0.8, e apresentou os ansatz 14, 11, 20 como melhores,\n",
    "não posso afirmar que são probabilidades o output desse modelo já que provavelmente essa soma de valores ultrapassa 1\n",
    "na segunda forma teve score muito baixo de 0.08, e apresentou os ansatz 0, 2, 11 como melhores.\n",
    "a segunda forma apresentou resultados muito aproximados do classifier olhando os melhores ansatz, que foi 0, 2, 8\n",
    "irei validar posteriormente os resultados e farei testes para os 2 casos de inputs e ver qual foi a melhor forma no final\n",
    "por enquanto apenas a primeira será utilizada\n",
    "\"\"\"\n",
    "#primeira\n",
    "y_prob = y / y.sum(axis=1, keepdims=True)\n",
    "\n",
    "#segunda\n",
    "y_best_ansatz = np.argmax(y, axis=1)  # Retorna índices 0-29\n",
    "\n",
    "y = np.zeros(shape=(360, 30), dtype=np.float64)\n",
    "\n",
    "for i in range(360):\n",
    "    y[i][y_best_ansatz[i]] = 1.0"
   ]
  },
  {
   "cell_type": "code",
   "execution_count": 42,
   "id": "a4a7df41",
   "metadata": {},
   "outputs": [
    {
     "name": "stdout",
     "output_type": "stream",
     "text": [
      "Melhores parâmetros: {'criterion': 'squared_error', 'max_depth': 5, 'min_samples_leaf': 10, 'min_samples_split': 2}\n"
     ]
    }
   ],
   "source": [
    "# criando kfold\n",
    "kf = KFold(n_splits=3, shuffle=True, random_state=42)\n",
    "\n",
    "# Definir os parâmetros a testar\n",
    "param_grid = {\n",
    "    'max_depth': [3, 5, 7, None],\n",
    "    'min_samples_split': [2, 5, 10, 15, 20, 25, 30],\n",
    "    'min_samples_leaf': [1, 2, 4, 5,  10, 15, 20, 30, 35, 40],\n",
    "    'criterion': ['squared_error', 'friedman_mse']\n",
    "}\n",
    "\n",
    "dt_regressor_classifier = DecisionTreeRegressor(random_state=45)\n",
    "\n",
    "grid_search = GridSearchCV(dt_regressor_classifier, param_grid, cv=kf, scoring='neg_mean_squared_error', n_jobs=12)\n",
    "\n",
    "grid_search.fit(X, y_prob)\n",
    "\n",
    "# Melhores parâmetros\n",
    "print(\"Melhores parâmetros:\", grid_search.best_params_)"
   ]
  },
  {
   "cell_type": "code",
   "execution_count": 43,
   "id": "fa8198d4",
   "metadata": {},
   "outputs": [
    {
     "name": "stdout",
     "output_type": "stream",
     "text": [
      "Scores: [0.80291593 0.80676946 0.77695103]\n",
      "Média: 0.7955454737531786\n",
      "Desvio padrão: 0.013242037984241688\n"
     ]
    }
   ],
   "source": [
    "# Usar os melhores parâmetros encontrados para validação cruzada\n",
    "best_dt_regressor_classifier = grid_search.best_estimator_\n",
    "\n",
    "score = cross_val_score(best_dt_regressor_classifier, X, y_prob, cv=kf)\n",
    "print(\"Scores:\", score)\n",
    "print(\"Média:\", score.mean())\n",
    "print(\"Desvio padrão:\", score.std())\n"
   ]
  },
  {
   "cell_type": "code",
   "execution_count": 44,
   "id": "d834cc40",
   "metadata": {},
   "outputs": [
    {
     "name": "stdout",
     "output_type": "stream",
     "text": [
      "Top-3 Ansatz: [14 11 20] com probabilidades [0.03719537 0.03694778 0.03689234]\n"
     ]
    }
   ],
   "source": [
    "# treinando o dt classifier e obtendo os top3 ansatz mais classificados\n",
    "best_dt_regressor_classifier.fit(X, y_prob)\n",
    "\n",
    "\n",
    "# 3. Prever e rankear\n",
    "def predict_rank_ansatz(model, X_new, k=3):\n",
    "    probas = model.predict(X_new.reshape(1, -1))[0]\n",
    "    topk = np.argsort(probas)[-k:][::-1]\n",
    "    return topk, probas[topk]\n",
    "\n",
    "# Rankear os top-3 ansatz com maiores probabilidades\n",
    "top3_idx, top3_probs = predict_rank_ansatz(best_dt_regressor_classifier, X[6])\n",
    "\n",
    "print(f\"Top-3 Ansatz: {top3_idx} com probabilidades {top3_probs}\")"
   ]
  },
  {
   "cell_type": "code",
   "execution_count": 45,
   "id": "dbb4ef39",
   "metadata": {},
   "outputs": [
    {
     "data": {
      "text/plain": [
       "['./models_salvos/dt_regressor_classifier.joblib']"
      ]
     },
     "execution_count": 45,
     "metadata": {},
     "output_type": "execute_result"
    },
    {
     "name": "stderr",
     "output_type": "stream",
     "text": [
      "Exception ignored in: <function ResourceTracker.__del__ at 0x7395eae92de0>\n",
      "Traceback (most recent call last):\n",
      "  File \"/usr/lib/python3.13/multiprocessing/resource_tracker.py\", line 82, in __del__\n",
      "  File \"/usr/lib/python3.13/multiprocessing/resource_tracker.py\", line 91, in _stop\n",
      "  File \"/usr/lib/python3.13/multiprocessing/resource_tracker.py\", line 116, in _stop_locked\n",
      "ChildProcessError: [Errno 10] No child processes\n",
      "Exception ignored in: <function ResourceTracker.__del__ at 0x761176e7ade0>\n",
      "Traceback (most recent call last):\n",
      "  File \"/usr/lib/python3.13/multiprocessing/resource_tracker.py\", line 82, in __del__\n",
      "  File \"/usr/lib/python3.13/multiprocessing/resource_tracker.py\", line 91, in _stop\n",
      "  File \"/usr/lib/python3.13/multiprocessing/resource_tracker.py\", line 116, in _stop_locked\n",
      "ChildProcessError: [Errno 10] No child processes\n",
      "Exception ignored in: <function ResourceTracker.__del__ at 0x7083da486de0>\n",
      "Traceback (most recent call last):\n",
      "  File \"/usr/lib/python3.13/multiprocessing/resource_tracker.py\", line 82, in __del__\n",
      "  File \"/usr/lib/python3.13/multiprocessing/resource_tracker.py\", line 91, in _stop\n",
      "  File \"/usr/lib/python3.13/multiprocessing/resource_tracker.py\", line 116, in _stop_locked\n",
      "ChildProcessError: [Errno 10] No child processes\n",
      "Exception ignored in: <function ResourceTracker.__del__ at 0x77dc2c882de0>\n",
      "Traceback (most recent call last):\n",
      "  File \"/usr/lib/python3.13/multiprocessing/resource_tracker.py\", line 82, in __del__\n",
      "  File \"/usr/lib/python3.13/multiprocessing/resource_tracker.py\", line 91, in _stop\n",
      "  File \"/usr/lib/python3.13/multiprocessing/resource_tracker.py\", line 116, in _stop_locked\n",
      "ChildProcessError: [Errno 10] No child processes\n",
      "Exception ignored in: <function ResourceTracker.__del__ at 0x70ed99b7ede0>\n",
      "Traceback (most recent call last):\n",
      "  File \"/usr/lib/python3.13/multiprocessing/resource_tracker.py\", line 82, in __del__\n",
      "  File \"/usr/lib/python3.13/multiprocessing/resource_tracker.py\", line 91, in _stop\n",
      "  File \"/usr/lib/python3.13/multiprocessing/resource_tracker.py\", line 116, in _stop_locked\n",
      "ChildProcessError: [Errno 10] No child processes\n",
      "Exception ignored in: <function ResourceTracker.__del__ at 0x79b59a28ede0>\n",
      "Traceback (most recent call last):\n",
      "  File \"/usr/lib/python3.13/multiprocessing/resource_tracker.py\", line 82, in __del__\n",
      "  File \"/usr/lib/python3.13/multiprocessing/resource_tracker.py\", line 91, in _stop\n",
      "  File \"/usr/lib/python3.13/multiprocessing/resource_tracker.py\", line 116, in _stop_locked\n",
      "ChildProcessError: [Errno 10] No child processes\n",
      "Exception ignored in: <function ResourceTracker.__del__ at 0x7f571f87ade0>\n",
      "Traceback (most recent call last):\n",
      "  File \"/usr/lib/python3.13/multiprocessing/resource_tracker.py\", line 82, in __del__\n",
      "  File \"/usr/lib/python3.13/multiprocessing/resource_tracker.py\", line 91, in _stop\n",
      "  File \"/usr/lib/python3.13/multiprocessing/resource_tracker.py\", line 116, in _stop_locked\n",
      "ChildProcessError: [Errno 10] No child processes\n",
      "Exception ignored in: <function ResourceTracker.__del__ at 0x7fe695082de0>\n",
      "Traceback (most recent call last):\n",
      "  File \"/usr/lib/python3.13/multiprocessing/resource_tracker.py\", line 82, in __del__\n",
      "  File \"/usr/lib/python3.13/multiprocessing/resource_tracker.py\", line 91, in _stop\n",
      "  File \"/usr/lib/python3.13/multiprocessing/resource_tracker.py\", line 116, in _stop_locked\n",
      "ChildProcessError: [Errno 10] No child processes\n",
      "Exception ignored in: <function ResourceTracker.__del__ at 0x72bc4498ede0>\n",
      "Traceback (most recent call last):\n",
      "  File \"/usr/lib/python3.13/multiprocessing/resource_tracker.py\", line 82, in __del__\n",
      "  File \"/usr/lib/python3.13/multiprocessing/resource_tracker.py\", line 91, in _stop\n",
      "  File \"/usr/lib/python3.13/multiprocessing/resource_tracker.py\", line 116, in _stop_locked\n",
      "ChildProcessError: [Errno 10] No child processes\n",
      "Exception ignored in: <function ResourceTracker.__del__ at 0x76d933c92de0>\n",
      "Traceback (most recent call last):\n",
      "  File \"/usr/lib/python3.13/multiprocessing/resource_tracker.py\", line 82, in __del__\n",
      "  File \"/usr/lib/python3.13/multiprocessing/resource_tracker.py\", line 91, in _stop\n",
      "  File \"/usr/lib/python3.13/multiprocessing/resource_tracker.py\", line 116, in _stop_locked\n",
      "ChildProcessError: [Errno 10] No child processes\n",
      "Exception ignored in: <function ResourceTracker.__del__ at 0x7ae9a068ade0>\n",
      "Traceback (most recent call last):\n",
      "  File \"/usr/lib/python3.13/multiprocessing/resource_tracker.py\", line 82, in __del__\n",
      "  File \"/usr/lib/python3.13/multiprocessing/resource_tracker.py\", line 91, in _stop\n",
      "  File \"/usr/lib/python3.13/multiprocessing/resource_tracker.py\", line 116, in _stop_locked\n",
      "ChildProcessError: [Errno 10] No child processes\n",
      "Exception ignored in: <function ResourceTracker.__del__ at 0x7f192b08ede0>\n",
      "Traceback (most recent call last):\n",
      "  File \"/usr/lib/python3.13/multiprocessing/resource_tracker.py\", line 82, in __del__\n",
      "  File \"/usr/lib/python3.13/multiprocessing/resource_tracker.py\", line 91, in _stop\n",
      "  File \"/usr/lib/python3.13/multiprocessing/resource_tracker.py\", line 116, in _stop_locked\n",
      "ChildProcessError: [Errno 10] No child processes\n"
     ]
    }
   ],
   "source": [
    "# salvar o modelo treinado\n",
    "joblib.dump(best_dt_regressor_classifier, './models_salvos/dt_regressor_classifier.joblib')"
   ]
  }
 ],
 "metadata": {
  "kernelspec": {
   "display_name": "IA_venv",
   "language": "python",
   "name": "python3"
  },
  "language_info": {
   "codemirror_mode": {
    "name": "ipython",
    "version": 3
   },
   "file_extension": ".py",
   "mimetype": "text/x-python",
   "name": "python",
   "nbconvert_exporter": "python",
   "pygments_lexer": "ipython3",
   "version": "3.13.2"
  }
 },
 "nbformat": 4,
 "nbformat_minor": 5
}
