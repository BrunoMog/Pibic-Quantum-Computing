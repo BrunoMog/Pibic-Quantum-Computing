{
 "cells": [
  {
   "cell_type": "code",
   "execution_count": null,
   "id": "a2f8a29b",
   "metadata": {},
   "outputs": [],
   "source": [
    "import ast\n",
    "import numpy as np\n",
    "from sklearn.model_selection import cross_val_score\n",
    "from sklearn.tree import DecisionTreeRegressor\n",
    "from sklearn.model_selection import GridSearchCV\n",
    "import pandas as pd\n",
    "from sklearn.model_selection import KFold\n",
    "import joblib"
   ]
  },
  {
   "cell_type": "code",
   "execution_count": 73,
   "id": "1072e759",
   "metadata": {},
   "outputs": [],
   "source": [
    "# abrindo os dados de treinamento\n",
    "df = pd.read_csv(\"./../ansatz_result/data.csv\")\n",
    "X = df.drop(columns=[\"target\"]).to_numpy()\n",
    "y = pd.DataFrame(df['target'].apply(ast.literal_eval).tolist()).to_numpy()\n",
    "\n",
    "# y será uma lista de probabilidades com o melhor ansatz\n",
    "# essa probabilidade de cada ansatz i sera definida como prob(i) = ansatz(i)/soma de todos os ansatz\n",
    "y_prob = y / y.sum(axis=1, keepdims=True)"
   ]
  },
  {
   "cell_type": "code",
   "execution_count": 74,
   "id": "a4a7df41",
   "metadata": {},
   "outputs": [
    {
     "name": "stdout",
     "output_type": "stream",
     "text": [
      "Melhores parâmetros: {'criterion': 'squared_error', 'max_depth': 5, 'min_samples_leaf': 10, 'min_samples_split': 2}\n"
     ]
    }
   ],
   "source": [
    "# criando kfold\n",
    "kf = KFold(n_splits=3, shuffle=True, random_state=42)\n",
    "\n",
    "# Definir os parâmetros a testar\n",
    "param_grid = {\n",
    "    'max_depth': [3, 5, 7, None],\n",
    "    'min_samples_split': [2, 5, 10, 15, 20, 25, 30],\n",
    "    'min_samples_leaf': [1, 2, 4, 5,  10, 15, 20, 30, 35, 40],\n",
    "    'criterion': ['squared_error', 'friedman_mse']\n",
    "}\n",
    "\n",
    "dt_regressor_classifier = DecisionTreeRegressor(random_state=45)\n",
    "\n",
    "grid_search = GridSearchCV(dt_regressor_classifier, param_grid, cv=kf, scoring='neg_mean_squared_error', n_jobs=12)\n",
    "\n",
    "grid_search.fit(X, y_prob)\n",
    "\n",
    "# Melhores parâmetros\n",
    "print(\"Melhores parâmetros:\", grid_search.best_params_)"
   ]
  },
  {
   "cell_type": "code",
   "execution_count": 75,
   "id": "fa8198d4",
   "metadata": {},
   "outputs": [
    {
     "name": "stdout",
     "output_type": "stream",
     "text": [
      "Scores: [0.80291593 0.80676946 0.77695103]\n",
      "Média: 0.7955454737531786\n",
      "Desvio padrão: 0.013242037984241688\n"
     ]
    }
   ],
   "source": [
    "# Usar os melhores parâmetros encontrados para validação cruzada\n",
    "best_dt_regressor_classifier = grid_search.best_estimator_\n",
    "\n",
    "score = cross_val_score(best_dt_regressor_classifier, X, y_prob, cv=kf)\n",
    "print(\"Scores:\", score)\n",
    "print(\"Média:\", score.mean())\n",
    "print(\"Desvio padrão:\", score.std())\n"
   ]
  },
  {
   "cell_type": "code",
   "execution_count": 76,
   "id": "d834cc40",
   "metadata": {},
   "outputs": [
    {
     "name": "stdout",
     "output_type": "stream",
     "text": [
      "Top-3 Ansatz: [14 11 20] com probabilidades [0.03719537 0.03694778 0.03689234]\n"
     ]
    }
   ],
   "source": [
    "# treinando o dt classifier e obtendo os top3 ansatz mais classificados\n",
    "best_dt_regressor_classifier.fit(X, y_prob)\n",
    "\n",
    "\n",
    "# 3. Prever e rankear\n",
    "def predict_rank_ansatz(model, X_new, k=3):\n",
    "    probas = model.predict(X_new.reshape(1, -1))[0]\n",
    "    topk = np.argsort(probas)[-k:][::-1]\n",
    "    return topk, probas[topk]\n",
    "\n",
    "# Rankear os top-3 ansatz com maiores probabilidades\n",
    "top3_idx, top3_probs = predict_rank_ansatz(best_dt_regressor_classifier, X[6])\n",
    "\n",
    "print(f\"Top-3 Ansatz: {top3_idx} com probabilidades {top3_probs}\")"
   ]
  },
  {
   "cell_type": "code",
   "execution_count": 77,
   "id": "dbb4ef39",
   "metadata": {},
   "outputs": [
    {
     "data": {
      "text/plain": [
       "['./models_salvos/dt_regressor_classifier.joblib']"
      ]
     },
     "execution_count": 77,
     "metadata": {},
     "output_type": "execute_result"
    }
   ],
   "source": [
    "# salvar o modelo treinado\n",
    "joblib.dump(best_dt_regressor_classifier, './models_salvos/dt_regressor_classifier.joblib')"
   ]
  }
 ],
 "metadata": {
  "kernelspec": {
   "display_name": "IA_venv",
   "language": "python",
   "name": "python3"
  },
  "language_info": {
   "codemirror_mode": {
    "name": "ipython",
    "version": 3
   },
   "file_extension": ".py",
   "mimetype": "text/x-python",
   "name": "python",
   "nbconvert_exporter": "python",
   "pygments_lexer": "ipython3",
   "version": "3.13.2"
  }
 },
 "nbformat": 4,
 "nbformat_minor": 5
}
