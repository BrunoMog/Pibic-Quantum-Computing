{
 "cells": [
  {
   "cell_type": "code",
   "execution_count": 37,
   "id": "a2f8a29b",
   "metadata": {},
   "outputs": [],
   "source": [
    "import ast\n",
    "import numpy as np\n",
    "from sklearn.model_selection import cross_val_score\n",
    "from sklearn.tree import DecisionTreeRegressor\n",
    "import pandas as pd\n",
    "from sklearn.model_selection import KFold\n",
    "import joblib"
   ]
  },
  {
   "cell_type": "code",
   "execution_count": 38,
   "id": "1072e759",
   "metadata": {},
   "outputs": [],
   "source": [
    "# abrindo os dados de treinamento\n",
    "df = pd.read_csv(\"./../ansatz_result/data.csv\")\n",
    "X = df.drop(columns=[\"target\"]).to_numpy()\n",
    "y = pd.DataFrame(df['target'].apply(ast.literal_eval).tolist()).to_numpy()\n",
    "\n",
    "# y será uma lista de probabilidades com o melhor ansatz\n",
    "# essa probabilidade de cada ansatz i sera definida como prob(i) = ansatz(i)/soma de todos os ansatz\n",
    "y_prob = y / y.sum(axis=1, keepdims=True)"
   ]
  },
  {
   "cell_type": "code",
   "execution_count": 39,
   "id": "fa8198d4",
   "metadata": {},
   "outputs": [
    {
     "name": "stdout",
     "output_type": "stream",
     "text": [
      "Scores: [0.77098979 0.72907267 0.77288125]\n",
      "Média: 0.7576479027426459\n",
      "Desvio padrão: 0.020220491574825535\n"
     ]
    }
   ],
   "source": [
    "# criando kfold\n",
    "kf = KFold(n_splits=3, shuffle=True, random_state=42)\n",
    "\n",
    "#realizando validação cruzada\n",
    "\n",
    "dt_regressor_classifier = DecisionTreeRegressor(random_state=45)\n",
    "\n",
    "score = cross_val_score(dt_regressor_classifier, X, y, cv=kf)\n",
    "\n",
    "print(\"Scores:\", score)\n",
    "print(\"Média:\", score.mean())\n",
    "print(\"Desvio padrão:\", score.std())"
   ]
  },
  {
   "cell_type": "code",
   "execution_count": 40,
   "id": "d834cc40",
   "metadata": {},
   "outputs": [
    {
     "name": "stdout",
     "output_type": "stream",
     "text": [
      "Top-3 Ansatz: [20  0  4] com probabilidades [0.03810976 0.03810976 0.03810976]\n"
     ]
    }
   ],
   "source": [
    "# treinando o dt classifier e obtendo os top3 ansatz mais classificados\n",
    "dt_regressor_classifier.fit(X, y_prob)\n",
    "\n",
    "\n",
    "# 3. Prever e rankear\n",
    "def predict_rank_ansatz(model, X_new, k=3):\n",
    "    probas = model.predict(X_new.reshape(1, -1))[0]\n",
    "    topk = np.argsort(probas)[-k:][::-1]\n",
    "    return topk, probas[topk]\n",
    "\n",
    "# Rankear os top-3 ansatz com maiores probabilidades\n",
    "top3_idx, top3_probs = predict_rank_ansatz(dt_regressor_classifier, X[6])\n",
    "\n",
    "print(f\"Top-3 Ansatz: {top3_idx} com probabilidades {top3_probs}\")"
   ]
  },
  {
   "cell_type": "code",
   "execution_count": null,
   "id": "dbb4ef39",
   "metadata": {},
   "outputs": [
    {
     "data": {
      "text/plain": [
       "['./dt_regressor_classifier.joblib']"
      ]
     },
     "execution_count": 41,
     "metadata": {},
     "output_type": "execute_result"
    }
   ],
   "source": [
    "# salvar o modelo treinado\n",
    "joblib.dump(dt_regressor_classifier, './models_salvos/dt_regressor_classifier.joblib')"
   ]
  }
 ],
 "metadata": {
  "kernelspec": {
   "display_name": "IA_venv",
   "language": "python",
   "name": "python3"
  },
  "language_info": {
   "codemirror_mode": {
    "name": "ipython",
    "version": 3
   },
   "file_extension": ".py",
   "mimetype": "text/x-python",
   "name": "python",
   "nbconvert_exporter": "python",
   "pygments_lexer": "ipython3",
   "version": "3.13.3"
  }
 },
 "nbformat": 4,
 "nbformat_minor": 5
}
