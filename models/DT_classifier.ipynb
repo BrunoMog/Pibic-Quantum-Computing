{
 "cells": [
  {
   "cell_type": "code",
   "execution_count": 1,
   "id": "1da90dfa",
   "metadata": {},
   "outputs": [],
   "source": [
    "import sys\n",
    "import os\n",
    "sys.path.append(os.path.abspath(\"..\"))  # sobe um nível a partir da pasta models/"
   ]
  },
  {
   "cell_type": "code",
   "execution_count": null,
   "id": "6c179e12",
   "metadata": {},
   "outputs": [],
   "source": [
    "import ast\n",
    "import numpy as np\n",
    "from sklearn.model_selection import cross_val_score\n",
    "from sklearn.tree import DecisionTreeClassifier\n",
    "from sklearn.model_selection import GridSearchCV\n",
    "import pandas as pd\n",
    "from sklearn.model_selection import KFold\n",
    "import joblib\n",
    "from features_selection.Wrapper import ForwardFeatureSelector, BackwardFeatureSelector"
   ]
  },
  {
   "cell_type": "code",
   "execution_count": 3,
   "id": "cdb9e07f",
   "metadata": {},
   "outputs": [],
   "source": [
    "# abrindo os dados de treinamento\n",
    "df = pd.read_csv(\"./../ansatz_result/data.csv\")\n",
    "X = df.drop(columns=[\"target\"]).to_numpy()\n",
    "y = pd.DataFrame(df['target'].apply(ast.literal_eval).tolist()).to_numpy()\n",
    "\n",
    "# Para cada amostra, identificar o ansatz com maior acurácia\n",
    "y_best_ansatz = np.argmax(y, axis=1)  # Retorna índices 0-29\n"
   ]
  },
  {
   "cell_type": "code",
   "execution_count": 4,
   "id": "14166dde",
   "metadata": {},
   "outputs": [
    {
     "name": "stdout",
     "output_type": "stream",
     "text": [
      "[ 6  0  6  0 11 14  0 14 14  0  0  2  0  6  6 14  2  6  0 11  2 14 14 16\n",
      "  2  6  6  2 11  6 14  6 16 14 14 14 14  8 14  6  6 14  6 14  6  8 14  6\n",
      "  6  6 14  6  6  6  6  6  8  6 14  0  6  6  6  6  6  1  6  6  6  2  6  6\n",
      "  6  6  6  6  6  2  2  6  6  6  6  6  6  6  2  6  2  6 13  0 12  0  7  7\n",
      "  7  8  0  7  7 12  7  8 21 12 13  7  7  7 12 17  7 13 21  7  7  7  6  7\n",
      "  6 14  6 25  6  6  1 14  1  6  6  6  6 14 16  6  6  6  6  6  6  6 14  1\n",
      "  6  6  6 14  6 14  6  6 14 14 14  6 14 14  6  6  6  6 14  6  6  6  6  6\n",
      " 14  6  6  6  6 14  6  6  6  6  6  6 19 20  3 22 11 19  1  6 20 29 20  0\n",
      "  0 19 28 29  6 11  6 27  7 17 20 26  0 22 17  3  0 29 13  2 27  0  7 10\n",
      " 24 24 20  6 10 22 24 22 10 10 14  8 15 17 10 22  6  0 11  2 12 22 27 20\n",
      "  2  0 15  0 29 10 12  2 17  6  3 29 16  0 11  0  0  7  7  0  6 10 14  0\n",
      "  6  6  0  3 10  0  2 11 16 18  2 18 29  6 13 16 16 16 22  0 16 23  6 16\n",
      " 20 18 18 16 16  0 11 16 16 17 16 20  6  8  3 11 11  6 22  3 22  0 29 11\n",
      "  0 20  2  6 22 28 29  0 12 27 11 26 29 27 28  0 12 12 16 14 27 22 22  6\n",
      " 23 26 11 29 11  0  6 10  7  9 20 29  2  2 25  6 20 16 27 20 20  0 10 22]\n"
     ]
    }
   ],
   "source": [
    "print(y_best_ansatz)"
   ]
  },
  {
   "cell_type": "code",
   "execution_count": 5,
   "id": "1b00a17c",
   "metadata": {},
   "outputs": [
    {
     "name": "stdout",
     "output_type": "stream",
     "text": [
      "Melhores parâmetros: {'criterion': 'gini', 'max_depth': None, 'min_samples_leaf': 2, 'min_samples_split': 30}\n"
     ]
    }
   ],
   "source": [
    "# criando kfold\n",
    "kf = KFold(n_splits=3, shuffle=True, random_state=42)\n",
    "\n",
    "# Definir os parâmetros a testar\n",
    "param_grid = {\n",
    "    'max_depth': [3, 5, 7, None],\n",
    "    'min_samples_split': [2, 5, 10, 15, 20, 25, 30],\n",
    "    'min_samples_leaf': [1, 2, 4, 5,  10, 15, 20, 30, 35, 40],\n",
    "    'criterion': ['gini', 'entropy']\n",
    "}\n",
    "\n",
    "dt_classifier = DecisionTreeClassifier(random_state=45)\n",
    "\n",
    "grid_search = GridSearchCV(dt_classifier, param_grid, cv=kf, scoring='accuracy', n_jobs=12)\n",
    "\n",
    "grid_search.fit(X, y_best_ansatz)\n",
    "\n",
    "# Melhores parâmetros\n",
    "print(\"Melhores parâmetros:\", grid_search.best_params_)"
   ]
  },
  {
   "cell_type": "code",
   "execution_count": 6,
   "id": "04c81747",
   "metadata": {},
   "outputs": [
    {
     "name": "stdout",
     "output_type": "stream",
     "text": [
      "Scores: [0.35833333 0.35833333 0.35      ]\n",
      "Média: 0.35555555555555557\n",
      "Desvio padrão: 0.003928371006591943\n"
     ]
    }
   ],
   "source": [
    "# Usar os melhores parâmetros encontrados para validação cruzada\n",
    "best_dt_classifier = grid_search.best_estimator_\n",
    "\n",
    "score = cross_val_score(best_dt_classifier, X, y_best_ansatz, cv=kf, scoring='accuracy')\n",
    "print(\"Scores:\", score)\n",
    "print(\"Média:\", score.mean())\n",
    "print(\"Desvio padrão:\", score.std())"
   ]
  },
  {
   "cell_type": "code",
   "execution_count": 7,
   "id": "23d0e17a",
   "metadata": {},
   "outputs": [
    {
     "name": "stdout",
     "output_type": "stream",
     "text": [
      "Top-3 Ansatz Previstos:\n",
      "Ansatz 0 (Probabilidade: 0.52)\n",
      "Ansatz 2 (Probabilidade: 0.15)\n",
      "Ansatz 8 (Probabilidade: 0.11)\n"
     ]
    }
   ],
   "source": [
    "# treinando o dt classifier e obtendo os top3 ansatz mais classificados\n",
    "best_dt_classifier.fit(X, y_best_ansatz)\n",
    "\n",
    "# Obter probabilidades de cada ansatz dado o input 6\n",
    "probabilidades = best_dt_classifier.predict_proba(X)[6]\n",
    "\n",
    "# Rankear os top-3 ansatz com maiores probabilidades\n",
    "top3_indices = np.argsort(probabilidades)[-3:][::-1]  # Ordem decrescente\n",
    "top3_ansatz = [(idx, probabilidades[idx]) for idx in top3_indices]\n",
    "\n",
    "print(\"Top-3 Ansatz Previstos:\")\n",
    "for idx, prob in top3_ansatz:\n",
    "    print(f\"Ansatz {idx} (Probabilidade: {prob:.2f})\")\n"
   ]
  },
  {
   "cell_type": "code",
   "execution_count": 8,
   "id": "ce6d4b4a",
   "metadata": {},
   "outputs": [],
   "source": [
    "selector = ForwardFeatureSelector(\n",
    "    model=best_dt_classifier,\n",
    "    model_type='sklearn',\n",
    "    scoring='accuracy',\n",
    "    cv = 3,\n",
    "    verbose=1\n",
    ")"
   ]
  },
  {
   "cell_type": "code",
   "execution_count": 9,
   "id": "0b1ccb96",
   "metadata": {},
   "outputs": [
    {
     "name": "stdout",
     "output_type": "stream",
     "text": [
      "Testing feature set: [0]\n",
      "Testing feature set: [1]\n",
      "Testing feature set: [2]\n",
      "Testing feature set: [3]\n",
      "Testing feature set: [4]\n",
      "Testing feature set: [5]\n",
      "Testing feature set: [6]\n",
      "Testing feature set: [7]\n",
      "Testing feature set: [8]\n",
      "Testing feature set: [9]\n",
      "Testing feature set: [10]\n",
      "Testing feature set: [11]\n",
      "Testing feature set: [12]\n",
      "Testing feature set: [13]\n",
      "Testing feature set: [14]\n",
      "Testing feature set: [15]\n",
      "Testing feature set: [16]\n",
      "Testing feature set: [17]\n",
      "Testing feature set: [18]\n",
      "Testing feature set: [19]\n",
      "Testing feature set: [20]\n",
      "Testing feature set: [21]\n",
      "3\n",
      "0.3361111111111111\n",
      "Selected feature: 3 | Score: 0.3361\n",
      "Testing feature set: [3, 0]\n",
      "Testing feature set: [3, 1]\n",
      "Testing feature set: [3, 2]\n",
      "Testing feature set: [3, 4]\n",
      "Testing feature set: [3, 5]\n",
      "Testing feature set: [3, 6]\n",
      "Testing feature set: [3, 7]\n",
      "Testing feature set: [3, 8]\n",
      "Testing feature set: [3, 9]\n",
      "Testing feature set: [3, 10]\n",
      "Testing feature set: [3, 11]\n",
      "Testing feature set: [3, 12]\n",
      "Testing feature set: [3, 13]\n",
      "Testing feature set: [3, 14]\n",
      "Testing feature set: [3, 15]\n",
      "Testing feature set: [3, 16]\n",
      "Testing feature set: [3, 17]\n",
      "Testing feature set: [3, 18]\n",
      "Testing feature set: [3, 19]\n",
      "Testing feature set: [3, 20]\n",
      "Testing feature set: [3, 21]\n",
      "7\n",
      "0.3527777777777778\n",
      "Selected feature: 7 | Score: 0.3528\n",
      "Testing feature set: [3, 7, 0]\n",
      "Testing feature set: [3, 7, 1]\n",
      "Testing feature set: [3, 7, 2]\n",
      "Testing feature set: [3, 7, 4]\n",
      "Testing feature set: [3, 7, 5]\n",
      "Testing feature set: [3, 7, 6]\n",
      "Testing feature set: [3, 7, 8]\n",
      "Testing feature set: [3, 7, 9]\n",
      "Testing feature set: [3, 7, 10]\n",
      "Testing feature set: [3, 7, 11]\n",
      "Testing feature set: [3, 7, 12]\n",
      "Testing feature set: [3, 7, 13]\n",
      "Testing feature set: [3, 7, 14]\n",
      "Testing feature set: [3, 7, 15]\n",
      "Testing feature set: [3, 7, 16]\n",
      "Testing feature set: [3, 7, 17]\n",
      "Testing feature set: [3, 7, 18]\n",
      "Testing feature set: [3, 7, 19]\n",
      "Testing feature set: [3, 7, 20]\n",
      "Testing feature set: [3, 7, 21]\n",
      "17\n",
      "0.3527777777777778\n"
     ]
    }
   ],
   "source": [
    "X_new = selector.fit_transform(X, y_best_ansatz)"
   ]
  },
  {
   "cell_type": "code",
   "execution_count": 17,
   "id": "781512ac",
   "metadata": {},
   "outputs": [
    {
     "name": "stdout",
     "output_type": "stream",
     "text": [
      "features selecionadas: [3, 7], best score: 0.3527777777777778\n"
     ]
    },
    {
     "name": "stderr",
     "output_type": "stream",
     "text": [
      "Exception ignored in: <function ResourceTracker.__del__ at 0x7e59edc7ede0>\n",
      "Traceback (most recent call last):\n",
      "  File \"/usr/lib/python3.13/multiprocessing/resource_tracker.py\", line 82, in __del__\n",
      "  File \"/usr/lib/python3.13/multiprocessing/resource_tracker.py\", line 91, in _stop\n",
      "  File \"/usr/lib/python3.13/multiprocessing/resource_tracker.py\", line 116, in _stop_locked\n",
      "ChildProcessError: [Errno 10] No child processes\n",
      "Exception ignored in: <function ResourceTracker.__del__ at 0x77a463e8ade0>\n",
      "Traceback (most recent call last):\n",
      "  File \"/usr/lib/python3.13/multiprocessing/resource_tracker.py\", line 82, in __del__\n",
      "  File \"/usr/lib/python3.13/multiprocessing/resource_tracker.py\", line 91, in _stop\n",
      "  File \"/usr/lib/python3.13/multiprocessing/resource_tracker.py\", line 116, in _stop_locked\n",
      "ChildProcessError: [Errno 10] No child processes\n",
      "Exception ignored in: <function ResourceTracker.__del__ at 0x785e8c57ade0>\n",
      "Traceback (most recent call last):\n",
      "  File \"/usr/lib/python3.13/multiprocessing/resource_tracker.py\", line 82, in __del__\n",
      "  File \"/usr/lib/python3.13/multiprocessing/resource_tracker.py\", line 91, in _stop\n",
      "  File \"/usr/lib/python3.13/multiprocessing/resource_tracker.py\", line 116, in _stop_locked\n",
      "ChildProcessError: [Errno 10] No child processes\n",
      "Exception ignored in: <function ResourceTracker.__del__ at 0x73c92b086de0>\n",
      "Traceback (most recent call last):\n",
      "  File \"/usr/lib/python3.13/multiprocessing/resource_tracker.py\", line 82, in __del__\n",
      "  File \"/usr/lib/python3.13/multiprocessing/resource_tracker.py\", line 91, in _stop\n",
      "  File \"/usr/lib/python3.13/multiprocessing/resource_tracker.py\", line 116, in _stop_locked\n",
      "ChildProcessError: [Errno 10] No child processes\n",
      "Exception ignored in: <function ResourceTracker.__del__ at 0x7b4918086de0>\n",
      "Traceback (most recent call last):\n",
      "  File \"/usr/lib/python3.13/multiprocessing/resource_tracker.py\", line 82, in __del__\n",
      "  File \"/usr/lib/python3.13/multiprocessing/resource_tracker.py\", line 91, in _stop\n",
      "  File \"/usr/lib/python3.13/multiprocessing/resource_tracker.py\", line 116, in _stop_locked\n",
      "ChildProcessError: [Errno 10] No child processes\n",
      "Exception ignored in: <function ResourceTracker.__del__ at 0x7b372188ede0>\n",
      "Traceback (most recent call last):\n",
      "  File \"/usr/lib/python3.13/multiprocessing/resource_tracker.py\", line 82, in __del__\n",
      "  File \"/usr/lib/python3.13/multiprocessing/resource_tracker.py\", line 91, in _stop\n",
      "  File \"/usr/lib/python3.13/multiprocessing/resource_tracker.py\", line 116, in _stop_locked\n",
      "ChildProcessError: [Errno 10] No child processes\n",
      "Exception ignored in: <function ResourceTracker.__del__ at 0x76ac7e08ade0>\n",
      "Traceback (most recent call last):\n",
      "  File \"/usr/lib/python3.13/multiprocessing/resource_tracker.py\", line 82, in __del__\n",
      "  File \"/usr/lib/python3.13/multiprocessing/resource_tracker.py\", line 91, in _stop\n",
      "  File \"/usr/lib/python3.13/multiprocessing/resource_tracker.py\", line 116, in _stop_locked\n",
      "ChildProcessError: [Errno 10] No child processes\n",
      "Exception ignored in: <function ResourceTracker.__del__ at 0x732494582de0>\n",
      "Traceback (most recent call last):\n",
      "  File \"/usr/lib/python3.13/multiprocessing/resource_tracker.py\", line 82, in __del__\n",
      "  File \"/usr/lib/python3.13/multiprocessing/resource_tracker.py\", line 91, in _stop\n",
      "  File \"/usr/lib/python3.13/multiprocessing/resource_tracker.py\", line 116, in _stop_locked\n",
      "ChildProcessError: [Errno 10] No child processes\n",
      "Exception ignored in: <function ResourceTracker.__del__ at 0x76b7fd082de0>\n",
      "Traceback (most recent call last):\n",
      "  File \"/usr/lib/python3.13/multiprocessing/resource_tracker.py\", line 82, in __del__\n",
      "  File \"/usr/lib/python3.13/multiprocessing/resource_tracker.py\", line 91, in _stop\n",
      "  File \"/usr/lib/python3.13/multiprocessing/resource_tracker.py\", line 116, in _stop_locked\n",
      "ChildProcessError: [Errno 10] No child processes\n",
      "Exception ignored in: <function ResourceTracker.__del__ at 0x7d099277ede0>\n",
      "Traceback (most recent call last):\n",
      "  File \"/usr/lib/python3.13/multiprocessing/resource_tracker.py\", line 82, in __del__\n",
      "  File \"/usr/lib/python3.13/multiprocessing/resource_tracker.py\", line 91, in _stop\n",
      "  File \"/usr/lib/python3.13/multiprocessing/resource_tracker.py\", line 116, in _stop_locked\n",
      "ChildProcessError: [Errno 10] No child processes\n",
      "Exception ignored in: <function ResourceTracker.__del__ at 0x7d2281786de0>\n",
      "Traceback (most recent call last):\n",
      "  File \"/usr/lib/python3.13/multiprocessing/resource_tracker.py\", line 82, in __del__\n",
      "  File \"/usr/lib/python3.13/multiprocessing/resource_tracker.py\", line 91, in _stop\n",
      "  File \"/usr/lib/python3.13/multiprocessing/resource_tracker.py\", line 116, in _stop_locked\n",
      "ChildProcessError: [Errno 10] No child processes\n",
      "Exception ignored in: <function ResourceTracker.__del__ at 0x7b3cebe8ede0>\n",
      "Traceback (most recent call last):\n",
      "  File \"/usr/lib/python3.13/multiprocessing/resource_tracker.py\", line 82, in __del__\n",
      "  File \"/usr/lib/python3.13/multiprocessing/resource_tracker.py\", line 91, in _stop\n",
      "  File \"/usr/lib/python3.13/multiprocessing/resource_tracker.py\", line 116, in _stop_locked\n",
      "ChildProcessError: [Errno 10] No child processes\n"
     ]
    }
   ],
   "source": [
    "print(f\"features selecionadas: {selector.selected_features}, best score: {selector.best_scores[-1]}\")"
   ]
  },
  {
   "cell_type": "code",
   "execution_count": 10,
   "id": "2b3990ea",
   "metadata": {},
   "outputs": [],
   "source": [
    "selector2 = BackwardFeatureSelector(\n",
    "    model=best_dt_classifier,\n",
    "    model_type='sklearn',\n",
    "    scoring='accuracy',\n",
    "    cv = 3,\n",
    "    verbose=1\n",
    ")"
   ]
  },
  {
   "cell_type": "code",
   "execution_count": 11,
   "id": "ec385b62",
   "metadata": {},
   "outputs": [
    {
     "name": "stdout",
     "output_type": "stream",
     "text": [
      "Testando subconjunto: [1, 2, 3, 4, 5, 6, 7, 8, 9, 10, 11, 12, 13, 14, 15, 16, 17, 18, 19, 20, 21]\n",
      "Testando subconjunto: [0, 2, 3, 4, 5, 6, 7, 8, 9, 10, 11, 12, 13, 14, 15, 16, 17, 18, 19, 20, 21]\n",
      "Testando subconjunto: [0, 1, 3, 4, 5, 6, 7, 8, 9, 10, 11, 12, 13, 14, 15, 16, 17, 18, 19, 20, 21]\n",
      "Testando subconjunto: [0, 1, 2, 4, 5, 6, 7, 8, 9, 10, 11, 12, 13, 14, 15, 16, 17, 18, 19, 20, 21]\n",
      "Testando subconjunto: [0, 1, 2, 3, 5, 6, 7, 8, 9, 10, 11, 12, 13, 14, 15, 16, 17, 18, 19, 20, 21]\n",
      "Testando subconjunto: [0, 1, 2, 3, 4, 6, 7, 8, 9, 10, 11, 12, 13, 14, 15, 16, 17, 18, 19, 20, 21]\n",
      "Testando subconjunto: [0, 1, 2, 3, 4, 5, 7, 8, 9, 10, 11, 12, 13, 14, 15, 16, 17, 18, 19, 20, 21]\n",
      "Testando subconjunto: [0, 1, 2, 3, 4, 5, 6, 8, 9, 10, 11, 12, 13, 14, 15, 16, 17, 18, 19, 20, 21]\n",
      "Testando subconjunto: [0, 1, 2, 3, 4, 5, 6, 7, 9, 10, 11, 12, 13, 14, 15, 16, 17, 18, 19, 20, 21]\n",
      "Testando subconjunto: [0, 1, 2, 3, 4, 5, 6, 7, 8, 10, 11, 12, 13, 14, 15, 16, 17, 18, 19, 20, 21]\n",
      "Testando subconjunto: [0, 1, 2, 3, 4, 5, 6, 7, 8, 9, 11, 12, 13, 14, 15, 16, 17, 18, 19, 20, 21]\n",
      "Testando subconjunto: [0, 1, 2, 3, 4, 5, 6, 7, 8, 9, 10, 12, 13, 14, 15, 16, 17, 18, 19, 20, 21]\n",
      "Testando subconjunto: [0, 1, 2, 3, 4, 5, 6, 7, 8, 9, 10, 11, 13, 14, 15, 16, 17, 18, 19, 20, 21]\n",
      "Testando subconjunto: [0, 1, 2, 3, 4, 5, 6, 7, 8, 9, 10, 11, 12, 14, 15, 16, 17, 18, 19, 20, 21]\n",
      "Testando subconjunto: [0, 1, 2, 3, 4, 5, 6, 7, 8, 9, 10, 11, 12, 13, 15, 16, 17, 18, 19, 20, 21]\n",
      "Testando subconjunto: [0, 1, 2, 3, 4, 5, 6, 7, 8, 9, 10, 11, 12, 13, 14, 16, 17, 18, 19, 20, 21]\n",
      "Testando subconjunto: [0, 1, 2, 3, 4, 5, 6, 7, 8, 9, 10, 11, 12, 13, 14, 15, 17, 18, 19, 20, 21]\n",
      "Testando subconjunto: [0, 1, 2, 3, 4, 5, 6, 7, 8, 9, 10, 11, 12, 13, 14, 15, 16, 18, 19, 20, 21]\n",
      "Testando subconjunto: [0, 1, 2, 3, 4, 5, 6, 7, 8, 9, 10, 11, 12, 13, 14, 15, 16, 17, 19, 20, 21]\n",
      "Testando subconjunto: [0, 1, 2, 3, 4, 5, 6, 7, 8, 9, 10, 11, 12, 13, 14, 15, 16, 17, 18, 20, 21]\n",
      "Testando subconjunto: [0, 1, 2, 3, 4, 5, 6, 7, 8, 9, 10, 11, 12, 13, 14, 15, 16, 17, 18, 19, 21]\n",
      "Testando subconjunto: [0, 1, 2, 3, 4, 5, 6, 7, 8, 9, 10, 11, 12, 13, 14, 15, 16, 17, 18, 19, 20]\n",
      "Removed feature: 16 | Score: 0.3361\n",
      "Testando subconjunto: [1, 2, 3, 4, 5, 6, 7, 8, 9, 10, 11, 12, 13, 14, 15, 17, 18, 19, 20, 21]\n",
      "Testando subconjunto: [0, 2, 3, 4, 5, 6, 7, 8, 9, 10, 11, 12, 13, 14, 15, 17, 18, 19, 20, 21]\n",
      "Testando subconjunto: [0, 1, 3, 4, 5, 6, 7, 8, 9, 10, 11, 12, 13, 14, 15, 17, 18, 19, 20, 21]\n",
      "Testando subconjunto: [0, 1, 2, 4, 5, 6, 7, 8, 9, 10, 11, 12, 13, 14, 15, 17, 18, 19, 20, 21]\n",
      "Testando subconjunto: [0, 1, 2, 3, 5, 6, 7, 8, 9, 10, 11, 12, 13, 14, 15, 17, 18, 19, 20, 21]\n",
      "Testando subconjunto: [0, 1, 2, 3, 4, 6, 7, 8, 9, 10, 11, 12, 13, 14, 15, 17, 18, 19, 20, 21]\n",
      "Testando subconjunto: [0, 1, 2, 3, 4, 5, 7, 8, 9, 10, 11, 12, 13, 14, 15, 17, 18, 19, 20, 21]\n",
      "Testando subconjunto: [0, 1, 2, 3, 4, 5, 6, 8, 9, 10, 11, 12, 13, 14, 15, 17, 18, 19, 20, 21]\n",
      "Testando subconjunto: [0, 1, 2, 3, 4, 5, 6, 7, 9, 10, 11, 12, 13, 14, 15, 17, 18, 19, 20, 21]\n",
      "Testando subconjunto: [0, 1, 2, 3, 4, 5, 6, 7, 8, 10, 11, 12, 13, 14, 15, 17, 18, 19, 20, 21]\n",
      "Testando subconjunto: [0, 1, 2, 3, 4, 5, 6, 7, 8, 9, 11, 12, 13, 14, 15, 17, 18, 19, 20, 21]\n",
      "Testando subconjunto: [0, 1, 2, 3, 4, 5, 6, 7, 8, 9, 10, 12, 13, 14, 15, 17, 18, 19, 20, 21]\n",
      "Testando subconjunto: [0, 1, 2, 3, 4, 5, 6, 7, 8, 9, 10, 11, 13, 14, 15, 17, 18, 19, 20, 21]\n",
      "Testando subconjunto: [0, 1, 2, 3, 4, 5, 6, 7, 8, 9, 10, 11, 12, 14, 15, 17, 18, 19, 20, 21]\n",
      "Testando subconjunto: [0, 1, 2, 3, 4, 5, 6, 7, 8, 9, 10, 11, 12, 13, 15, 17, 18, 19, 20, 21]\n",
      "Testando subconjunto: [0, 1, 2, 3, 4, 5, 6, 7, 8, 9, 10, 11, 12, 13, 14, 17, 18, 19, 20, 21]\n",
      "Testando subconjunto: [0, 1, 2, 3, 4, 5, 6, 7, 8, 9, 10, 11, 12, 13, 14, 15, 18, 19, 20, 21]\n",
      "Testando subconjunto: [0, 1, 2, 3, 4, 5, 6, 7, 8, 9, 10, 11, 12, 13, 14, 15, 17, 19, 20, 21]\n",
      "Testando subconjunto: [0, 1, 2, 3, 4, 5, 6, 7, 8, 9, 10, 11, 12, 13, 14, 15, 17, 18, 20, 21]\n",
      "Testando subconjunto: [0, 1, 2, 3, 4, 5, 6, 7, 8, 9, 10, 11, 12, 13, 14, 15, 17, 18, 19, 21]\n",
      "Testando subconjunto: [0, 1, 2, 3, 4, 5, 6, 7, 8, 9, 10, 11, 12, 13, 14, 15, 17, 18, 19, 20]\n",
      "Removed feature: 3 | Score: 0.3389\n",
      "Testando subconjunto: [1, 2, 4, 5, 6, 7, 8, 9, 10, 11, 12, 13, 14, 15, 17, 18, 19, 20, 21]\n",
      "Testando subconjunto: [0, 2, 4, 5, 6, 7, 8, 9, 10, 11, 12, 13, 14, 15, 17, 18, 19, 20, 21]\n",
      "Testando subconjunto: [0, 1, 4, 5, 6, 7, 8, 9, 10, 11, 12, 13, 14, 15, 17, 18, 19, 20, 21]\n",
      "Testando subconjunto: [0, 1, 2, 5, 6, 7, 8, 9, 10, 11, 12, 13, 14, 15, 17, 18, 19, 20, 21]\n",
      "Testando subconjunto: [0, 1, 2, 4, 6, 7, 8, 9, 10, 11, 12, 13, 14, 15, 17, 18, 19, 20, 21]\n",
      "Testando subconjunto: [0, 1, 2, 4, 5, 7, 8, 9, 10, 11, 12, 13, 14, 15, 17, 18, 19, 20, 21]\n",
      "Testando subconjunto: [0, 1, 2, 4, 5, 6, 8, 9, 10, 11, 12, 13, 14, 15, 17, 18, 19, 20, 21]\n",
      "Testando subconjunto: [0, 1, 2, 4, 5, 6, 7, 9, 10, 11, 12, 13, 14, 15, 17, 18, 19, 20, 21]\n",
      "Testando subconjunto: [0, 1, 2, 4, 5, 6, 7, 8, 10, 11, 12, 13, 14, 15, 17, 18, 19, 20, 21]\n",
      "Testando subconjunto: [0, 1, 2, 4, 5, 6, 7, 8, 9, 11, 12, 13, 14, 15, 17, 18, 19, 20, 21]\n",
      "Testando subconjunto: [0, 1, 2, 4, 5, 6, 7, 8, 9, 10, 12, 13, 14, 15, 17, 18, 19, 20, 21]\n",
      "Testando subconjunto: [0, 1, 2, 4, 5, 6, 7, 8, 9, 10, 11, 13, 14, 15, 17, 18, 19, 20, 21]\n",
      "Testando subconjunto: [0, 1, 2, 4, 5, 6, 7, 8, 9, 10, 11, 12, 14, 15, 17, 18, 19, 20, 21]\n",
      "Testando subconjunto: [0, 1, 2, 4, 5, 6, 7, 8, 9, 10, 11, 12, 13, 15, 17, 18, 19, 20, 21]\n",
      "Testando subconjunto: [0, 1, 2, 4, 5, 6, 7, 8, 9, 10, 11, 12, 13, 14, 17, 18, 19, 20, 21]\n",
      "Testando subconjunto: [0, 1, 2, 4, 5, 6, 7, 8, 9, 10, 11, 12, 13, 14, 15, 18, 19, 20, 21]\n",
      "Testando subconjunto: [0, 1, 2, 4, 5, 6, 7, 8, 9, 10, 11, 12, 13, 14, 15, 17, 19, 20, 21]\n",
      "Testando subconjunto: [0, 1, 2, 4, 5, 6, 7, 8, 9, 10, 11, 12, 13, 14, 15, 17, 18, 20, 21]\n",
      "Testando subconjunto: [0, 1, 2, 4, 5, 6, 7, 8, 9, 10, 11, 12, 13, 14, 15, 17, 18, 19, 21]\n",
      "Testando subconjunto: [0, 1, 2, 4, 5, 6, 7, 8, 9, 10, 11, 12, 13, 14, 15, 17, 18, 19, 20]\n",
      "Removed feature: 14 | Score: 0.3444\n",
      "Testando subconjunto: [1, 2, 4, 5, 6, 7, 8, 9, 10, 11, 12, 13, 15, 17, 18, 19, 20, 21]\n",
      "Testando subconjunto: [0, 2, 4, 5, 6, 7, 8, 9, 10, 11, 12, 13, 15, 17, 18, 19, 20, 21]\n",
      "Testando subconjunto: [0, 1, 4, 5, 6, 7, 8, 9, 10, 11, 12, 13, 15, 17, 18, 19, 20, 21]\n",
      "Testando subconjunto: [0, 1, 2, 5, 6, 7, 8, 9, 10, 11, 12, 13, 15, 17, 18, 19, 20, 21]\n",
      "Testando subconjunto: [0, 1, 2, 4, 6, 7, 8, 9, 10, 11, 12, 13, 15, 17, 18, 19, 20, 21]\n",
      "Testando subconjunto: [0, 1, 2, 4, 5, 7, 8, 9, 10, 11, 12, 13, 15, 17, 18, 19, 20, 21]\n",
      "Testando subconjunto: [0, 1, 2, 4, 5, 6, 8, 9, 10, 11, 12, 13, 15, 17, 18, 19, 20, 21]\n",
      "Testando subconjunto: [0, 1, 2, 4, 5, 6, 7, 9, 10, 11, 12, 13, 15, 17, 18, 19, 20, 21]\n",
      "Testando subconjunto: [0, 1, 2, 4, 5, 6, 7, 8, 10, 11, 12, 13, 15, 17, 18, 19, 20, 21]\n",
      "Testando subconjunto: [0, 1, 2, 4, 5, 6, 7, 8, 9, 11, 12, 13, 15, 17, 18, 19, 20, 21]\n",
      "Testando subconjunto: [0, 1, 2, 4, 5, 6, 7, 8, 9, 10, 12, 13, 15, 17, 18, 19, 20, 21]\n",
      "Testando subconjunto: [0, 1, 2, 4, 5, 6, 7, 8, 9, 10, 11, 13, 15, 17, 18, 19, 20, 21]\n",
      "Testando subconjunto: [0, 1, 2, 4, 5, 6, 7, 8, 9, 10, 11, 12, 15, 17, 18, 19, 20, 21]\n",
      "Testando subconjunto: [0, 1, 2, 4, 5, 6, 7, 8, 9, 10, 11, 12, 13, 17, 18, 19, 20, 21]\n",
      "Testando subconjunto: [0, 1, 2, 4, 5, 6, 7, 8, 9, 10, 11, 12, 13, 15, 18, 19, 20, 21]\n",
      "Testando subconjunto: [0, 1, 2, 4, 5, 6, 7, 8, 9, 10, 11, 12, 13, 15, 17, 19, 20, 21]\n",
      "Testando subconjunto: [0, 1, 2, 4, 5, 6, 7, 8, 9, 10, 11, 12, 13, 15, 17, 18, 20, 21]\n",
      "Testando subconjunto: [0, 1, 2, 4, 5, 6, 7, 8, 9, 10, 11, 12, 13, 15, 17, 18, 19, 21]\n",
      "Testando subconjunto: [0, 1, 2, 4, 5, 6, 7, 8, 9, 10, 11, 12, 13, 15, 17, 18, 19, 20]\n",
      "Removed feature: 9 | Score: 0.3639\n",
      "Testando subconjunto: [1, 2, 4, 5, 6, 7, 8, 10, 11, 12, 13, 15, 17, 18, 19, 20, 21]\n",
      "Testando subconjunto: [0, 2, 4, 5, 6, 7, 8, 10, 11, 12, 13, 15, 17, 18, 19, 20, 21]\n",
      "Testando subconjunto: [0, 1, 4, 5, 6, 7, 8, 10, 11, 12, 13, 15, 17, 18, 19, 20, 21]\n",
      "Testando subconjunto: [0, 1, 2, 5, 6, 7, 8, 10, 11, 12, 13, 15, 17, 18, 19, 20, 21]\n",
      "Testando subconjunto: [0, 1, 2, 4, 6, 7, 8, 10, 11, 12, 13, 15, 17, 18, 19, 20, 21]\n",
      "Testando subconjunto: [0, 1, 2, 4, 5, 7, 8, 10, 11, 12, 13, 15, 17, 18, 19, 20, 21]\n",
      "Testando subconjunto: [0, 1, 2, 4, 5, 6, 8, 10, 11, 12, 13, 15, 17, 18, 19, 20, 21]\n",
      "Testando subconjunto: [0, 1, 2, 4, 5, 6, 7, 10, 11, 12, 13, 15, 17, 18, 19, 20, 21]\n",
      "Testando subconjunto: [0, 1, 2, 4, 5, 6, 7, 8, 11, 12, 13, 15, 17, 18, 19, 20, 21]\n",
      "Testando subconjunto: [0, 1, 2, 4, 5, 6, 7, 8, 10, 12, 13, 15, 17, 18, 19, 20, 21]\n",
      "Testando subconjunto: [0, 1, 2, 4, 5, 6, 7, 8, 10, 11, 13, 15, 17, 18, 19, 20, 21]\n",
      "Testando subconjunto: [0, 1, 2, 4, 5, 6, 7, 8, 10, 11, 12, 15, 17, 18, 19, 20, 21]\n",
      "Testando subconjunto: [0, 1, 2, 4, 5, 6, 7, 8, 10, 11, 12, 13, 17, 18, 19, 20, 21]\n",
      "Testando subconjunto: [0, 1, 2, 4, 5, 6, 7, 8, 10, 11, 12, 13, 15, 18, 19, 20, 21]\n",
      "Testando subconjunto: [0, 1, 2, 4, 5, 6, 7, 8, 10, 11, 12, 13, 15, 17, 19, 20, 21]\n",
      "Testando subconjunto: [0, 1, 2, 4, 5, 6, 7, 8, 10, 11, 12, 13, 15, 17, 18, 20, 21]\n",
      "Testando subconjunto: [0, 1, 2, 4, 5, 6, 7, 8, 10, 11, 12, 13, 15, 17, 18, 19, 21]\n",
      "Testando subconjunto: [0, 1, 2, 4, 5, 6, 7, 8, 10, 11, 12, 13, 15, 17, 18, 19, 20]\n",
      "Removed feature: 17 | Score: 0.3667\n",
      "Testando subconjunto: [1, 2, 4, 5, 6, 7, 8, 10, 11, 12, 13, 15, 18, 19, 20, 21]\n",
      "Testando subconjunto: [0, 2, 4, 5, 6, 7, 8, 10, 11, 12, 13, 15, 18, 19, 20, 21]\n",
      "Testando subconjunto: [0, 1, 4, 5, 6, 7, 8, 10, 11, 12, 13, 15, 18, 19, 20, 21]\n",
      "Testando subconjunto: [0, 1, 2, 5, 6, 7, 8, 10, 11, 12, 13, 15, 18, 19, 20, 21]\n",
      "Testando subconjunto: [0, 1, 2, 4, 6, 7, 8, 10, 11, 12, 13, 15, 18, 19, 20, 21]\n",
      "Testando subconjunto: [0, 1, 2, 4, 5, 7, 8, 10, 11, 12, 13, 15, 18, 19, 20, 21]\n",
      "Testando subconjunto: [0, 1, 2, 4, 5, 6, 8, 10, 11, 12, 13, 15, 18, 19, 20, 21]\n",
      "Testando subconjunto: [0, 1, 2, 4, 5, 6, 7, 10, 11, 12, 13, 15, 18, 19, 20, 21]\n",
      "Testando subconjunto: [0, 1, 2, 4, 5, 6, 7, 8, 11, 12, 13, 15, 18, 19, 20, 21]\n",
      "Testando subconjunto: [0, 1, 2, 4, 5, 6, 7, 8, 10, 12, 13, 15, 18, 19, 20, 21]\n",
      "Testando subconjunto: [0, 1, 2, 4, 5, 6, 7, 8, 10, 11, 13, 15, 18, 19, 20, 21]\n",
      "Testando subconjunto: [0, 1, 2, 4, 5, 6, 7, 8, 10, 11, 12, 15, 18, 19, 20, 21]\n",
      "Testando subconjunto: [0, 1, 2, 4, 5, 6, 7, 8, 10, 11, 12, 13, 18, 19, 20, 21]\n",
      "Testando subconjunto: [0, 1, 2, 4, 5, 6, 7, 8, 10, 11, 12, 13, 15, 19, 20, 21]\n",
      "Testando subconjunto: [0, 1, 2, 4, 5, 6, 7, 8, 10, 11, 12, 13, 15, 18, 20, 21]\n",
      "Testando subconjunto: [0, 1, 2, 4, 5, 6, 7, 8, 10, 11, 12, 13, 15, 18, 19, 21]\n",
      "Testando subconjunto: [0, 1, 2, 4, 5, 6, 7, 8, 10, 11, 12, 13, 15, 18, 19, 20]\n",
      "Removed feature: 0 | Score: 0.3694\n",
      "Testando subconjunto: [2, 4, 5, 6, 7, 8, 10, 11, 12, 13, 15, 18, 19, 20, 21]\n",
      "Testando subconjunto: [1, 4, 5, 6, 7, 8, 10, 11, 12, 13, 15, 18, 19, 20, 21]\n",
      "Testando subconjunto: [1, 2, 5, 6, 7, 8, 10, 11, 12, 13, 15, 18, 19, 20, 21]\n",
      "Testando subconjunto: [1, 2, 4, 6, 7, 8, 10, 11, 12, 13, 15, 18, 19, 20, 21]\n",
      "Testando subconjunto: [1, 2, 4, 5, 7, 8, 10, 11, 12, 13, 15, 18, 19, 20, 21]\n",
      "Testando subconjunto: [1, 2, 4, 5, 6, 8, 10, 11, 12, 13, 15, 18, 19, 20, 21]\n",
      "Testando subconjunto: [1, 2, 4, 5, 6, 7, 10, 11, 12, 13, 15, 18, 19, 20, 21]\n",
      "Testando subconjunto: [1, 2, 4, 5, 6, 7, 8, 11, 12, 13, 15, 18, 19, 20, 21]\n",
      "Testando subconjunto: [1, 2, 4, 5, 6, 7, 8, 10, 12, 13, 15, 18, 19, 20, 21]\n",
      "Testando subconjunto: [1, 2, 4, 5, 6, 7, 8, 10, 11, 13, 15, 18, 19, 20, 21]\n",
      "Testando subconjunto: [1, 2, 4, 5, 6, 7, 8, 10, 11, 12, 15, 18, 19, 20, 21]\n",
      "Testando subconjunto: [1, 2, 4, 5, 6, 7, 8, 10, 11, 12, 13, 18, 19, 20, 21]\n",
      "Testando subconjunto: [1, 2, 4, 5, 6, 7, 8, 10, 11, 12, 13, 15, 19, 20, 21]\n",
      "Testando subconjunto: [1, 2, 4, 5, 6, 7, 8, 10, 11, 12, 13, 15, 18, 20, 21]\n",
      "Testando subconjunto: [1, 2, 4, 5, 6, 7, 8, 10, 11, 12, 13, 15, 18, 19, 21]\n",
      "Testando subconjunto: [1, 2, 4, 5, 6, 7, 8, 10, 11, 12, 13, 15, 18, 19, 20]\n",
      "Removed feature: 7 | Score: 0.3722\n",
      "Testando subconjunto: [2, 4, 5, 6, 8, 10, 11, 12, 13, 15, 18, 19, 20, 21]\n",
      "Testando subconjunto: [1, 4, 5, 6, 8, 10, 11, 12, 13, 15, 18, 19, 20, 21]\n",
      "Testando subconjunto: [1, 2, 5, 6, 8, 10, 11, 12, 13, 15, 18, 19, 20, 21]\n",
      "Testando subconjunto: [1, 2, 4, 6, 8, 10, 11, 12, 13, 15, 18, 19, 20, 21]\n",
      "Testando subconjunto: [1, 2, 4, 5, 8, 10, 11, 12, 13, 15, 18, 19, 20, 21]\n",
      "Testando subconjunto: [1, 2, 4, 5, 6, 10, 11, 12, 13, 15, 18, 19, 20, 21]\n",
      "Testando subconjunto: [1, 2, 4, 5, 6, 8, 11, 12, 13, 15, 18, 19, 20, 21]\n",
      "Testando subconjunto: [1, 2, 4, 5, 6, 8, 10, 12, 13, 15, 18, 19, 20, 21]\n",
      "Testando subconjunto: [1, 2, 4, 5, 6, 8, 10, 11, 13, 15, 18, 19, 20, 21]\n",
      "Testando subconjunto: [1, 2, 4, 5, 6, 8, 10, 11, 12, 15, 18, 19, 20, 21]\n",
      "Testando subconjunto: [1, 2, 4, 5, 6, 8, 10, 11, 12, 13, 18, 19, 20, 21]\n",
      "Testando subconjunto: [1, 2, 4, 5, 6, 8, 10, 11, 12, 13, 15, 19, 20, 21]\n",
      "Testando subconjunto: [1, 2, 4, 5, 6, 8, 10, 11, 12, 13, 15, 18, 20, 21]\n",
      "Testando subconjunto: [1, 2, 4, 5, 6, 8, 10, 11, 12, 13, 15, 18, 19, 21]\n",
      "Testando subconjunto: [1, 2, 4, 5, 6, 8, 10, 11, 12, 13, 15, 18, 19, 20]\n"
     ]
    }
   ],
   "source": [
    "X_new2 = selector2.fit_transform(X, y_best_ansatz)"
   ]
  },
  {
   "cell_type": "code",
   "execution_count": 16,
   "id": "a384a8be",
   "metadata": {},
   "outputs": [
    {
     "name": "stdout",
     "output_type": "stream",
     "text": [
      "features selecionadas: [1, 2, 4, 5, 6, 8, 10, 11, 12, 13, 15, 18, 19, 20, 21], best score: 0.37222222222222223\n"
     ]
    }
   ],
   "source": [
    "print(f\"features selecionadas: {selector2.selected_features}, best score: {selector2.best_scores[-1]}\")"
   ]
  },
  {
   "cell_type": "code",
   "execution_count": 12,
   "id": "8ae7d569",
   "metadata": {},
   "outputs": [
    {
     "data": {
      "text/plain": [
       "['./models_salvos/dt_classifier.joblib']"
      ]
     },
     "execution_count": 12,
     "metadata": {},
     "output_type": "execute_result"
    }
   ],
   "source": [
    "#salvando o modelo treinado\n",
    "joblib.dump(best_dt_classifier, './models_salvos/dt_classifier.joblib')"
   ]
  }
 ],
 "metadata": {
  "kernelspec": {
   "display_name": "IA_venv",
   "language": "python",
   "name": "python3"
  },
  "language_info": {
   "codemirror_mode": {
    "name": "ipython",
    "version": 3
   },
   "file_extension": ".py",
   "mimetype": "text/x-python",
   "name": "python",
   "nbconvert_exporter": "python",
   "pygments_lexer": "ipython3",
   "version": "3.13.2"
  }
 },
 "nbformat": 4,
 "nbformat_minor": 5
}
