{
 "cells": [
  {
   "cell_type": "code",
   "execution_count": 49,
   "id": "6c179e12",
   "metadata": {},
   "outputs": [],
   "source": [
    "import ast\n",
    "import numpy as np\n",
    "from sklearn.model_selection import cross_val_score\n",
    "from sklearn.tree import DecisionTreeClassifier\n",
    "import pandas as pd\n",
    "from sklearn.model_selection import KFold\n",
    "import joblib"
   ]
  },
  {
   "cell_type": "code",
   "execution_count": 50,
   "id": "cdb9e07f",
   "metadata": {},
   "outputs": [],
   "source": [
    "# abrindo os dados de treinamento\n",
    "df = pd.read_csv(\"./../ansatz_result/data.csv\")\n",
    "X = df.drop(columns=[\"target\"]).to_numpy()\n",
    "y = pd.DataFrame(df['target'].apply(ast.literal_eval).tolist()).to_numpy()\n",
    "\n",
    "# Para cada amostra, identificar o ansatz com maior acurácia\n",
    "y_best_ansatz = np.argmax(y, axis=1)  # Retorna índices 0-29"
   ]
  },
  {
   "cell_type": "code",
   "execution_count": 51,
   "id": "14166dde",
   "metadata": {},
   "outputs": [
    {
     "name": "stdout",
     "output_type": "stream",
     "text": [
      "[ 6  0  6  0 11 14  0 14 14  0  0  2  0  6  6 14  2  6  0 11  2 14 14 16\n",
      "  2  6  6  2 11  6 14  6 16 14 14 14 14  8 14  6  6 14  6 14  6  8 14  6\n",
      "  6  6 14  6  6  6  6  6  8  6 14  0  6  6  6  6  6  1  6  6  6  2  6  6\n",
      "  6  6  6  6  6  2  2  6  6  6  6  6  6  6  2  6  2  6 13  0 12  0  7  7\n",
      "  7  8  0  7  7 12  7  8 21 12 13  7  7  7 12 17  7 13 21  7  7  7  6  7\n",
      "  6 14  6 25  6  6  1 14  1  6  6  6  6 14 16  6  6  6  6  6  6  6 14  1\n",
      "  6  6  6 14  6 14  6  6 14 14 14  6 14 14  6  6  6  6 14  6  6  6  6  6\n",
      " 14  6  6  6  6 14  6  6  6  6  6  6 19 20  3 22 11 19  1  6 20 29 20  0\n",
      "  0 19 28 29  6 11  6 27  7 17 20 26  0 22 17  3  0 29 13  2 27  0  7 10\n",
      " 24 24 20  6 10 22 24 22 10 10 14  8 15 17 10 22  6  0 11  2 12 22 27 20\n",
      "  2  0 15  0 29 10 12  2 17  6  3 29 16  0 11  0  0  7  7  0  6 10 14  0\n",
      "  6  6  0  3 10  0  2 11 16 18  2 18 29  6 13 16 16 16 22  0 16 23  6 16\n",
      " 20 18 18 16 16  0 11 16 16 17 16 20  6  8  3 11 11  6 22  3 22  0 29 11\n",
      "  0 20  2  6 22 28 29  0 12 27 11 26 29 27 28  0 12 12 16 14 27 22 22  6\n",
      " 23 26 11 29 11  0  6 10  7  9 20 29  2  2 25  6 20 16 27 20 20  0 10 22]\n"
     ]
    }
   ],
   "source": [
    "print(y_best_ansatz)"
   ]
  },
  {
   "cell_type": "code",
   "execution_count": 52,
   "id": "04c81747",
   "metadata": {},
   "outputs": [
    {
     "name": "stdout",
     "output_type": "stream",
     "text": [
      "Scores: [0.23333333 0.30833333 0.24166667]\n",
      "Média: 0.2611111111111111\n",
      "Desvio padrão: 0.033564016593318265\n"
     ]
    }
   ],
   "source": [
    "# criando kfold\n",
    "kf = KFold(n_splits=3, shuffle=True, random_state=42)\n",
    "\n",
    "#realizando validação cruzada\n",
    "\n",
    "dt_classifier = DecisionTreeClassifier(random_state=45)\n",
    "\n",
    "score = cross_val_score(dt_classifier, X, y_best_ansatz, cv=kf)\n",
    "\n",
    "print(\"Scores:\", score)\n",
    "print(\"Média:\", score.mean())\n",
    "print(\"Desvio padrão:\", score.std())"
   ]
  },
  {
   "cell_type": "code",
   "execution_count": null,
   "id": "23d0e17a",
   "metadata": {},
   "outputs": [
    {
     "name": "stdout",
     "output_type": "stream",
     "text": [
      "Top-3 Ansatz Previstos:\n",
      "Ansatz 0 (Probabilidade: 1.00)\n",
      "Ansatz 27 (Probabilidade: 0.00)\n",
      "Ansatz 25 (Probabilidade: 0.00)\n"
     ]
    },
    {
     "data": {
      "text/plain": [
       "['./dt_classifier.joblib']"
      ]
     },
     "execution_count": 54,
     "metadata": {},
     "output_type": "execute_result"
    }
   ],
   "source": [
    "# treinando o dt classifier e obtendo os top3 ansatz mais classificados\n",
    "dt_classifier.fit(X, y_best_ansatz)\n",
    "\n",
    "# Obter probabilidades de cada ansatz dado o input 6\n",
    "probabilidades = dt_classifier.predict_proba(X)[6]\n",
    "\n",
    "# Rankear os top-3 ansatz com maiores probabilidades\n",
    "top3_indices = np.argsort(probabilidades)[-3:][::-1]  # Ordem decrescente\n",
    "top3_ansatz = [(idx, probabilidades[idx]) for idx in top3_indices]\n",
    "\n",
    "print(\"Top-3 Ansatz Previstos:\")\n",
    "for idx, prob in top3_ansatz:\n",
    "    print(f\"Ansatz {idx} (Probabilidade: {prob:.2f})\")\n"
   ]
  },
  {
   "cell_type": "code",
   "execution_count": null,
   "id": "8ae7d569",
   "metadata": {},
   "outputs": [],
   "source": [
    "#salvando o modelo treinado\n",
    "joblib.dump(dt_classifier, './models_salvos/dt_classifier.joblib')"
   ]
  }
 ],
 "metadata": {
  "kernelspec": {
   "display_name": "IA_venv",
   "language": "python",
   "name": "python3"
  },
  "language_info": {
   "codemirror_mode": {
    "name": "ipython",
    "version": 3
   },
   "file_extension": ".py",
   "mimetype": "text/x-python",
   "name": "python",
   "nbconvert_exporter": "python",
   "pygments_lexer": "ipython3",
   "version": "3.13.2"
  }
 },
 "nbformat": 4,
 "nbformat_minor": 5
}
