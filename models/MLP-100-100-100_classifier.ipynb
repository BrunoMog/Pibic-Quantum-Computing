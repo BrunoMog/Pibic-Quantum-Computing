{
 "cells": [
  {
   "cell_type": "code",
   "execution_count": 24,
   "id": "2489d68f",
   "metadata": {},
   "outputs": [],
   "source": [
    "import ast\n",
    "import numpy as np\n",
    "import pandas as pd\n",
    "\n",
    "import torch\n",
    "from torch import nn\n",
    "from torch.utils.data import DataLoader, TensorDataset\n",
    "import torch.optim as optim\n",
    "\n",
    "from copy import deepcopy\n",
    "from sklearn.model_selection import KFold"
   ]
  },
  {
   "cell_type": "code",
   "execution_count": null,
   "id": "8420b344",
   "metadata": {},
   "outputs": [],
   "source": [
    "class MLP_100_100_100_classifier(nn.Module):\n",
    "    def __init__(self):\n",
    "        super().__init__()\n",
    "\n",
    "        self.layer1 = nn.Linear(22, 100)  \n",
    "        self.relu = nn.ReLU()                          \n",
    "        self.hidden_layer_relu = nn.Sequential(\n",
    "            nn.Linear(100,100),\n",
    "            nn.ReLU(),\n",
    "            nn.Linear(100,100),\n",
    "            nn.ReLU(),\n",
    "            nn.Linear(100,100),\n",
    "            nn.ReLU()\n",
    "        )\n",
    "        self.layer2 = nn.Linear(100, 30)\n",
    "\n",
    "    def forward(self, x):\n",
    "\n",
    "        x = self.relu(self.layer1(x))\n",
    "        x = self.hidden_layer_relu(x)\n",
    "        logits = self.layer2(x)\n",
    "        \n",
    "        return logits"
   ]
  },
  {
   "cell_type": "code",
   "execution_count": 26,
   "id": "a83dee9d",
   "metadata": {},
   "outputs": [],
   "source": [
    "# abrindo os dados de treinamento\n",
    "df = pd.read_csv(\"./../ansatz_result/data.csv\")\n",
    "X = df.drop(columns=[\"target\"]).to_numpy()\n",
    "y = pd.DataFrame(df['target'].apply(ast.literal_eval).tolist()).to_numpy()\n",
    "\n",
    "y_best_ansatz = np.argmax(y, axis=1)  \n",
    "\n",
    "# criando o kfold\n",
    "kf = KFold(n_splits=3, shuffle=True, random_state=42)"
   ]
  },
  {
   "cell_type": "code",
   "execution_count": 27,
   "id": "e422eac6",
   "metadata": {},
   "outputs": [
    {
     "name": "stdout",
     "output_type": "stream",
     "text": [
      "[ 6  0  6  0 11 14  0 14 14  0  0  2  0  6  6 14  2  6  0 11  2 14 14 16\n",
      "  2  6  6  2 11  6 14  6 16 14 14 14 14  8 14  6  6 14  6 14  6  8 14  6\n",
      "  6  6 14  6  6  6  6  6  8  6 14  0  6  6  6  6  6  1  6  6  6  2  6  6\n",
      "  6  6  6  6  6  2  2  6  6  6  6  6  6  6  2  6  2  6 13  0 12  0  7  7\n",
      "  7  8  0  7  7 12  7  8 21 12 13  7  7  7 12 17  7 13 21  7  7  7  6  7\n",
      "  6 14  6 25  6  6  1 14  1  6  6  6  6 14 16  6  6  6  6  6  6  6 14  1\n",
      "  6  6  6 14  6 14  6  6 14 14 14  6 14 14  6  6  6  6 14  6  6  6  6  6\n",
      " 14  6  6  6  6 14  6  6  6  6  6  6 19 20  3 22 11 19  1  6 20 29 20  0\n",
      "  0 19 28 29  6 11  6 27  7 17 20 26  0 22 17  3  0 29 13  2 27  0  7 10\n",
      " 24 24 20  6 10 22 24 22 10 10 14  8 15 17 10 22  6  0 11  2 12 22 27 20\n",
      "  2  0 15  0 29 10 12  2 17  6  3 29 16  0 11  0  0  7  7  0  6 10 14  0\n",
      "  6  6  0  3 10  0  2 11 16 18  2 18 29  6 13 16 16 16 22  0 16 23  6 16\n",
      " 20 18 18 16 16  0 11 16 16 17 16 20  6  8  3 11 11  6 22  3 22  0 29 11\n",
      "  0 20  2  6 22 28 29  0 12 27 11 26 29 27 28  0 12 12 16 14 27 22 22  6\n",
      " 23 26 11 29 11  0  6 10  7  9 20 29  2  2 25  6 20 16 27 20 20  0 10 22]\n"
     ]
    }
   ],
   "source": [
    "print(y_best_ansatz)"
   ]
  },
  {
   "cell_type": "code",
   "execution_count": 28,
   "id": "95155cd8",
   "metadata": {},
   "outputs": [
    {
     "name": "stdout",
     "output_type": "stream",
     "text": [
      "(360,)\n"
     ]
    }
   ],
   "source": [
    "print(y_best_ansatz.shape)  # Deve ser (N,), não (N, 1)"
   ]
  },
  {
   "cell_type": "code",
   "execution_count": 29,
   "id": "1a906636",
   "metadata": {},
   "outputs": [
    {
     "name": "stdout",
     "output_type": "stream",
     "text": [
      "Using cpu device\n"
     ]
    }
   ],
   "source": [
    "device = torch.device('cuda' if torch.cuda.is_available() else 'cpu')\n",
    "print(f\"Using {device} device\")"
   ]
  },
  {
   "cell_type": "code",
   "execution_count": 30,
   "id": "050a4ee1",
   "metadata": {},
   "outputs": [],
   "source": [
    "# implementação de um critério de parada para o modelo parar no ponto \"ótimo\"\n",
    "class EarlyStopping:\n",
    "    def __init__(self, patience=5, min_delta=0.0):\n",
    "        self.patience = patience\n",
    "        self.min_delta = min_delta\n",
    "        self.counter = 0\n",
    "        self.best_loss = float('inf')\n",
    "        self.early_stop = False\n",
    "        \n",
    "    def __call__(self, val_loss):\n",
    "        if val_loss < self.best_loss - self.min_delta:\n",
    "            self.best_loss = val_loss\n",
    "            self.counter = 0\n",
    "        else:\n",
    "            self.counter += 1\n",
    "            if self.counter >= self.patience:\n",
    "                self.early_stop = True"
   ]
  },
  {
   "cell_type": "code",
   "execution_count": 31,
   "id": "3f0e2114",
   "metadata": {},
   "outputs": [],
   "source": [
    "# 3. Função para treinar um fold\n",
    "def train_fold(model, train_loader, val_loader, criterion, optimizer, n_epochs=1000000):\n",
    "    model.to(device)\n",
    "    early_stopping = EarlyStopping(patience=10, min_delta=0.0)\n",
    "    best_model = None\n",
    "    best_acc = 0.0\n",
    "    \n",
    "    for epoch in range(n_epochs):\n",
    "        # Treinamento\n",
    "        model.train()\n",
    "        train_loss = 0.0\n",
    "\n",
    "        for X_batch, y_batch in train_loader:\n",
    "            X_batch, y_batch = X_batch.to(device), y_batch.to(device)\n",
    "            y_batch = y_batch.squeeze()  # Converte (batch_size, 1) para (batch_size,)\n",
    "            \n",
    "            optimizer.zero_grad()\n",
    "            outputs = model(X_batch)\n",
    "            loss = criterion(outputs, y_batch)\n",
    "            loss.backward()\n",
    "            optimizer.step()\n",
    "            train_loss += loss.item()\n",
    "        \n",
    "        # Validação\n",
    "        model.eval()\n",
    "        with torch.no_grad():\n",
    "            val_loss = 0.0\n",
    "            correct = 0\n",
    "            total = 0\n",
    "            for X_val, y_val in val_loader:\n",
    "                X_val, y_val = X_val.to(device), y_val.to(device)\n",
    "                y_val = y_val.squeeze()  # Garante que y_val é 1D\n",
    "                \n",
    "                outputs = model(X_val)\n",
    "                val_loss += criterion(outputs, y_val).item()  \n",
    "                _, predicted = torch.max(outputs.data, 1)\n",
    "                correct += (predicted == y_val).sum().item()\n",
    "                total += y_val.size(0)\n",
    "        \n",
    "        \n",
    "        val_acc = correct / total\n",
    "        val_loss /= len(val_loader)\n",
    "        train_loss /= len(train_loader)\n",
    "        \n",
    "        print(f'Epoch {epoch+1}/{n_epochs} - Train Loss: {train_loss:.4f} - Val Loss: {val_loss:.4f} - Val Acc: {val_acc:.4f}')\n",
    "        \n",
    "        # Early Stopping\n",
    "        early_stopping(val_loss)\n",
    "        if early_stopping.early_stop:\n",
    "            print(f\"Early stopping at epoch {epoch+1}\")\n",
    "            break\n",
    "            \n",
    "        # Salvar melhor modelo\n",
    "        if val_acc > best_acc:\n",
    "            best_acc = val_acc\n",
    "            best_model = deepcopy(model.state_dict())\n",
    "    \n",
    "    return best_model, best_acc"
   ]
  },
  {
   "cell_type": "code",
   "execution_count": 32,
   "id": "15e641cc",
   "metadata": {},
   "outputs": [
    {
     "name": "stdout",
     "output_type": "stream",
     "text": [
      "\n",
      "=== Fold 1/3 ===\n",
      "Epoch 1/1000000 - Train Loss: 3.3796 - Val Loss: 3.3446 - Val Acc: 0.3000\n",
      "Epoch 2/1000000 - Train Loss: 3.2980 - Val Loss: 3.2583 - Val Acc: 0.3000\n",
      "Epoch 3/1000000 - Train Loss: 3.1307 - Val Loss: 3.0735 - Val Acc: 0.3000\n",
      "Epoch 4/1000000 - Train Loss: 2.8550 - Val Loss: 3.0880 - Val Acc: 0.3000\n",
      "Epoch 5/1000000 - Train Loss: 2.7639 - Val Loss: 2.9744 - Val Acc: 0.3000\n",
      "Epoch 6/1000000 - Train Loss: 2.6243 - Val Loss: 2.8546 - Val Acc: 0.3000\n",
      "Epoch 7/1000000 - Train Loss: 2.5610 - Val Loss: 2.7855 - Val Acc: 0.3000\n",
      "Epoch 8/1000000 - Train Loss: 2.4410 - Val Loss: 2.7286 - Val Acc: 0.2917\n",
      "Epoch 9/1000000 - Train Loss: 2.4189 - Val Loss: 2.7577 - Val Acc: 0.2583\n",
      "Epoch 10/1000000 - Train Loss: 2.3873 - Val Loss: 2.7940 - Val Acc: 0.2583\n",
      "Epoch 11/1000000 - Train Loss: 2.3515 - Val Loss: 2.7627 - Val Acc: 0.2583\n",
      "Epoch 12/1000000 - Train Loss: 2.3085 - Val Loss: 2.7386 - Val Acc: 0.2583\n",
      "Epoch 13/1000000 - Train Loss: 2.2879 - Val Loss: 2.7344 - Val Acc: 0.2583\n",
      "Epoch 14/1000000 - Train Loss: 2.2661 - Val Loss: 2.7398 - Val Acc: 0.2583\n",
      "Epoch 15/1000000 - Train Loss: 2.2519 - Val Loss: 2.7226 - Val Acc: 0.2583\n",
      "Epoch 16/1000000 - Train Loss: 2.2581 - Val Loss: 2.7185 - Val Acc: 0.2583\n",
      "Epoch 17/1000000 - Train Loss: 2.2577 - Val Loss: 2.7329 - Val Acc: 0.2583\n",
      "Epoch 18/1000000 - Train Loss: 2.2810 - Val Loss: 2.7525 - Val Acc: 0.2583\n",
      "Epoch 19/1000000 - Train Loss: 2.2332 - Val Loss: 2.7064 - Val Acc: 0.2583\n",
      "Epoch 20/1000000 - Train Loss: 2.2585 - Val Loss: 2.7008 - Val Acc: 0.2583\n",
      "Epoch 21/1000000 - Train Loss: 2.2224 - Val Loss: 2.7329 - Val Acc: 0.2583\n",
      "Epoch 22/1000000 - Train Loss: 2.1985 - Val Loss: 2.7266 - Val Acc: 0.2583\n",
      "Epoch 23/1000000 - Train Loss: 2.1935 - Val Loss: 2.7157 - Val Acc: 0.2583\n",
      "Epoch 24/1000000 - Train Loss: 2.1760 - Val Loss: 2.7491 - Val Acc: 0.2583\n",
      "Epoch 25/1000000 - Train Loss: 2.2351 - Val Loss: 2.7854 - Val Acc: 0.2667\n",
      "Epoch 26/1000000 - Train Loss: 2.2086 - Val Loss: 2.7032 - Val Acc: 0.2667\n",
      "Epoch 27/1000000 - Train Loss: 2.2141 - Val Loss: 2.7442 - Val Acc: 0.2667\n",
      "Epoch 28/1000000 - Train Loss: 2.1446 - Val Loss: 2.7459 - Val Acc: 0.2667\n",
      "Epoch 29/1000000 - Train Loss: 2.1823 - Val Loss: 2.7957 - Val Acc: 0.2750\n",
      "Epoch 30/1000000 - Train Loss: 2.1854 - Val Loss: 2.7593 - Val Acc: 0.2750\n",
      "Early stopping at epoch 30\n",
      "\n",
      "=== Fold 2/3 ===\n",
      "Epoch 1/1000000 - Train Loss: 3.3912 - Val Loss: 3.3571 - Val Acc: 0.2583\n",
      "Epoch 2/1000000 - Train Loss: 3.3227 - Val Loss: 3.2667 - Val Acc: 0.2917\n",
      "Epoch 3/1000000 - Train Loss: 3.1960 - Val Loss: 3.0503 - Val Acc: 0.2917\n",
      "Epoch 4/1000000 - Train Loss: 2.9070 - Val Loss: 2.8706 - Val Acc: 0.2917\n",
      "Epoch 5/1000000 - Train Loss: 2.7729 - Val Loss: 2.7190 - Val Acc: 0.2917\n",
      "Epoch 6/1000000 - Train Loss: 2.6303 - Val Loss: 2.6336 - Val Acc: 0.2917\n",
      "Epoch 7/1000000 - Train Loss: 2.5392 - Val Loss: 2.6070 - Val Acc: 0.2917\n",
      "Epoch 8/1000000 - Train Loss: 2.4828 - Val Loss: 2.5537 - Val Acc: 0.3250\n",
      "Epoch 9/1000000 - Train Loss: 2.4394 - Val Loss: 2.5243 - Val Acc: 0.3250\n",
      "Epoch 10/1000000 - Train Loss: 2.4279 - Val Loss: 2.5087 - Val Acc: 0.3250\n",
      "Epoch 11/1000000 - Train Loss: 2.3857 - Val Loss: 2.4961 - Val Acc: 0.3250\n",
      "Epoch 12/1000000 - Train Loss: 2.3811 - Val Loss: 2.5014 - Val Acc: 0.3250\n",
      "Epoch 13/1000000 - Train Loss: 2.3798 - Val Loss: 2.4870 - Val Acc: 0.3250\n",
      "Epoch 14/1000000 - Train Loss: 2.3778 - Val Loss: 2.4737 - Val Acc: 0.3250\n",
      "Epoch 15/1000000 - Train Loss: 2.3292 - Val Loss: 2.4736 - Val Acc: 0.3250\n",
      "Epoch 16/1000000 - Train Loss: 2.3050 - Val Loss: 2.4690 - Val Acc: 0.3250\n",
      "Epoch 17/1000000 - Train Loss: 2.2981 - Val Loss: 2.4650 - Val Acc: 0.3250\n",
      "Epoch 18/1000000 - Train Loss: 2.2971 - Val Loss: 2.4686 - Val Acc: 0.3250\n",
      "Epoch 19/1000000 - Train Loss: 2.2651 - Val Loss: 2.4649 - Val Acc: 0.3250\n",
      "Epoch 20/1000000 - Train Loss: 2.2797 - Val Loss: 2.4723 - Val Acc: 0.3250\n",
      "Epoch 21/1000000 - Train Loss: 2.2754 - Val Loss: 2.4591 - Val Acc: 0.3250\n",
      "Epoch 22/1000000 - Train Loss: 2.3188 - Val Loss: 2.4504 - Val Acc: 0.3250\n",
      "Epoch 23/1000000 - Train Loss: 2.2748 - Val Loss: 2.4525 - Val Acc: 0.3250\n",
      "Epoch 24/1000000 - Train Loss: 2.2318 - Val Loss: 2.4684 - Val Acc: 0.3250\n",
      "Epoch 25/1000000 - Train Loss: 2.2342 - Val Loss: 2.4696 - Val Acc: 0.3250\n",
      "Epoch 26/1000000 - Train Loss: 2.2206 - Val Loss: 2.4706 - Val Acc: 0.3500\n",
      "Epoch 27/1000000 - Train Loss: 2.2397 - Val Loss: 2.4836 - Val Acc: 0.3250\n",
      "Epoch 28/1000000 - Train Loss: 2.2124 - Val Loss: 2.4628 - Val Acc: 0.3667\n",
      "Epoch 29/1000000 - Train Loss: 2.2379 - Val Loss: 2.4501 - Val Acc: 0.3667\n",
      "Epoch 30/1000000 - Train Loss: 2.2216 - Val Loss: 2.4668 - Val Acc: 0.3667\n",
      "Epoch 31/1000000 - Train Loss: 2.2433 - Val Loss: 2.4718 - Val Acc: 0.3667\n",
      "Epoch 32/1000000 - Train Loss: 2.1945 - Val Loss: 2.4663 - Val Acc: 0.3667\n",
      "Epoch 33/1000000 - Train Loss: 2.2267 - Val Loss: 2.4565 - Val Acc: 0.3667\n",
      "Epoch 34/1000000 - Train Loss: 2.2366 - Val Loss: 2.4631 - Val Acc: 0.3583\n",
      "Epoch 35/1000000 - Train Loss: 2.1987 - Val Loss: 2.4531 - Val Acc: 0.3667\n",
      "Epoch 36/1000000 - Train Loss: 2.2225 - Val Loss: 2.4601 - Val Acc: 0.3667\n",
      "Epoch 37/1000000 - Train Loss: 2.1927 - Val Loss: 2.4673 - Val Acc: 0.3583\n",
      "Epoch 38/1000000 - Train Loss: 2.2157 - Val Loss: 2.4587 - Val Acc: 0.3667\n",
      "Epoch 39/1000000 - Train Loss: 2.1682 - Val Loss: 2.4696 - Val Acc: 0.3667\n",
      "Early stopping at epoch 39\n",
      "\n",
      "=== Fold 3/3 ===\n",
      "Epoch 1/1000000 - Train Loss: 3.3569 - Val Loss: 3.3302 - Val Acc: 0.2833\n",
      "Epoch 2/1000000 - Train Loss: 3.2706 - Val Loss: 3.2103 - Val Acc: 0.2833\n",
      "Epoch 3/1000000 - Train Loss: 3.1038 - Val Loss: 2.9858 - Val Acc: 0.2833\n",
      "Epoch 4/1000000 - Train Loss: 2.8770 - Val Loss: 2.9216 - Val Acc: 0.2833\n",
      "Epoch 5/1000000 - Train Loss: 2.8038 - Val Loss: 2.7952 - Val Acc: 0.2833\n",
      "Epoch 6/1000000 - Train Loss: 2.7067 - Val Loss: 2.7062 - Val Acc: 0.2833\n",
      "Epoch 7/1000000 - Train Loss: 2.6671 - Val Loss: 2.6289 - Val Acc: 0.2833\n",
      "Epoch 8/1000000 - Train Loss: 2.5964 - Val Loss: 2.5920 - Val Acc: 0.2833\n",
      "Epoch 9/1000000 - Train Loss: 2.5585 - Val Loss: 2.5495 - Val Acc: 0.2833\n",
      "Epoch 10/1000000 - Train Loss: 2.4948 - Val Loss: 2.5331 - Val Acc: 0.2833\n",
      "Epoch 11/1000000 - Train Loss: 2.4904 - Val Loss: 2.5112 - Val Acc: 0.2833\n",
      "Epoch 12/1000000 - Train Loss: 2.4557 - Val Loss: 2.4935 - Val Acc: 0.3417\n",
      "Epoch 13/1000000 - Train Loss: 2.3936 - Val Loss: 2.4727 - Val Acc: 0.3417\n",
      "Epoch 14/1000000 - Train Loss: 2.3810 - Val Loss: 2.4668 - Val Acc: 0.3417\n",
      "Epoch 15/1000000 - Train Loss: 2.3372 - Val Loss: 2.4614 - Val Acc: 0.3417\n",
      "Epoch 16/1000000 - Train Loss: 2.3347 - Val Loss: 2.4676 - Val Acc: 0.3417\n",
      "Epoch 17/1000000 - Train Loss: 2.3389 - Val Loss: 2.4805 - Val Acc: 0.3417\n",
      "Epoch 18/1000000 - Train Loss: 2.3281 - Val Loss: 2.4957 - Val Acc: 0.3417\n",
      "Epoch 19/1000000 - Train Loss: 2.2826 - Val Loss: 2.5097 - Val Acc: 0.3417\n",
      "Epoch 20/1000000 - Train Loss: 2.2761 - Val Loss: 2.5110 - Val Acc: 0.3417\n",
      "Epoch 21/1000000 - Train Loss: 2.2873 - Val Loss: 2.5286 - Val Acc: 0.3417\n",
      "Epoch 22/1000000 - Train Loss: 2.2804 - Val Loss: 2.5472 - Val Acc: 0.3417\n",
      "Epoch 23/1000000 - Train Loss: 2.2836 - Val Loss: 2.5649 - Val Acc: 0.3417\n",
      "Epoch 24/1000000 - Train Loss: 2.2817 - Val Loss: 2.5700 - Val Acc: 0.3417\n",
      "Epoch 25/1000000 - Train Loss: 2.2433 - Val Loss: 2.5788 - Val Acc: 0.2833\n",
      "Early stopping at epoch 25\n",
      "\n",
      "=== Resultados ===\n",
      "Acurácia média: 0.3361 ± 0.0275\n",
      "Acurácias por fold: [0.3, 0.36666666666666664, 0.3416666666666667]\n"
     ]
    }
   ],
   "source": [
    "results = []\n",
    "\n",
    "for fold, (train_idx, val_idx) in enumerate(kf.split(X)):\n",
    "    print(f\"\\n=== Fold {fold + 1}/{3} ===\")\n",
    "    \n",
    "    # Dividir e preparar dados\n",
    "    X_train, X_val = X[train_idx], X[val_idx]\n",
    "    y_train, y_val = y_best_ansatz[train_idx], y_best_ansatz[val_idx]\n",
    "    \n",
    "    train_dataset = TensorDataset(torch.FloatTensor(X_train), torch.LongTensor(y_train))\n",
    "    val_dataset = TensorDataset(torch.FloatTensor(X_val), torch.LongTensor(y_val))\n",
    "    \n",
    "    train_loader = DataLoader(train_dataset, batch_size=32, shuffle=True)\n",
    "    val_loader = DataLoader(val_dataset, batch_size=32)\n",
    "    \n",
    "    # Inicializar modelo e otimizador\n",
    "    model = MLP_100_100_100_classifier()\n",
    "    criterion = nn.CrossEntropyLoss()\n",
    "    optimizer = optim.Adam(model.parameters(), lr=0.001, weight_decay=1e-4)  # L2 regularization\n",
    "    \n",
    "    # Treinar fold\n",
    "    best_model, best_acc = train_fold(model, train_loader, val_loader, criterion, optimizer)\n",
    "    results.append(best_acc)\n",
    "    \n",
    "    # Salvar modelo se necessário\n",
    "    torch.save(best_model, f'./models_salvos/best_model_MLP-100-100-100-classifier_fold{fold+1}.pt')\n",
    "\n",
    "# 7. Resultados finais\n",
    "print(\"\\n=== Resultados ===\")\n",
    "print(f\"Acurácia média: {np.mean(results):.4f} ± {np.std(results):.4f}\")\n",
    "print(f\"Acurácias por fold: {results}\")"
   ]
  },
  {
   "cell_type": "code",
   "execution_count": 33,
   "id": "f03f52a0",
   "metadata": {},
   "outputs": [
    {
     "data": {
      "text/plain": [
       "MLP_100_100_100_classifier(\n",
       "  (layer1): Linear(in_features=22, out_features=100, bias=True)\n",
       "  (relu): ReLU()\n",
       "  (hidden_layer_relu): Sequential(\n",
       "    (0): Linear(in_features=100, out_features=100, bias=True)\n",
       "    (1): ReLU()\n",
       "    (2): Linear(in_features=100, out_features=100, bias=True)\n",
       "    (3): ReLU()\n",
       "    (4): Linear(in_features=100, out_features=100, bias=True)\n",
       "    (5): ReLU()\n",
       "  )\n",
       "  (layer2): Linear(in_features=100, out_features=30, bias=True)\n",
       ")"
      ]
     },
     "execution_count": 33,
     "metadata": {},
     "output_type": "execute_result"
    }
   ],
   "source": [
    "model = MLP_100_100_100_classifier().to(device)\n",
    "#carregando o melhor fold treinado\n",
    "model.load_state_dict(torch.load('.//models_salvos/best_model_MLP-100-100-100-classifier_fold2.pt'))  # Substitua pelo caminho correto\n",
    "model.eval()  # Modo de avaliação"
   ]
  },
  {
   "cell_type": "code",
   "execution_count": 34,
   "id": "ecd2cb7d",
   "metadata": {},
   "outputs": [
    {
     "name": "stdout",
     "output_type": "stream",
     "text": [
      "tensor([ 1.6278, -0.2352,  1.2207, -2.2726, -4.4394, -4.1989,  1.9590,  1.6447,\n",
      "         0.0665, -2.5846, -1.6488,  0.2105,  0.6448,  0.2566,  1.5984, -4.3568,\n",
      "         0.4263, -2.2623, -2.9771, -2.7789, -1.4570, -0.1377, -1.4765, -2.7315,\n",
      "        -2.3116, -0.3654, -2.5301, -1.7409, -3.1592, -1.7182])\n",
      "torch.Size([30])\n"
     ]
    }
   ],
   "source": [
    "input = X[6]\n",
    "input_tensor = torch.FloatTensor(input).to(device)\n",
    "\n",
    "with torch.no_grad():\n",
    "    logits = model(input_tensor)\n",
    "    print(logits)\n",
    "    print(logits.shape)\n",
    "    probabilities = torch.softmax(logits, dim=0)  # Shape (1, 30)"
   ]
  },
  {
   "cell_type": "code",
   "execution_count": 35,
   "id": "ee8e32d4",
   "metadata": {},
   "outputs": [
    {
     "name": "stdout",
     "output_type": "stream",
     "text": [
      "tensor([0.1383, 0.0215, 0.0921, 0.0028, 0.0003, 0.0004, 0.1926, 0.1407, 0.0290,\n",
      "        0.0020, 0.0052, 0.0335, 0.0518, 0.0351, 0.1343, 0.0003, 0.0416, 0.0028,\n",
      "        0.0014, 0.0017, 0.0063, 0.0237, 0.0062, 0.0018, 0.0027, 0.0188, 0.0022,\n",
      "        0.0048, 0.0012, 0.0049])\n"
     ]
    }
   ],
   "source": [
    "print(probabilities)"
   ]
  },
  {
   "cell_type": "code",
   "execution_count": 36,
   "id": "9367f6c7",
   "metadata": {},
   "outputs": [
    {
     "name": "stdout",
     "output_type": "stream",
     "text": [
      "Melhores ansatzes e suas probabilidades:\n",
      "1º: Ansatz 6 - Probabilidade: 0.1926\n",
      "2º: Ansatz 7 - Probabilidade: 0.1407\n",
      "3º: Ansatz 0 - Probabilidade: 0.1383\n"
     ]
    }
   ],
   "source": [
    "# Obter índices e valores das top-k probabilidades (ex.: top-5)\n",
    "k = 3\n",
    "top_k_probs, top_k_indices = torch.topk(probabilities, k=k, dim=0)\n",
    "\n",
    "# Converter para numpy e exibir\n",
    "top_k_probs = top_k_probs.cpu().numpy().flatten()\n",
    "top_k_indices = top_k_indices.cpu().numpy().flatten()\n",
    "\n",
    "print(\"Melhores ansatzes e suas probabilidades:\")\n",
    "for i, (idx, prob) in enumerate(zip(top_k_indices, top_k_probs)):\n",
    "    print(f\"{i+1}º: Ansatz {idx} - Probabilidade: {prob:.4f}\")"
   ]
  }
 ],
 "metadata": {
  "kernelspec": {
   "display_name": "IA_venv",
   "language": "python",
   "name": "python3"
  },
  "language_info": {
   "codemirror_mode": {
    "name": "ipython",
    "version": 3
   },
   "file_extension": ".py",
   "mimetype": "text/x-python",
   "name": "python",
   "nbconvert_exporter": "python",
   "pygments_lexer": "ipython3",
   "version": "3.13.2"
  }
 },
 "nbformat": 4,
 "nbformat_minor": 5
}
