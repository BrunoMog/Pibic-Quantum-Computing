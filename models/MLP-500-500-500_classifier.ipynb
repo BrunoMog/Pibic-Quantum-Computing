{
 "cells": [
  {
   "cell_type": "code",
   "execution_count": 1,
   "id": "970fa61e",
   "metadata": {},
   "outputs": [],
   "source": [
    "import ast\n",
    "import numpy as np\n",
    "import pandas as pd\n",
    "\n",
    "import torch\n",
    "from torch import nn\n",
    "from torch.utils.data import DataLoader, TensorDataset\n",
    "import torch.optim as optim\n",
    "\n",
    "from copy import deepcopy\n",
    "from sklearn.model_selection import KFold"
   ]
  },
  {
   "cell_type": "code",
   "execution_count": null,
   "id": "a2b867d0",
   "metadata": {},
   "outputs": [],
   "source": [
    "class MLP_500_500_500_classifier(nn.Module):\n",
    "    def __init__(self):\n",
    "        super().__init__()\n",
    "\n",
    "        self.layer1 = nn.Linear(22, 500)  \n",
    "        self.relu = nn.ReLU()                          \n",
    "        self.hidden_layer_relu = nn.Sequential(\n",
    "            nn.Linear(500,500),\n",
    "            nn.ReLU(),\n",
    "            nn.Linear(500,500),\n",
    "            nn.ReLU(),\n",
    "            nn.Linear(500,500),\n",
    "            nn.ReLU()\n",
    "        )\n",
    "        self.layer2 = nn.Linear(500, 30)\n",
    "\n",
    "    def forward(self, x):\n",
    "\n",
    "        x = self.relu(self.layer1(x))\n",
    "        x = self.hidden_layer_relu(x)\n",
    "        logits = self.layer2(x)\n",
    "        \n",
    "        return logits"
   ]
  },
  {
   "cell_type": "code",
   "execution_count": 3,
   "id": "1068e216",
   "metadata": {},
   "outputs": [],
   "source": [
    "# abrindo os dados de treinamento\n",
    "df = pd.read_csv(\"./../ansatz_result/data.csv\")\n",
    "X = df.drop(columns=[\"target\"]).to_numpy()\n",
    "y = pd.DataFrame(df['target'].apply(ast.literal_eval).tolist()).to_numpy()\n",
    "\n",
    "y_best_ansatz = np.argmax(y, axis=1)  \n",
    "\n",
    "# criando o kfold\n",
    "kf = KFold(n_splits=3, shuffle=True, random_state=42)"
   ]
  },
  {
   "cell_type": "code",
   "execution_count": 4,
   "id": "358ee521",
   "metadata": {},
   "outputs": [
    {
     "name": "stdout",
     "output_type": "stream",
     "text": [
      "[ 6  0  6  0 11 14  0 14 14  0  0  2  0  6  6 14  2  6  0 11  2 14 14 16\n",
      "  2  6  6  2 11  6 14  6 16 14 14 14 14  8 14  6  6 14  6 14  6  8 14  6\n",
      "  6  6 14  6  6  6  6  6  8  6 14  0  6  6  6  6  6  1  6  6  6  2  6  6\n",
      "  6  6  6  6  6  2  2  6  6  6  6  6  6  6  2  6  2  6 13  0 12  0  7  7\n",
      "  7  8  0  7  7 12  7  8 21 12 13  7  7  7 12 17  7 13 21  7  7  7  6  7\n",
      "  6 14  6 25  6  6  1 14  1  6  6  6  6 14 16  6  6  6  6  6  6  6 14  1\n",
      "  6  6  6 14  6 14  6  6 14 14 14  6 14 14  6  6  6  6 14  6  6  6  6  6\n",
      " 14  6  6  6  6 14  6  6  6  6  6  6 19 20  3 22 11 19  1  6 20 29 20  0\n",
      "  0 19 28 29  6 11  6 27  7 17 20 26  0 22 17  3  0 29 13  2 27  0  7 10\n",
      " 24 24 20  6 10 22 24 22 10 10 14  8 15 17 10 22  6  0 11  2 12 22 27 20\n",
      "  2  0 15  0 29 10 12  2 17  6  3 29 16  0 11  0  0  7  7  0  6 10 14  0\n",
      "  6  6  0  3 10  0  2 11 16 18  2 18 29  6 13 16 16 16 22  0 16 23  6 16\n",
      " 20 18 18 16 16  0 11 16 16 17 16 20  6  8  3 11 11  6 22  3 22  0 29 11\n",
      "  0 20  2  6 22 28 29  0 12 27 11 26 29 27 28  0 12 12 16 14 27 22 22  6\n",
      " 23 26 11 29 11  0  6 10  7  9 20 29  2  2 25  6 20 16 27 20 20  0 10 22]\n"
     ]
    }
   ],
   "source": [
    "print(y_best_ansatz)"
   ]
  },
  {
   "cell_type": "code",
   "execution_count": 5,
   "id": "e9050499",
   "metadata": {},
   "outputs": [
    {
     "name": "stdout",
     "output_type": "stream",
     "text": [
      "(360,)\n"
     ]
    }
   ],
   "source": [
    "print(y_best_ansatz.shape)  # Deve ser (N,), não (N, 1)"
   ]
  },
  {
   "cell_type": "code",
   "execution_count": 6,
   "id": "9b2b5f2f",
   "metadata": {},
   "outputs": [
    {
     "name": "stdout",
     "output_type": "stream",
     "text": [
      "Using cpu device\n"
     ]
    }
   ],
   "source": [
    "device = torch.device('cuda' if torch.cuda.is_available() else 'cpu')\n",
    "print(f\"Using {device} device\")"
   ]
  },
  {
   "cell_type": "code",
   "execution_count": 7,
   "id": "cf1a08dc",
   "metadata": {},
   "outputs": [],
   "source": [
    "# implementação de um critério de parada para o modelo parar no ponto \"ótimo\"\n",
    "class EarlyStopping:\n",
    "    def __init__(self, patience=5, min_delta=0.0):\n",
    "        self.patience = patience\n",
    "        self.min_delta = min_delta\n",
    "        self.counter = 0\n",
    "        self.best_loss = float('inf')\n",
    "        self.early_stop = False\n",
    "        \n",
    "    def __call__(self, val_loss):\n",
    "        if val_loss < self.best_loss - self.min_delta:\n",
    "            self.best_loss = val_loss\n",
    "            self.counter = 0\n",
    "        else:\n",
    "            self.counter += 1\n",
    "            if self.counter >= self.patience:\n",
    "                self.early_stop = True"
   ]
  },
  {
   "cell_type": "code",
   "execution_count": 8,
   "id": "8930e5a6",
   "metadata": {},
   "outputs": [],
   "source": [
    "# 3. Função para treinar um fold\n",
    "def train_fold(model, train_loader, val_loader, criterion, optimizer, n_epochs=1000000):\n",
    "    model.to(device)\n",
    "    early_stopping = EarlyStopping(patience=10, min_delta=0.0)\n",
    "    best_model = None\n",
    "    best_acc = 0.0\n",
    "    \n",
    "    for epoch in range(n_epochs):\n",
    "        # Treinamento\n",
    "        model.train()\n",
    "        train_loss = 0.0\n",
    "\n",
    "        for X_batch, y_batch in train_loader:\n",
    "            X_batch, y_batch = X_batch.to(device), y_batch.to(device)\n",
    "            y_batch = y_batch.squeeze()  # Converte (batch_size, 1) para (batch_size,)\n",
    "            \n",
    "            optimizer.zero_grad()\n",
    "            outputs = model(X_batch)\n",
    "            loss = criterion(outputs, y_batch)\n",
    "            loss.backward()\n",
    "            optimizer.step()\n",
    "            train_loss += loss.item()\n",
    "        \n",
    "        # Validação\n",
    "        model.eval()\n",
    "        with torch.no_grad():\n",
    "            val_loss = 0.0\n",
    "            correct = 0\n",
    "            total = 0\n",
    "            for X_val, y_val in val_loader:\n",
    "                X_val, y_val = X_val.to(device), y_val.to(device)\n",
    "                y_val = y_val.squeeze()  # Garante que y_val é 1D\n",
    "                \n",
    "                outputs = model(X_val)\n",
    "                val_loss += criterion(outputs, y_val).item()  \n",
    "                _, predicted = torch.max(outputs.data, 1)\n",
    "                correct += (predicted == y_val).sum().item()\n",
    "                total += y_val.size(0)\n",
    "        \n",
    "        \n",
    "        val_acc = correct / total\n",
    "        val_loss /= len(val_loader)\n",
    "        train_loss /= len(train_loader)\n",
    "        \n",
    "        print(f'Epoch {epoch+1}/{n_epochs} - Train Loss: {train_loss:.4f} - Val Loss: {val_loss:.4f} - Val Acc: {val_acc:.4f}')\n",
    "        \n",
    "        # Early Stopping\n",
    "        early_stopping(val_loss)\n",
    "        if early_stopping.early_stop:\n",
    "            print(f\"Early stopping at epoch {epoch+1}\")\n",
    "            break\n",
    "            \n",
    "        # Salvar melhor modelo\n",
    "        if val_acc > best_acc:\n",
    "            best_acc = val_acc\n",
    "            best_model = deepcopy(model.state_dict())\n",
    "    \n",
    "    return best_model, best_acc"
   ]
  },
  {
   "cell_type": "code",
   "execution_count": 9,
   "id": "cf393d80",
   "metadata": {},
   "outputs": [
    {
     "name": "stdout",
     "output_type": "stream",
     "text": [
      "\n",
      "=== Fold 1/3 ===\n",
      "Epoch 1/1000000 - Train Loss: 3.1831 - Val Loss: 3.1011 - Val Acc: 0.3000\n",
      "Epoch 2/1000000 - Train Loss: 2.6824 - Val Loss: 2.8337 - Val Acc: 0.3000\n",
      "Epoch 3/1000000 - Train Loss: 2.4644 - Val Loss: 2.7462 - Val Acc: 0.2583\n",
      "Epoch 4/1000000 - Train Loss: 2.3961 - Val Loss: 2.8082 - Val Acc: 0.2583\n",
      "Epoch 5/1000000 - Train Loss: 2.2737 - Val Loss: 2.6794 - Val Acc: 0.2583\n",
      "Epoch 6/1000000 - Train Loss: 2.2588 - Val Loss: 2.7278 - Val Acc: 0.2583\n",
      "Epoch 7/1000000 - Train Loss: 2.2696 - Val Loss: 2.6969 - Val Acc: 0.2583\n",
      "Epoch 8/1000000 - Train Loss: 2.2331 - Val Loss: 2.7374 - Val Acc: 0.2750\n",
      "Epoch 9/1000000 - Train Loss: 2.2311 - Val Loss: 2.7614 - Val Acc: 0.2583\n",
      "Epoch 10/1000000 - Train Loss: 2.2494 - Val Loss: 2.7618 - Val Acc: 0.2750\n",
      "Epoch 11/1000000 - Train Loss: 2.2450 - Val Loss: 2.6781 - Val Acc: 0.2583\n",
      "Epoch 12/1000000 - Train Loss: 2.2291 - Val Loss: 2.6742 - Val Acc: 0.3000\n",
      "Epoch 13/1000000 - Train Loss: 2.1804 - Val Loss: 2.7693 - Val Acc: 0.2750\n",
      "Epoch 14/1000000 - Train Loss: 2.2156 - Val Loss: 2.6662 - Val Acc: 0.2917\n",
      "Epoch 15/1000000 - Train Loss: 2.2185 - Val Loss: 2.6938 - Val Acc: 0.3000\n",
      "Epoch 16/1000000 - Train Loss: 2.1913 - Val Loss: 2.7239 - Val Acc: 0.3000\n",
      "Epoch 17/1000000 - Train Loss: 2.1757 - Val Loss: 2.7097 - Val Acc: 0.2917\n",
      "Epoch 18/1000000 - Train Loss: 2.1841 - Val Loss: 2.7939 - Val Acc: 0.2583\n",
      "Epoch 19/1000000 - Train Loss: 2.1950 - Val Loss: 2.6854 - Val Acc: 0.2667\n",
      "Epoch 20/1000000 - Train Loss: 2.2214 - Val Loss: 2.6778 - Val Acc: 0.2750\n",
      "Epoch 21/1000000 - Train Loss: 2.2446 - Val Loss: 2.7198 - Val Acc: 0.2667\n",
      "Epoch 22/1000000 - Train Loss: 2.1622 - Val Loss: 2.6899 - Val Acc: 0.2917\n",
      "Epoch 23/1000000 - Train Loss: 2.1505 - Val Loss: 2.7097 - Val Acc: 0.3000\n",
      "Epoch 24/1000000 - Train Loss: 2.1579 - Val Loss: 2.7349 - Val Acc: 0.2917\n",
      "Early stopping at epoch 24\n",
      "\n",
      "=== Fold 2/3 ===\n",
      "Epoch 1/1000000 - Train Loss: 3.2686 - Val Loss: 2.8351 - Val Acc: 0.2917\n",
      "Epoch 2/1000000 - Train Loss: 2.7045 - Val Loss: 2.6355 - Val Acc: 0.2917\n",
      "Epoch 3/1000000 - Train Loss: 2.5134 - Val Loss: 2.5302 - Val Acc: 0.3250\n",
      "Epoch 4/1000000 - Train Loss: 2.4393 - Val Loss: 2.5116 - Val Acc: 0.3250\n",
      "Epoch 5/1000000 - Train Loss: 2.4237 - Val Loss: 2.4679 - Val Acc: 0.3250\n",
      "Epoch 6/1000000 - Train Loss: 2.3412 - Val Loss: 2.4425 - Val Acc: 0.3250\n",
      "Epoch 7/1000000 - Train Loss: 2.3080 - Val Loss: 2.4426 - Val Acc: 0.3250\n",
      "Epoch 8/1000000 - Train Loss: 2.2947 - Val Loss: 2.4364 - Val Acc: 0.3250\n",
      "Epoch 9/1000000 - Train Loss: 2.2865 - Val Loss: 2.4561 - Val Acc: 0.3333\n",
      "Epoch 10/1000000 - Train Loss: 2.2822 - Val Loss: 2.4300 - Val Acc: 0.3667\n",
      "Epoch 11/1000000 - Train Loss: 2.2728 - Val Loss: 2.4387 - Val Acc: 0.3667\n",
      "Epoch 12/1000000 - Train Loss: 2.2507 - Val Loss: 2.4457 - Val Acc: 0.3667\n",
      "Epoch 13/1000000 - Train Loss: 2.2475 - Val Loss: 2.4582 - Val Acc: 0.3750\n",
      "Epoch 14/1000000 - Train Loss: 2.2343 - Val Loss: 2.4661 - Val Acc: 0.3417\n",
      "Epoch 15/1000000 - Train Loss: 2.2180 - Val Loss: 2.5058 - Val Acc: 0.3667\n",
      "Epoch 16/1000000 - Train Loss: 2.2431 - Val Loss: 2.4506 - Val Acc: 0.3583\n",
      "Epoch 17/1000000 - Train Loss: 2.2508 - Val Loss: 2.4428 - Val Acc: 0.3583\n",
      "Epoch 18/1000000 - Train Loss: 2.1858 - Val Loss: 2.4671 - Val Acc: 0.3583\n",
      "Epoch 19/1000000 - Train Loss: 2.1471 - Val Loss: 2.4860 - Val Acc: 0.3583\n",
      "Epoch 20/1000000 - Train Loss: 2.2062 - Val Loss: 2.4509 - Val Acc: 0.3667\n",
      "Early stopping at epoch 20\n",
      "\n",
      "=== Fold 3/3 ===\n",
      "Epoch 1/1000000 - Train Loss: 3.2272 - Val Loss: 2.9384 - Val Acc: 0.2833\n",
      "Epoch 2/1000000 - Train Loss: 2.8156 - Val Loss: 2.6343 - Val Acc: 0.2833\n",
      "Epoch 3/1000000 - Train Loss: 2.5590 - Val Loss: 2.5263 - Val Acc: 0.3417\n",
      "Epoch 4/1000000 - Train Loss: 2.4264 - Val Loss: 2.5055 - Val Acc: 0.3417\n",
      "Epoch 5/1000000 - Train Loss: 2.3833 - Val Loss: 2.4844 - Val Acc: 0.3417\n",
      "Epoch 6/1000000 - Train Loss: 2.3423 - Val Loss: 2.5212 - Val Acc: 0.3417\n",
      "Epoch 7/1000000 - Train Loss: 2.3523 - Val Loss: 2.5576 - Val Acc: 0.2833\n",
      "Epoch 8/1000000 - Train Loss: 2.2962 - Val Loss: 2.5777 - Val Acc: 0.3417\n",
      "Epoch 9/1000000 - Train Loss: 2.2891 - Val Loss: 2.5827 - Val Acc: 0.3583\n",
      "Epoch 10/1000000 - Train Loss: 2.2665 - Val Loss: 2.5780 - Val Acc: 0.3417\n",
      "Epoch 11/1000000 - Train Loss: 2.2602 - Val Loss: 2.6083 - Val Acc: 0.3333\n",
      "Epoch 12/1000000 - Train Loss: 2.2326 - Val Loss: 2.6488 - Val Acc: 0.3250\n",
      "Epoch 13/1000000 - Train Loss: 2.2333 - Val Loss: 2.7287 - Val Acc: 0.3250\n",
      "Epoch 14/1000000 - Train Loss: 2.2419 - Val Loss: 2.6622 - Val Acc: 0.3000\n",
      "Epoch 15/1000000 - Train Loss: 2.2143 - Val Loss: 2.6652 - Val Acc: 0.2833\n",
      "Early stopping at epoch 15\n",
      "\n",
      "=== Resultados ===\n",
      "Acurácia média: 0.3444 ± 0.0322\n",
      "Acurácias por fold: [0.3, 0.375, 0.35833333333333334]\n"
     ]
    }
   ],
   "source": [
    "results = []\n",
    "\n",
    "for fold, (train_idx, val_idx) in enumerate(kf.split(X)):\n",
    "    print(f\"\\n=== Fold {fold + 1}/{3} ===\")\n",
    "    \n",
    "    # Dividir e preparar dados\n",
    "    X_train, X_val = X[train_idx], X[val_idx]\n",
    "    y_train, y_val = y_best_ansatz[train_idx], y_best_ansatz[val_idx]\n",
    "    \n",
    "    train_dataset = TensorDataset(torch.FloatTensor(X_train), torch.LongTensor(y_train))\n",
    "    val_dataset = TensorDataset(torch.FloatTensor(X_val), torch.LongTensor(y_val))\n",
    "    \n",
    "    train_loader = DataLoader(train_dataset, batch_size=32, shuffle=True)\n",
    "    val_loader = DataLoader(val_dataset, batch_size=32)\n",
    "    \n",
    "    # Inicializar modelo e otimizador\n",
    "    model = MLP_500_500_500_classifier()\n",
    "    criterion = nn.CrossEntropyLoss()\n",
    "    optimizer = optim.Adam(model.parameters(), lr=0.001, weight_decay=1e-4)  # L2 regularization\n",
    "    \n",
    "    # Treinar fold\n",
    "    best_model, best_acc = train_fold(model, train_loader, val_loader, criterion, optimizer)\n",
    "    results.append(best_acc)\n",
    "    \n",
    "    # Salvar modelo se necessário\n",
    "    torch.save(best_model, f'./models_salvos/best_model_MLP-500-500-500-classifier_fold{fold+1}.pt')\n",
    "\n",
    "# 7. Resultados finais\n",
    "print(\"\\n=== Resultados ===\")\n",
    "print(f\"Acurácia média: {np.mean(results):.4f} ± {np.std(results):.4f}\")\n",
    "print(f\"Acurácias por fold: {results}\")"
   ]
  },
  {
   "cell_type": "code",
   "execution_count": 10,
   "id": "e1a86776",
   "metadata": {},
   "outputs": [
    {
     "data": {
      "text/plain": [
       "MLP_500_500_500_classifier(\n",
       "  (layer1): Linear(in_features=22, out_features=500, bias=True)\n",
       "  (relu): ReLU()\n",
       "  (hidden_layer_relu): Sequential(\n",
       "    (0): Linear(in_features=500, out_features=500, bias=True)\n",
       "    (1): ReLU()\n",
       "    (2): Linear(in_features=500, out_features=500, bias=True)\n",
       "    (3): ReLU()\n",
       "    (4): Linear(in_features=500, out_features=500, bias=True)\n",
       "    (5): ReLU()\n",
       "  )\n",
       "  (layer2): Linear(in_features=500, out_features=30, bias=True)\n",
       ")"
      ]
     },
     "execution_count": 10,
     "metadata": {},
     "output_type": "execute_result"
    }
   ],
   "source": [
    "model = MLP_500_500_500_classifier().to(device)\n",
    "#carregando o melhor fold treinado\n",
    "model.load_state_dict(torch.load('.//models_salvos/best_model_MLP-500-500-500-classifier_fold2.pt'))  # Substitua pelo caminho correto\n",
    "model.eval()  # Modo de avaliação"
   ]
  },
  {
   "cell_type": "code",
   "execution_count": 11,
   "id": "8ebe1db9",
   "metadata": {},
   "outputs": [
    {
     "name": "stdout",
     "output_type": "stream",
     "text": [
      "tensor([ 1.7966,  0.3270,  1.7380, -2.6257, -5.5529, -5.4489,  2.3973,  1.6526,\n",
      "         0.5597, -3.6324, -2.3316,  0.8602,  0.8030,  0.8055,  2.1152, -5.2260,\n",
      "         0.7682, -2.6002, -3.1180, -2.7146, -2.3959,  0.2236, -2.4988, -3.0993,\n",
      "        -2.4608, -0.1707, -2.9682, -2.6273, -3.8079, -2.6318])\n",
      "torch.Size([30])\n"
     ]
    }
   ],
   "source": [
    "input = X[6]\n",
    "input_tensor = torch.FloatTensor(input).to(device)\n",
    "\n",
    "with torch.no_grad():\n",
    "    logits = model(input_tensor)\n",
    "    print(logits)\n",
    "    print(logits.shape)\n",
    "    probabilities = torch.softmax(logits, dim=0)  # Shape (1, 30)"
   ]
  },
  {
   "cell_type": "code",
   "execution_count": 12,
   "id": "9a740aa2",
   "metadata": {},
   "outputs": [
    {
     "name": "stdout",
     "output_type": "stream",
     "text": [
      "tensor([1.1740e-01, 2.7003e-02, 1.1071e-01, 1.4095e-03, 7.5477e-05, 8.3748e-05,\n",
      "        2.1407e-01, 1.0165e-01, 3.4078e-02, 5.1506e-04, 1.8915e-03, 4.6023e-02,\n",
      "        4.3467e-02, 4.3576e-02, 1.6144e-01, 1.0466e-04, 4.1979e-02, 1.4459e-03,\n",
      "        8.6157e-04, 1.2896e-03, 1.7738e-03, 2.4351e-02, 1.6002e-03, 8.7776e-04,\n",
      "        1.6623e-03, 1.6416e-02, 1.0007e-03, 1.4073e-03, 4.3217e-04, 1.4009e-03])\n"
     ]
    }
   ],
   "source": [
    "print(probabilities)"
   ]
  },
  {
   "cell_type": "code",
   "execution_count": 13,
   "id": "cae8d161",
   "metadata": {},
   "outputs": [
    {
     "name": "stdout",
     "output_type": "stream",
     "text": [
      "Melhores ansatzes e suas probabilidades:\n",
      "1º: Ansatz 6 - Probabilidade: 0.2141\n",
      "2º: Ansatz 14 - Probabilidade: 0.1614\n",
      "3º: Ansatz 0 - Probabilidade: 0.1174\n"
     ]
    }
   ],
   "source": [
    "# Obter índices e valores das top-k probabilidades (ex.: top-5)\n",
    "k = 3\n",
    "top_k_probs, top_k_indices = torch.topk(probabilities, k=k, dim=0)\n",
    "\n",
    "# Converter para numpy e exibir\n",
    "top_k_probs = top_k_probs.cpu().numpy().flatten()\n",
    "top_k_indices = top_k_indices.cpu().numpy().flatten()\n",
    "\n",
    "print(\"Melhores ansatzes e suas probabilidades:\")\n",
    "for i, (idx, prob) in enumerate(zip(top_k_indices, top_k_probs)):\n",
    "    print(f\"{i+1}º: Ansatz {idx} - Probabilidade: {prob:.4f}\")"
   ]
  }
 ],
 "metadata": {
  "kernelspec": {
   "display_name": "IA_venv",
   "language": "python",
   "name": "python3"
  },
  "language_info": {
   "codemirror_mode": {
    "name": "ipython",
    "version": 3
   },
   "file_extension": ".py",
   "mimetype": "text/x-python",
   "name": "python",
   "nbconvert_exporter": "python",
   "pygments_lexer": "ipython3",
   "version": "3.13.2"
  }
 },
 "nbformat": 4,
 "nbformat_minor": 5
}
