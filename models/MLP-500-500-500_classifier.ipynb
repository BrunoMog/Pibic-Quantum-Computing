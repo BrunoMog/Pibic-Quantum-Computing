{
 "cells": [
  {
   "cell_type": "code",
   "execution_count": 1,
   "id": "970fa61e",
   "metadata": {},
   "outputs": [],
   "source": [
    "import ast\n",
    "import numpy as np\n",
    "import pandas as pd\n",
    "\n",
    "import torch\n",
    "from torch import nn\n",
    "from torch.utils.data import DataLoader, TensorDataset\n",
    "import torch.optim as optim\n",
    "\n",
    "from copy import deepcopy\n",
    "from sklearn.model_selection import KFold"
   ]
  },
  {
   "cell_type": "code",
   "execution_count": 2,
   "id": "a2b867d0",
   "metadata": {},
   "outputs": [],
   "source": [
    "class MLP_500_500_500_classifier(nn.Module):\n",
    "    def __init__(self, input_len):\n",
    "        super().__init__()\n",
    "\n",
    "        self.layer1 = nn.Linear(input_len, 500)  \n",
    "        self.relu = nn.ReLU()                          \n",
    "        self.hidden_layer_relu = nn.Sequential(\n",
    "            nn.Linear(500,500),\n",
    "            nn.ReLU(),\n",
    "            nn.Linear(500,500),\n",
    "            nn.ReLU(),\n",
    "            nn.Linear(500,500),\n",
    "            nn.ReLU()\n",
    "        )\n",
    "        self.layer2 = nn.Linear(500, 30)\n",
    "\n",
    "    def forward(self, x):\n",
    "\n",
    "        x = self.relu(self.layer1(x))\n",
    "        x = self.hidden_layer_relu(x)\n",
    "        logits = self.layer2(x)\n",
    "        \n",
    "        return logits"
   ]
  },
  {
   "cell_type": "code",
   "execution_count": 3,
   "id": "1068e216",
   "metadata": {},
   "outputs": [],
   "source": [
    "# abrindo os dados de treinamento\n",
    "df = pd.read_csv(\"./../ansatz_result/data.csv\")\n",
    "X = df.drop(columns=[\"target\"]).to_numpy()\n",
    "y = pd.DataFrame(df['target'].apply(ast.literal_eval).tolist()).to_numpy()\n",
    "\n",
    "y_best_ansatz = np.argmax(y, axis=1)  \n",
    "\n",
    "# criando o kfold\n",
    "kf = KFold(n_splits=3, shuffle=True, random_state=42)"
   ]
  },
  {
   "cell_type": "code",
   "execution_count": 4,
   "id": "9b2b5f2f",
   "metadata": {},
   "outputs": [
    {
     "name": "stdout",
     "output_type": "stream",
     "text": [
      "Using cpu device\n"
     ]
    }
   ],
   "source": [
    "device = torch.device('cuda' if torch.cuda.is_available() else 'cpu')\n",
    "print(f\"Using {device} device\")"
   ]
  },
  {
   "cell_type": "code",
   "execution_count": 5,
   "id": "cf1a08dc",
   "metadata": {},
   "outputs": [],
   "source": [
    "# implementação de um critério de parada para o modelo parar no ponto \"ótimo\"\n",
    "class EarlyStopping:\n",
    "    def __init__(self, patience=5, min_delta=0.0):\n",
    "        self.patience = patience\n",
    "        self.min_delta = min_delta\n",
    "        self.counter = 0\n",
    "        self.best_loss = float('inf')\n",
    "        self.early_stop = False\n",
    "        \n",
    "    def __call__(self, val_loss):\n",
    "        if val_loss < self.best_loss - self.min_delta:\n",
    "            self.best_loss = val_loss\n",
    "            self.counter = 0\n",
    "        else:\n",
    "            self.counter += 1\n",
    "            if self.counter >= self.patience:\n",
    "                self.early_stop = True"
   ]
  },
  {
   "cell_type": "code",
   "execution_count": 6,
   "id": "8930e5a6",
   "metadata": {},
   "outputs": [],
   "source": [
    "# 3. Função para treinar um fold\n",
    "def train_fold(model, train_loader, val_loader, criterion, optimizer, n_epochs=1000000, patience = 10, min_delta = 0.0):\n",
    "    model.to(device)\n",
    "    early_stopping = EarlyStopping(patience=patience, min_delta=min_delta)\n",
    "    best_model = None\n",
    "    best_acc = 0.0\n",
    "    \n",
    "    for epoch in range(n_epochs):\n",
    "        # Treinamento\n",
    "        model.train()\n",
    "        train_loss = 0.0\n",
    "\n",
    "        for X_batch, y_batch in train_loader:\n",
    "            X_batch, y_batch = X_batch.to(device), y_batch.to(device)\n",
    "            y_batch = y_batch.squeeze()  # Converte (batch_size, 1) para (batch_size,)\n",
    "            \n",
    "            optimizer.zero_grad()\n",
    "            outputs = model(X_batch)\n",
    "            loss = criterion(outputs, y_batch)\n",
    "            loss.backward()\n",
    "            optimizer.step()\n",
    "            train_loss += loss.item()\n",
    "        \n",
    "        # Validação\n",
    "        model.eval()\n",
    "        with torch.no_grad():\n",
    "            val_loss = 0.0\n",
    "            correct = 0\n",
    "            total = 0\n",
    "            for X_val, y_val in val_loader:\n",
    "                X_val, y_val = X_val.to(device), y_val.to(device)\n",
    "                y_val = y_val.squeeze()  # Garante que y_val é 1D\n",
    "                \n",
    "                outputs = model(X_val)\n",
    "                val_loss += criterion(outputs, y_val).item()  \n",
    "                _, predicted = torch.max(outputs.data, 1)\n",
    "                correct += (predicted == y_val).sum().item()\n",
    "                total += y_val.size(0)\n",
    "        \n",
    "        \n",
    "        val_acc = correct / total\n",
    "        val_loss /= len(val_loader)\n",
    "        train_loss /= len(train_loader)\n",
    "        \n",
    "        print(f'Epoch {epoch+1}/{n_epochs} - Train Loss: {train_loss:.4f} - Val Loss: {val_loss:.4f} - Val Acc: {val_acc:.4f}')\n",
    "        \n",
    "        # Early Stopping\n",
    "        early_stopping(val_loss)\n",
    "        if early_stopping.early_stop:\n",
    "            print(f\"Early stopping at epoch {epoch+1}\")\n",
    "            break\n",
    "            \n",
    "        # Salvar melhor modelo\n",
    "        if val_acc > best_acc:\n",
    "            best_acc = val_acc\n",
    "            best_model = deepcopy(model.state_dict())\n",
    "    \n",
    "    return best_model, best_acc"
   ]
  },
  {
   "cell_type": "code",
   "execution_count": 7,
   "id": "cf393d80",
   "metadata": {},
   "outputs": [
    {
     "name": "stdout",
     "output_type": "stream",
     "text": [
      "\n",
      "=== Fold 1/3 ===\n",
      "Epoch 1/1000000 - Train Loss: 3.3278 - Val Loss: 3.0967 - Val Acc: 0.0917\n",
      "Epoch 2/1000000 - Train Loss: 2.6295 - Val Loss: 2.7318 - Val Acc: 0.3000\n",
      "Epoch 3/1000000 - Train Loss: 2.3866 - Val Loss: 2.7594 - Val Acc: 0.2583\n",
      "Epoch 4/1000000 - Train Loss: 2.3590 - Val Loss: 2.9409 - Val Acc: 0.2583\n",
      "Epoch 5/1000000 - Train Loss: 2.3672 - Val Loss: 2.7398 - Val Acc: 0.2583\n",
      "Epoch 6/1000000 - Train Loss: 2.3165 - Val Loss: 2.6827 - Val Acc: 0.2750\n",
      "Epoch 7/1000000 - Train Loss: 2.2520 - Val Loss: 2.7636 - Val Acc: 0.2583\n",
      "Epoch 8/1000000 - Train Loss: 2.2765 - Val Loss: 2.7589 - Val Acc: 0.2583\n",
      "Epoch 9/1000000 - Train Loss: 2.2673 - Val Loss: 2.7112 - Val Acc: 0.2750\n",
      "Epoch 10/1000000 - Train Loss: 2.2143 - Val Loss: 2.7144 - Val Acc: 0.2667\n",
      "Epoch 11/1000000 - Train Loss: 2.1834 - Val Loss: 2.7865 - Val Acc: 0.2750\n",
      "Epoch 12/1000000 - Train Loss: 2.1720 - Val Loss: 2.9269 - Val Acc: 0.3083\n",
      "Epoch 13/1000000 - Train Loss: 2.2330 - Val Loss: 2.7695 - Val Acc: 0.2583\n",
      "Epoch 14/1000000 - Train Loss: 2.2555 - Val Loss: 2.7722 - Val Acc: 0.2583\n",
      "Epoch 15/1000000 - Train Loss: 2.2283 - Val Loss: 2.7020 - Val Acc: 0.2917\n",
      "Epoch 16/1000000 - Train Loss: 2.1882 - Val Loss: 2.7275 - Val Acc: 0.2750\n",
      "Epoch 17/1000000 - Train Loss: 2.1859 - Val Loss: 2.7479 - Val Acc: 0.2833\n",
      "Epoch 18/1000000 - Train Loss: 2.2106 - Val Loss: 2.7569 - Val Acc: 0.2917\n",
      "Epoch 19/1000000 - Train Loss: 2.2022 - Val Loss: 2.8186 - Val Acc: 0.3000\n",
      "Epoch 20/1000000 - Train Loss: 2.1656 - Val Loss: 2.8174 - Val Acc: 0.3000\n",
      "Epoch 21/1000000 - Train Loss: 2.1172 - Val Loss: 2.7562 - Val Acc: 0.2583\n",
      "Early stopping at epoch 21\n",
      "\n",
      "=== Fold 2/3 ===\n",
      "Epoch 1/1000000 - Train Loss: 3.4433 - Val Loss: 2.8612 - Val Acc: 0.0917\n",
      "Epoch 2/1000000 - Train Loss: 2.5900 - Val Loss: 2.5806 - Val Acc: 0.2917\n",
      "Epoch 3/1000000 - Train Loss: 2.4964 - Val Loss: 2.5667 - Val Acc: 0.3167\n",
      "Epoch 4/1000000 - Train Loss: 2.4451 - Val Loss: 2.4997 - Val Acc: 0.3250\n",
      "Epoch 5/1000000 - Train Loss: 2.3398 - Val Loss: 2.4530 - Val Acc: 0.3250\n",
      "Epoch 6/1000000 - Train Loss: 2.3605 - Val Loss: 2.6267 - Val Acc: 0.3083\n",
      "Epoch 7/1000000 - Train Loss: 2.4309 - Val Loss: 2.4558 - Val Acc: 0.3250\n",
      "Epoch 8/1000000 - Train Loss: 2.2951 - Val Loss: 2.5058 - Val Acc: 0.3167\n",
      "Epoch 9/1000000 - Train Loss: 2.3263 - Val Loss: 2.4885 - Val Acc: 0.3167\n",
      "Epoch 10/1000000 - Train Loss: 2.2610 - Val Loss: 2.4611 - Val Acc: 0.3667\n",
      "Epoch 11/1000000 - Train Loss: 2.2284 - Val Loss: 2.4758 - Val Acc: 0.3333\n",
      "Epoch 12/1000000 - Train Loss: 2.1950 - Val Loss: 2.4913 - Val Acc: 0.3250\n",
      "Epoch 13/1000000 - Train Loss: 2.2356 - Val Loss: 2.4814 - Val Acc: 0.3500\n",
      "Epoch 14/1000000 - Train Loss: 2.1714 - Val Loss: 2.5362 - Val Acc: 0.3667\n",
      "Epoch 15/1000000 - Train Loss: 2.2401 - Val Loss: 2.4954 - Val Acc: 0.3500\n",
      "Epoch 16/1000000 - Train Loss: 2.2893 - Val Loss: 2.5093 - Val Acc: 0.3667\n",
      "Epoch 17/1000000 - Train Loss: 2.2070 - Val Loss: 2.5695 - Val Acc: 0.3750\n",
      "Epoch 18/1000000 - Train Loss: 2.2169 - Val Loss: 2.5841 - Val Acc: 0.3333\n",
      "Epoch 19/1000000 - Train Loss: 2.1989 - Val Loss: 2.5109 - Val Acc: 0.3667\n",
      "Epoch 20/1000000 - Train Loss: 2.1751 - Val Loss: 2.6712 - Val Acc: 0.3667\n",
      "Early stopping at epoch 20\n",
      "\n",
      "=== Fold 3/3 ===\n",
      "Epoch 1/1000000 - Train Loss: 3.4522 - Val Loss: 2.8286 - Val Acc: 0.1000\n",
      "Epoch 2/1000000 - Train Loss: 2.5877 - Val Loss: 2.5433 - Val Acc: 0.2833\n",
      "Epoch 3/1000000 - Train Loss: 2.4426 - Val Loss: 2.5799 - Val Acc: 0.3417\n",
      "Epoch 4/1000000 - Train Loss: 2.4898 - Val Loss: 2.5906 - Val Acc: 0.2833\n",
      "Epoch 5/1000000 - Train Loss: 2.4828 - Val Loss: 2.6522 - Val Acc: 0.2833\n",
      "Epoch 6/1000000 - Train Loss: 2.3891 - Val Loss: 2.6677 - Val Acc: 0.2833\n",
      "Epoch 7/1000000 - Train Loss: 2.3610 - Val Loss: 2.6152 - Val Acc: 0.3417\n",
      "Epoch 8/1000000 - Train Loss: 2.2845 - Val Loss: 2.6095 - Val Acc: 0.3000\n",
      "Epoch 9/1000000 - Train Loss: 2.2722 - Val Loss: 2.6496 - Val Acc: 0.3417\n",
      "Epoch 10/1000000 - Train Loss: 2.2533 - Val Loss: 2.7425 - Val Acc: 0.3333\n",
      "Epoch 11/1000000 - Train Loss: 2.2541 - Val Loss: 2.7569 - Val Acc: 0.2750\n",
      "Epoch 12/1000000 - Train Loss: 2.2994 - Val Loss: 2.6670 - Val Acc: 0.2750\n",
      "Epoch 13/1000000 - Train Loss: 2.2759 - Val Loss: 2.7199 - Val Acc: 0.3333\n",
      "Epoch 14/1000000 - Train Loss: 2.2544 - Val Loss: 2.5975 - Val Acc: 0.3250\n",
      "Epoch 15/1000000 - Train Loss: 2.1831 - Val Loss: 2.7085 - Val Acc: 0.2667\n",
      "Epoch 16/1000000 - Train Loss: 2.2199 - Val Loss: 2.7449 - Val Acc: 0.2750\n",
      "Epoch 17/1000000 - Train Loss: 2.2345 - Val Loss: 2.6738 - Val Acc: 0.3583\n",
      "Early stopping at epoch 17\n",
      "\n",
      "=== Resultados ===\n",
      "Acurácia média: 0.3417 ± 0.0272\n",
      "Acurácias por fold: [0.30833333333333335, 0.375, 0.3416666666666667]\n"
     ]
    }
   ],
   "source": [
    "results = []\n",
    "\n",
    "for fold, (train_idx, val_idx) in enumerate(kf.split(X)):\n",
    "    print(f\"\\n=== Fold {fold + 1}/{3} ===\")\n",
    "    \n",
    "    # Dividir e preparar dados\n",
    "    X_train, X_val = X[train_idx], X[val_idx]\n",
    "    y_train, y_val = y_best_ansatz[train_idx], y_best_ansatz[val_idx]\n",
    "    \n",
    "    train_dataset = TensorDataset(torch.FloatTensor(X_train), torch.LongTensor(y_train))\n",
    "    val_dataset = TensorDataset(torch.FloatTensor(X_val), torch.LongTensor(y_val))\n",
    "    \n",
    "    train_loader = DataLoader(train_dataset, batch_size=32, shuffle=True)\n",
    "    val_loader = DataLoader(val_dataset, batch_size=32)\n",
    "    \n",
    "    # Inicializar modelo e otimizador\n",
    "    model = MLP_500_500_500_classifier(22)\n",
    "    criterion = nn.CrossEntropyLoss()\n",
    "    optimizer = optim.Adam(model.parameters(), lr=0.01)  \n",
    "    \n",
    "    # Treinar fold\n",
    "    best_model, best_acc = train_fold(model, train_loader, val_loader, criterion, optimizer, patience=15)\n",
    "    results.append(best_acc)\n",
    "    \n",
    "    # Salvar modelo se necessário\n",
    "    torch.save(best_model, f'./models_salvos/best_model_MLP-500-500-500-classifier_fold{fold+1}.pt')\n",
    "\n",
    "# 7. Resultados finais\n",
    "print(\"\\n=== Resultados ===\")\n",
    "print(f\"Acurácia média: {np.mean(results):.4f} ± {np.std(results):.4f}\")\n",
    "print(f\"Acurácias por fold: {results}\")"
   ]
  },
  {
   "cell_type": "code",
   "execution_count": 8,
   "id": "e1a86776",
   "metadata": {},
   "outputs": [
    {
     "data": {
      "text/plain": [
       "MLP_500_500_500_classifier(\n",
       "  (layer1): Linear(in_features=22, out_features=500, bias=True)\n",
       "  (relu): ReLU()\n",
       "  (hidden_layer_relu): Sequential(\n",
       "    (0): Linear(in_features=500, out_features=500, bias=True)\n",
       "    (1): ReLU()\n",
       "    (2): Linear(in_features=500, out_features=500, bias=True)\n",
       "    (3): ReLU()\n",
       "    (4): Linear(in_features=500, out_features=500, bias=True)\n",
       "    (5): ReLU()\n",
       "  )\n",
       "  (layer2): Linear(in_features=500, out_features=30, bias=True)\n",
       ")"
      ]
     },
     "execution_count": 8,
     "metadata": {},
     "output_type": "execute_result"
    }
   ],
   "source": [
    "model = MLP_500_500_500_classifier(22).to(device)\n",
    "#carregando o melhor fold treinado\n",
    "model.load_state_dict(torch.load('.//models_salvos/best_model_MLP-500-500-500-classifier_fold2.pt'))  # Substitua pelo caminho correto\n",
    "model.eval()  # Modo de avaliação"
   ]
  },
  {
   "cell_type": "code",
   "execution_count": 9,
   "id": "8ebe1db9",
   "metadata": {},
   "outputs": [
    {
     "name": "stdout",
     "output_type": "stream",
     "text": [
      "tensor([  1.9310,  -2.8520,   1.5080,  -4.5539, -12.4744, -12.4945,   1.6156,\n",
      "          1.4059,  -3.2365,  -5.4026,  -4.2948,   0.5748,   1.0659,   0.8931,\n",
      "          1.3808, -12.2624,  -1.5550,  -4.8942,  -7.2296,  -5.5795,  -3.8493,\n",
      "          0.5045,  -3.6012,  -5.8621,  -4.7726,  -1.7680,  -7.1251,  -4.2433,\n",
      "         -7.4999,  -3.9068])\n",
      "torch.Size([30])\n"
     ]
    }
   ],
   "source": [
    "input = X[6]\n",
    "input_tensor = torch.FloatTensor(input).to(device)\n",
    "\n",
    "with torch.no_grad():\n",
    "    logits = model(input_tensor)\n",
    "    print(logits)\n",
    "    print(logits.shape)\n",
    "    probabilities = torch.softmax(logits, dim=0)  # Shape (1, 30)"
   ]
  },
  {
   "cell_type": "code",
   "execution_count": 10,
   "id": "9a740aa2",
   "metadata": {},
   "outputs": [
    {
     "name": "stdout",
     "output_type": "stream",
     "text": [
      "tensor([2.0346e-01, 1.7030e-03, 1.3328e-01, 3.1052e-04, 1.1279e-07, 1.1055e-07,\n",
      "        1.4842e-01, 1.2034e-01, 1.1594e-03, 1.3289e-04, 4.0237e-04, 5.2414e-02,\n",
      "        8.5654e-02, 7.2061e-02, 1.1736e-01, 1.3943e-07, 6.2303e-03, 2.2097e-04,\n",
      "        2.1382e-05, 1.1135e-04, 6.2823e-04, 4.8857e-02, 8.0513e-04, 8.3941e-05,\n",
      "        2.4953e-04, 5.0350e-03, 2.3739e-05, 4.2365e-04, 1.6319e-05, 5.9312e-04])\n"
     ]
    }
   ],
   "source": [
    "print(probabilities)"
   ]
  },
  {
   "cell_type": "code",
   "execution_count": 11,
   "id": "cae8d161",
   "metadata": {},
   "outputs": [
    {
     "name": "stdout",
     "output_type": "stream",
     "text": [
      "Melhores ansatzes e suas probabilidades:\n",
      "1º: Ansatz 0 - Probabilidade: 0.2035\n",
      "2º: Ansatz 6 - Probabilidade: 0.1484\n",
      "3º: Ansatz 2 - Probabilidade: 0.1333\n"
     ]
    }
   ],
   "source": [
    "# Obter índices e valores das top-k probabilidades (ex.: top-5)\n",
    "k = 3\n",
    "top_k_probs, top_k_indices = torch.topk(probabilities, k=k, dim=0)\n",
    "\n",
    "# Converter para numpy e exibir\n",
    "top_k_probs = top_k_probs.cpu().numpy().flatten()\n",
    "top_k_indices = top_k_indices.cpu().numpy().flatten()\n",
    "\n",
    "print(\"Melhores ansatzes e suas probabilidades:\")\n",
    "for i, (idx, prob) in enumerate(zip(top_k_indices, top_k_probs)):\n",
    "    print(f\"{i+1}º: Ansatz {idx} - Probabilidade: {prob:.4f}\")"
   ]
  }
 ],
 "metadata": {
  "kernelspec": {
   "display_name": "IA_venv",
   "language": "python",
   "name": "python3"
  },
  "language_info": {
   "codemirror_mode": {
    "name": "ipython",
    "version": 3
   },
   "file_extension": ".py",
   "mimetype": "text/x-python",
   "name": "python",
   "nbconvert_exporter": "python",
   "pygments_lexer": "ipython3",
   "version": "3.13.3"
  }
 },
 "nbformat": 4,
 "nbformat_minor": 5
}
