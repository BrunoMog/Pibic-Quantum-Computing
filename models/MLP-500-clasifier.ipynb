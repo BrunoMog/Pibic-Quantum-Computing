{
 "cells": [
  {
   "cell_type": "code",
   "execution_count": 26,
   "id": "6786835a",
   "metadata": {},
   "outputs": [],
   "source": [
    "import ast\n",
    "import numpy as np\n",
    "import pandas as pd\n",
    "\n",
    "import torch\n",
    "from torch import nn\n",
    "from torch.utils.data import DataLoader, TensorDataset\n",
    "import torch.optim as optim\n",
    "\n",
    "from copy import deepcopy\n",
    "from sklearn.model_selection import KFold"
   ]
  },
  {
   "cell_type": "code",
   "execution_count": 27,
   "id": "97ccf47f",
   "metadata": {},
   "outputs": [],
   "source": [
    "#modelo MLP, 1 camada intermediára com 500 neurônios\n",
    "class MLP_500_classifier(nn.Module):\n",
    "    def __init__(self):\n",
    "        super().__init__()\n",
    "\n",
    "        self.layer1 = nn.Linear(22, 500)  \n",
    "        self.relu = nn.ReLU()                          \n",
    "        self.layer2 = nn.Linear(500, 30) \n",
    "\n",
    "    def forward(self, x):\n",
    "\n",
    "        x = self.relu(self.layer1(x))  \n",
    "        logits = self.layer2(x)\n",
    "        \n",
    "        return logits"
   ]
  },
  {
   "cell_type": "code",
   "execution_count": 28,
   "id": "4d529832",
   "metadata": {},
   "outputs": [],
   "source": [
    "# abrindo os dados de treinamento\n",
    "df = pd.read_csv(\"./../ansatz_result/data.csv\")\n",
    "X = df.drop(columns=[\"target\"]).to_numpy()\n",
    "y = pd.DataFrame(df['target'].apply(ast.literal_eval).tolist()).to_numpy()\n",
    "\n",
    "y_best_ansatz = np.argmax(y, axis=1)  \n",
    "\n",
    "# criando o kfold\n",
    "kf = KFold(n_splits=3, shuffle=True, random_state=42)"
   ]
  },
  {
   "cell_type": "code",
   "execution_count": 29,
   "id": "66e3e82e",
   "metadata": {},
   "outputs": [
    {
     "name": "stdout",
     "output_type": "stream",
     "text": [
      "[ 6  0  6  0 11 14  0 14 14  0  0  2  0  6  6 14  2  6  0 11  2 14 14 16\n",
      "  2  6  6  2 11  6 14  6 16 14 14 14 14  8 14  6  6 14  6 14  6  8 14  6\n",
      "  6  6 14  6  6  6  6  6  8  6 14  0  6  6  6  6  6  1  6  6  6  2  6  6\n",
      "  6  6  6  6  6  2  2  6  6  6  6  6  6  6  2  6  2  6 13  0 12  0  7  7\n",
      "  7  8  0  7  7 12  7  8 21 12 13  7  7  7 12 17  7 13 21  7  7  7  6  7\n",
      "  6 14  6 25  6  6  1 14  1  6  6  6  6 14 16  6  6  6  6  6  6  6 14  1\n",
      "  6  6  6 14  6 14  6  6 14 14 14  6 14 14  6  6  6  6 14  6  6  6  6  6\n",
      " 14  6  6  6  6 14  6  6  6  6  6  6 19 20  3 22 11 19  1  6 20 29 20  0\n",
      "  0 19 28 29  6 11  6 27  7 17 20 26  0 22 17  3  0 29 13  2 27  0  7 10\n",
      " 24 24 20  6 10 22 24 22 10 10 14  8 15 17 10 22  6  0 11  2 12 22 27 20\n",
      "  2  0 15  0 29 10 12  2 17  6  3 29 16  0 11  0  0  7  7  0  6 10 14  0\n",
      "  6  6  0  3 10  0  2 11 16 18  2 18 29  6 13 16 16 16 22  0 16 23  6 16\n",
      " 20 18 18 16 16  0 11 16 16 17 16 20  6  8  3 11 11  6 22  3 22  0 29 11\n",
      "  0 20  2  6 22 28 29  0 12 27 11 26 29 27 28  0 12 12 16 14 27 22 22  6\n",
      " 23 26 11 29 11  0  6 10  7  9 20 29  2  2 25  6 20 16 27 20 20  0 10 22]\n"
     ]
    }
   ],
   "source": [
    "print(y_best_ansatz)"
   ]
  },
  {
   "cell_type": "code",
   "execution_count": 30,
   "id": "f6408180",
   "metadata": {},
   "outputs": [
    {
     "name": "stdout",
     "output_type": "stream",
     "text": [
      "(360,)\n"
     ]
    }
   ],
   "source": [
    "print(y_best_ansatz.shape)  # Deve ser (N,), não (N, 1)"
   ]
  },
  {
   "cell_type": "code",
   "execution_count": 31,
   "id": "6a008014",
   "metadata": {},
   "outputs": [
    {
     "name": "stdout",
     "output_type": "stream",
     "text": [
      "Using cpu device\n"
     ]
    }
   ],
   "source": [
    "device = torch.device('cuda' if torch.cuda.is_available() else 'cpu')\n",
    "print(f\"Using {device} device\")"
   ]
  },
  {
   "cell_type": "code",
   "execution_count": 32,
   "id": "b03c0089",
   "metadata": {},
   "outputs": [],
   "source": [
    "# implementação de um critério de parada para o modelo parar no ponto \"ótimo\"\n",
    "class EarlyStopping:\n",
    "    def __init__(self, patience=5, min_delta=0.0):\n",
    "        self.patience = patience\n",
    "        self.min_delta = min_delta\n",
    "        self.counter = 0\n",
    "        self.best_loss = float('inf')\n",
    "        self.early_stop = False\n",
    "        \n",
    "    def __call__(self, val_loss):\n",
    "        if val_loss < self.best_loss - self.min_delta:\n",
    "            self.best_loss = val_loss\n",
    "            self.counter = 0\n",
    "        else:\n",
    "            self.counter += 1\n",
    "            if self.counter >= self.patience:\n",
    "                self.early_stop = True"
   ]
  },
  {
   "cell_type": "code",
   "execution_count": 33,
   "id": "90c2c971",
   "metadata": {},
   "outputs": [],
   "source": [
    "# 3. Função para treinar um fold\n",
    "def train_fold(model, train_loader, val_loader, criterion, optimizer, n_epochs=1000000):\n",
    "    model.to(device)\n",
    "    early_stopping = EarlyStopping(patience=10, min_delta=0.0)\n",
    "    best_model = None\n",
    "    best_acc = 0.0\n",
    "    \n",
    "    for epoch in range(n_epochs):\n",
    "        # Treinamento\n",
    "        model.train()\n",
    "        train_loss = 0.0\n",
    "\n",
    "        for X_batch, y_batch in train_loader:\n",
    "            X_batch, y_batch = X_batch.to(device), y_batch.to(device)\n",
    "            y_batch = y_batch.squeeze()  # Converte (batch_size, 1) para (batch_size,)\n",
    "            \n",
    "            optimizer.zero_grad()\n",
    "            outputs = model(X_batch)\n",
    "            loss = criterion(outputs, y_batch)\n",
    "            loss.backward()\n",
    "            optimizer.step()\n",
    "            train_loss += loss.item()\n",
    "        \n",
    "        # Validação\n",
    "        model.eval()\n",
    "        with torch.no_grad():\n",
    "            val_loss = 0.0\n",
    "            correct = 0\n",
    "            total = 0\n",
    "            for X_val, y_val in val_loader:\n",
    "                X_val, y_val = X_val.to(device), y_val.to(device)\n",
    "                y_val = y_val.squeeze()  # Garante que y_val é 1D\n",
    "                \n",
    "                outputs = model(X_val)\n",
    "                val_loss += criterion(outputs, y_val).item()  \n",
    "                _, predicted = torch.max(outputs.data, 1)\n",
    "                correct += (predicted == y_val).sum().item()\n",
    "                total += y_val.size(0)\n",
    "        \n",
    "        \n",
    "        val_acc = correct / total\n",
    "        val_loss /= len(val_loader)\n",
    "        train_loss /= len(train_loader)\n",
    "        \n",
    "        print(f'Epoch {epoch+1}/{n_epochs} - Train Loss: {train_loss:.4f} - Val Loss: {val_loss:.4f} - Val Acc: {val_acc:.4f}')\n",
    "        \n",
    "        # Early Stopping\n",
    "        early_stopping(val_loss)\n",
    "        if early_stopping.early_stop:\n",
    "            print(f\"Early stopping at epoch {epoch+1}\")\n",
    "            break\n",
    "            \n",
    "        # Salvar melhor modelo\n",
    "        if val_acc > best_acc:\n",
    "            best_acc = val_acc\n",
    "            best_model = deepcopy(model.state_dict())\n",
    "    \n",
    "    return best_model, best_acc"
   ]
  },
  {
   "cell_type": "code",
   "execution_count": 34,
   "id": "32e3a346",
   "metadata": {},
   "outputs": [
    {
     "name": "stdout",
     "output_type": "stream",
     "text": [
      "\n",
      "=== Fold 1/3 ===\n",
      "Epoch 1/1000000 - Train Loss: 3.2325 - Val Loss: 3.1390 - Val Acc: 0.2583\n",
      "Epoch 2/1000000 - Train Loss: 2.9062 - Val Loss: 3.0132 - Val Acc: 0.2583\n",
      "Epoch 3/1000000 - Train Loss: 2.7268 - Val Loss: 2.9538 - Val Acc: 0.3000\n",
      "Epoch 4/1000000 - Train Loss: 2.5999 - Val Loss: 2.9191 - Val Acc: 0.3000\n",
      "Epoch 5/1000000 - Train Loss: 2.5100 - Val Loss: 2.8505 - Val Acc: 0.3083\n",
      "Epoch 6/1000000 - Train Loss: 2.4414 - Val Loss: 2.8145 - Val Acc: 0.2583\n",
      "Epoch 7/1000000 - Train Loss: 2.3752 - Val Loss: 2.7981 - Val Acc: 0.2583\n",
      "Epoch 8/1000000 - Train Loss: 2.3769 - Val Loss: 2.8016 - Val Acc: 0.2583\n",
      "Epoch 9/1000000 - Train Loss: 2.2757 - Val Loss: 2.7929 - Val Acc: 0.2583\n",
      "Epoch 10/1000000 - Train Loss: 2.2769 - Val Loss: 2.7986 - Val Acc: 0.2583\n",
      "Epoch 11/1000000 - Train Loss: 2.3100 - Val Loss: 2.8164 - Val Acc: 0.2583\n",
      "Epoch 12/1000000 - Train Loss: 2.2726 - Val Loss: 2.8037 - Val Acc: 0.2583\n",
      "Epoch 13/1000000 - Train Loss: 2.2867 - Val Loss: 2.8012 - Val Acc: 0.2583\n",
      "Epoch 14/1000000 - Train Loss: 2.2794 - Val Loss: 2.8060 - Val Acc: 0.2583\n",
      "Epoch 15/1000000 - Train Loss: 2.2559 - Val Loss: 2.7952 - Val Acc: 0.2583\n",
      "Epoch 16/1000000 - Train Loss: 2.2374 - Val Loss: 2.8036 - Val Acc: 0.2583\n",
      "Epoch 17/1000000 - Train Loss: 2.2439 - Val Loss: 2.7911 - Val Acc: 0.2583\n",
      "Epoch 18/1000000 - Train Loss: 2.2142 - Val Loss: 2.8013 - Val Acc: 0.2583\n",
      "Epoch 19/1000000 - Train Loss: 2.1925 - Val Loss: 2.8093 - Val Acc: 0.2583\n",
      "Epoch 20/1000000 - Train Loss: 2.2141 - Val Loss: 2.7866 - Val Acc: 0.2583\n",
      "Epoch 21/1000000 - Train Loss: 2.1924 - Val Loss: 2.7915 - Val Acc: 0.2500\n",
      "Epoch 22/1000000 - Train Loss: 2.1849 - Val Loss: 2.7925 - Val Acc: 0.2583\n",
      "Epoch 23/1000000 - Train Loss: 2.1585 - Val Loss: 2.8012 - Val Acc: 0.2583\n",
      "Epoch 24/1000000 - Train Loss: 2.1621 - Val Loss: 2.8004 - Val Acc: 0.2583\n",
      "Epoch 25/1000000 - Train Loss: 2.2085 - Val Loss: 2.8018 - Val Acc: 0.2583\n",
      "Epoch 26/1000000 - Train Loss: 2.1485 - Val Loss: 2.7972 - Val Acc: 0.2583\n",
      "Epoch 27/1000000 - Train Loss: 2.1789 - Val Loss: 2.7995 - Val Acc: 0.2583\n",
      "Epoch 28/1000000 - Train Loss: 2.1556 - Val Loss: 2.7882 - Val Acc: 0.2583\n",
      "Epoch 29/1000000 - Train Loss: 2.1468 - Val Loss: 2.7947 - Val Acc: 0.2583\n",
      "Epoch 30/1000000 - Train Loss: 2.1852 - Val Loss: 2.7997 - Val Acc: 0.2500\n",
      "Early stopping at epoch 30\n",
      "\n",
      "=== Fold 2/3 ===\n",
      "Epoch 1/1000000 - Train Loss: 3.2900 - Val Loss: 3.1180 - Val Acc: 0.2583\n",
      "Epoch 2/1000000 - Train Loss: 2.9819 - Val Loss: 2.9107 - Val Acc: 0.2917\n",
      "Epoch 3/1000000 - Train Loss: 2.7974 - Val Loss: 2.7938 - Val Acc: 0.2917\n",
      "Epoch 4/1000000 - Train Loss: 2.7079 - Val Loss: 2.7239 - Val Acc: 0.2917\n",
      "Epoch 5/1000000 - Train Loss: 2.6057 - Val Loss: 2.6548 - Val Acc: 0.2917\n",
      "Epoch 6/1000000 - Train Loss: 2.5389 - Val Loss: 2.5967 - Val Acc: 0.2833\n",
      "Epoch 7/1000000 - Train Loss: 2.4525 - Val Loss: 2.5639 - Val Acc: 0.3167\n",
      "Epoch 8/1000000 - Train Loss: 2.4207 - Val Loss: 2.5436 - Val Acc: 0.3250\n",
      "Epoch 9/1000000 - Train Loss: 2.3792 - Val Loss: 2.5381 - Val Acc: 0.3333\n",
      "Epoch 10/1000000 - Train Loss: 2.4080 - Val Loss: 2.5239 - Val Acc: 0.3250\n",
      "Epoch 11/1000000 - Train Loss: 2.3802 - Val Loss: 2.5170 - Val Acc: 0.3250\n",
      "Epoch 12/1000000 - Train Loss: 2.3627 - Val Loss: 2.5268 - Val Acc: 0.3250\n",
      "Epoch 13/1000000 - Train Loss: 2.3387 - Val Loss: 2.5129 - Val Acc: 0.3250\n",
      "Epoch 14/1000000 - Train Loss: 2.3197 - Val Loss: 2.5014 - Val Acc: 0.3417\n",
      "Epoch 15/1000000 - Train Loss: 2.3318 - Val Loss: 2.4844 - Val Acc: 0.3333\n",
      "Epoch 16/1000000 - Train Loss: 2.3323 - Val Loss: 2.4789 - Val Acc: 0.3250\n",
      "Epoch 17/1000000 - Train Loss: 2.3001 - Val Loss: 2.4829 - Val Acc: 0.3250\n",
      "Epoch 18/1000000 - Train Loss: 2.2813 - Val Loss: 2.4822 - Val Acc: 0.3417\n",
      "Epoch 19/1000000 - Train Loss: 2.2915 - Val Loss: 2.4792 - Val Acc: 0.3250\n",
      "Epoch 20/1000000 - Train Loss: 2.2727 - Val Loss: 2.4921 - Val Acc: 0.3250\n",
      "Epoch 21/1000000 - Train Loss: 2.2577 - Val Loss: 2.4833 - Val Acc: 0.3250\n",
      "Epoch 22/1000000 - Train Loss: 2.2325 - Val Loss: 2.4864 - Val Acc: 0.3250\n",
      "Epoch 23/1000000 - Train Loss: 2.2425 - Val Loss: 2.4786 - Val Acc: 0.3083\n",
      "Epoch 24/1000000 - Train Loss: 2.2496 - Val Loss: 2.4706 - Val Acc: 0.3250\n",
      "Epoch 25/1000000 - Train Loss: 2.2339 - Val Loss: 2.4693 - Val Acc: 0.3250\n",
      "Epoch 26/1000000 - Train Loss: 2.2249 - Val Loss: 2.4882 - Val Acc: 0.3083\n",
      "Epoch 27/1000000 - Train Loss: 2.1900 - Val Loss: 2.4831 - Val Acc: 0.3083\n",
      "Epoch 28/1000000 - Train Loss: 2.1983 - Val Loss: 2.4806 - Val Acc: 0.3083\n",
      "Epoch 29/1000000 - Train Loss: 2.1950 - Val Loss: 2.4718 - Val Acc: 0.3250\n",
      "Epoch 30/1000000 - Train Loss: 2.1800 - Val Loss: 2.4591 - Val Acc: 0.3167\n",
      "Epoch 31/1000000 - Train Loss: 2.2059 - Val Loss: 2.4574 - Val Acc: 0.3250\n",
      "Epoch 32/1000000 - Train Loss: 2.1764 - Val Loss: 2.4690 - Val Acc: 0.3333\n",
      "Epoch 33/1000000 - Train Loss: 2.1490 - Val Loss: 2.4841 - Val Acc: 0.3167\n",
      "Epoch 34/1000000 - Train Loss: 2.1421 - Val Loss: 2.4938 - Val Acc: 0.3167\n",
      "Epoch 35/1000000 - Train Loss: 2.1477 - Val Loss: 2.4952 - Val Acc: 0.3083\n",
      "Epoch 36/1000000 - Train Loss: 2.1811 - Val Loss: 2.4886 - Val Acc: 0.3417\n",
      "Epoch 37/1000000 - Train Loss: 2.1676 - Val Loss: 2.4820 - Val Acc: 0.3667\n",
      "Epoch 38/1000000 - Train Loss: 2.1509 - Val Loss: 2.4863 - Val Acc: 0.3417\n",
      "Epoch 39/1000000 - Train Loss: 2.1390 - Val Loss: 2.4781 - Val Acc: 0.3500\n",
      "Epoch 40/1000000 - Train Loss: 2.1483 - Val Loss: 2.4836 - Val Acc: 0.3667\n",
      "Epoch 41/1000000 - Train Loss: 2.1362 - Val Loss: 2.4904 - Val Acc: 0.3417\n",
      "Early stopping at epoch 41\n",
      "\n",
      "=== Fold 3/3 ===\n",
      "Epoch 1/1000000 - Train Loss: 3.2551 - Val Loss: 3.0905 - Val Acc: 0.2833\n",
      "Epoch 2/1000000 - Train Loss: 2.9696 - Val Loss: 2.8890 - Val Acc: 0.2833\n",
      "Epoch 3/1000000 - Train Loss: 2.7923 - Val Loss: 2.7832 - Val Acc: 0.2833\n",
      "Epoch 4/1000000 - Train Loss: 2.6883 - Val Loss: 2.7019 - Val Acc: 0.2833\n",
      "Epoch 5/1000000 - Train Loss: 2.5749 - Val Loss: 2.6406 - Val Acc: 0.2833\n",
      "Epoch 6/1000000 - Train Loss: 2.5109 - Val Loss: 2.5936 - Val Acc: 0.2833\n",
      "Epoch 7/1000000 - Train Loss: 2.4704 - Val Loss: 2.5613 - Val Acc: 0.3167\n",
      "Epoch 8/1000000 - Train Loss: 2.4078 - Val Loss: 2.5538 - Val Acc: 0.3333\n",
      "Epoch 9/1000000 - Train Loss: 2.3705 - Val Loss: 2.5344 - Val Acc: 0.3417\n",
      "Epoch 10/1000000 - Train Loss: 2.3784 - Val Loss: 2.5306 - Val Acc: 0.3333\n",
      "Epoch 11/1000000 - Train Loss: 2.3356 - Val Loss: 2.5316 - Val Acc: 0.3333\n",
      "Epoch 12/1000000 - Train Loss: 2.3524 - Val Loss: 2.5351 - Val Acc: 0.3333\n",
      "Epoch 13/1000000 - Train Loss: 2.3403 - Val Loss: 2.5560 - Val Acc: 0.3333\n",
      "Epoch 14/1000000 - Train Loss: 2.3053 - Val Loss: 2.5588 - Val Acc: 0.3250\n",
      "Epoch 15/1000000 - Train Loss: 2.3172 - Val Loss: 2.5558 - Val Acc: 0.3250\n",
      "Epoch 16/1000000 - Train Loss: 2.2614 - Val Loss: 2.5566 - Val Acc: 0.3333\n",
      "Epoch 17/1000000 - Train Loss: 2.2800 - Val Loss: 2.5697 - Val Acc: 0.3250\n",
      "Epoch 18/1000000 - Train Loss: 2.2893 - Val Loss: 2.5635 - Val Acc: 0.2833\n",
      "Epoch 19/1000000 - Train Loss: 2.2557 - Val Loss: 2.5540 - Val Acc: 0.3500\n",
      "Epoch 20/1000000 - Train Loss: 2.2820 - Val Loss: 2.5699 - Val Acc: 0.3167\n",
      "Early stopping at epoch 20\n",
      "\n",
      "=== Resultados ===\n",
      "Acurácia média: 0.3417 ± 0.0245\n",
      "Acurácias por fold: [0.30833333333333335, 0.36666666666666664, 0.35]\n"
     ]
    }
   ],
   "source": [
    "results = []\n",
    "\n",
    "for fold, (train_idx, val_idx) in enumerate(kf.split(X)):\n",
    "    print(f\"\\n=== Fold {fold + 1}/{3} ===\")\n",
    "    \n",
    "    # Dividir e preparar dados\n",
    "    X_train, X_val = X[train_idx], X[val_idx]\n",
    "    y_train, y_val = y_best_ansatz[train_idx], y_best_ansatz[val_idx]\n",
    "    \n",
    "    train_dataset = TensorDataset(torch.FloatTensor(X_train), torch.LongTensor(y_train))\n",
    "    val_dataset = TensorDataset(torch.FloatTensor(X_val), torch.LongTensor(y_val))\n",
    "    \n",
    "    train_loader = DataLoader(train_dataset, batch_size=32, shuffle=True)\n",
    "    val_loader = DataLoader(val_dataset, batch_size=32)\n",
    "    \n",
    "    # Inicializar modelo e otimizador\n",
    "    model = MLP_500_classifier()\n",
    "    criterion = nn.CrossEntropyLoss()\n",
    "    optimizer = optim.Adam(model.parameters(), lr=0.001, weight_decay=1e-4)  # L2 regularization\n",
    "    \n",
    "    # Treinar fold\n",
    "    best_model, best_acc = train_fold(model, train_loader, val_loader, criterion, optimizer)\n",
    "    results.append(best_acc)\n",
    "    \n",
    "    # Salvar modelo se necessário\n",
    "    torch.save(best_model, f'./models_salvos/best_model_MLP-500-classifier_fold{fold+1}.pt')\n",
    "\n",
    "# 7. Resultados finais\n",
    "print(\"\\n=== Resultados ===\")\n",
    "print(f\"Acurácia média: {np.mean(results):.4f} ± {np.std(results):.4f}\")\n",
    "print(f\"Acurácias por fold: {results}\")"
   ]
  },
  {
   "cell_type": "code",
   "execution_count": 35,
   "id": "481e0193",
   "metadata": {},
   "outputs": [
    {
     "data": {
      "text/plain": [
       "MLP_500_classifier(\n",
       "  (layer1): Linear(in_features=22, out_features=500, bias=True)\n",
       "  (relu): ReLU()\n",
       "  (layer2): Linear(in_features=500, out_features=30, bias=True)\n",
       ")"
      ]
     },
     "execution_count": 35,
     "metadata": {},
     "output_type": "execute_result"
    }
   ],
   "source": [
    "model = MLP_500_classifier().to(device)\n",
    "#carregando o melhor fold treinado\n",
    "model.load_state_dict(torch.load('.//models_salvos/best_model_MLP-500-classifier_fold2.pt'))  # Substitua pelo caminho correto\n",
    "model.eval()  # Modo de avaliação"
   ]
  },
  {
   "cell_type": "code",
   "execution_count": 36,
   "id": "24c69372",
   "metadata": {},
   "outputs": [
    {
     "name": "stdout",
     "output_type": "stream",
     "text": [
      "tensor([ 1.3621, -0.9234,  0.8086, -2.8746, -4.9537, -4.7109,  1.8078,  1.3620,\n",
      "        -0.5922, -3.3506, -2.2317, -0.1593,  0.1996,  0.2319,  1.6770, -4.8571,\n",
      "        -0.4070, -2.8738, -4.0395, -3.1255, -2.2491, -0.2630, -2.3441, -3.4144,\n",
      "        -2.7568, -1.1555, -3.6140, -2.8949, -3.7901, -2.4632])\n",
      "torch.Size([30])\n"
     ]
    }
   ],
   "source": [
    "input = X[6]\n",
    "input_tensor = torch.FloatTensor(input).to(device)\n",
    "\n",
    "with torch.no_grad():\n",
    "    logits = model(input_tensor)\n",
    "    print(logits)\n",
    "    print(logits.shape)\n",
    "    probabilities = torch.softmax(logits, dim=0)  # Shape (1, 30)"
   ]
  },
  {
   "cell_type": "code",
   "execution_count": 37,
   "id": "3afe04ba",
   "metadata": {},
   "outputs": [
    {
     "name": "stdout",
     "output_type": "stream",
     "text": [
      "tensor([0.1377, 0.0140, 0.0791, 0.0020, 0.0002, 0.0003, 0.2150, 0.1376, 0.0195,\n",
      "        0.0012, 0.0038, 0.0301, 0.0430, 0.0445, 0.1886, 0.0003, 0.0235, 0.0020,\n",
      "        0.0006, 0.0015, 0.0037, 0.0271, 0.0034, 0.0012, 0.0022, 0.0111, 0.0010,\n",
      "        0.0019, 0.0008, 0.0030])\n"
     ]
    }
   ],
   "source": [
    "print(probabilities)"
   ]
  },
  {
   "cell_type": "code",
   "execution_count": 38,
   "id": "230e8bad",
   "metadata": {},
   "outputs": [
    {
     "name": "stdout",
     "output_type": "stream",
     "text": [
      "Melhores ansatzes e suas probabilidades:\n",
      "1º: Ansatz 6 - Probabilidade: 0.2150\n",
      "2º: Ansatz 14 - Probabilidade: 0.1886\n",
      "3º: Ansatz 0 - Probabilidade: 0.1377\n"
     ]
    }
   ],
   "source": [
    "# Obter índices e valores das top-k probabilidades (ex.: top-5)\n",
    "k = 3\n",
    "top_k_probs, top_k_indices = torch.topk(probabilities, k=k, dim=0)\n",
    "\n",
    "# Converter para numpy e exibir\n",
    "top_k_probs = top_k_probs.cpu().numpy().flatten()\n",
    "top_k_indices = top_k_indices.cpu().numpy().flatten()\n",
    "\n",
    "print(\"Melhores ansatzes e suas probabilidades:\")\n",
    "for i, (idx, prob) in enumerate(zip(top_k_indices, top_k_probs)):\n",
    "    print(f\"{i+1}º: Ansatz {idx} - Probabilidade: {prob:.4f}\")"
   ]
  }
 ],
 "metadata": {
  "kernelspec": {
   "display_name": "IA_venv",
   "language": "python",
   "name": "python3"
  },
  "language_info": {
   "codemirror_mode": {
    "name": "ipython",
    "version": 3
   },
   "file_extension": ".py",
   "mimetype": "text/x-python",
   "name": "python",
   "nbconvert_exporter": "python",
   "pygments_lexer": "ipython3",
   "version": "3.13.3"
  }
 },
 "nbformat": 4,
 "nbformat_minor": 5
}
