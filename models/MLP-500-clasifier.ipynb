{
 "cells": [
  {
   "cell_type": "code",
   "execution_count": 1,
   "id": "6786835a",
   "metadata": {},
   "outputs": [],
   "source": [
    "import ast\n",
    "import numpy as np\n",
    "import pandas as pd\n",
    "\n",
    "import torch\n",
    "from torch import nn\n",
    "from torch.utils.data import DataLoader, TensorDataset\n",
    "import torch.optim as optim\n",
    "\n",
    "from copy import deepcopy\n",
    "from sklearn.model_selection import KFold"
   ]
  },
  {
   "cell_type": "code",
   "execution_count": 2,
   "id": "97ccf47f",
   "metadata": {},
   "outputs": [],
   "source": [
    "#modelo MLP, 1 camada intermediára com 500 neurônios\n",
    "class MLP_500_classifier(nn.Module):\n",
    "    def __init__(self, input_len):\n",
    "        super().__init__()\n",
    "\n",
    "        self.layer1 = nn.Linear(input_len, 500)  \n",
    "        self.relu = nn.ReLU()                          \n",
    "        self.layer2 = nn.Linear(500, 30) \n",
    "\n",
    "    def forward(self, x):\n",
    "\n",
    "        x = self.relu(self.layer1(x))  \n",
    "        logits = self.layer2(x)\n",
    "        \n",
    "        return logits"
   ]
  },
  {
   "cell_type": "code",
   "execution_count": 3,
   "id": "4d529832",
   "metadata": {},
   "outputs": [],
   "source": [
    "# abrindo os dados de treinamento\n",
    "df = pd.read_csv(\"./../ansatz_result/data.csv\")\n",
    "X = df.drop(columns=[\"target\"]).to_numpy()\n",
    "y = pd.DataFrame(df['target'].apply(ast.literal_eval).tolist()).to_numpy()\n",
    "\n",
    "y_best_ansatz = np.argmax(y, axis=1)  \n",
    "\n",
    "# criando o kfold\n",
    "kf = KFold(n_splits=3, shuffle=True, random_state=42)"
   ]
  },
  {
   "cell_type": "code",
   "execution_count": 4,
   "id": "6a008014",
   "metadata": {},
   "outputs": [
    {
     "name": "stdout",
     "output_type": "stream",
     "text": [
      "Using cpu device\n"
     ]
    }
   ],
   "source": [
    "device = torch.device('cuda' if torch.cuda.is_available() else 'cpu')\n",
    "print(f\"Using {device} device\")"
   ]
  },
  {
   "cell_type": "code",
   "execution_count": 5,
   "id": "b03c0089",
   "metadata": {},
   "outputs": [],
   "source": [
    "# implementação de um critério de parada para o modelo parar no ponto \"ótimo\"\n",
    "class EarlyStopping:\n",
    "    def __init__(self, patience=5, min_delta=0.0):\n",
    "        self.patience = patience\n",
    "        self.min_delta = min_delta\n",
    "        self.counter = 0\n",
    "        self.best_loss = float('inf')\n",
    "        self.early_stop = False\n",
    "        \n",
    "    def __call__(self, val_loss):\n",
    "        if val_loss < self.best_loss - self.min_delta:\n",
    "            self.best_loss = val_loss\n",
    "            self.counter = 0\n",
    "        else:\n",
    "            self.counter += 1\n",
    "            if self.counter >= self.patience:\n",
    "                self.early_stop = True"
   ]
  },
  {
   "cell_type": "code",
   "execution_count": 6,
   "id": "90c2c971",
   "metadata": {},
   "outputs": [],
   "source": [
    "# 3. Função para treinar um fold\n",
    "def train_fold(model, train_loader, val_loader, criterion, optimizer, n_epochs=1000000, patience = 10, min_delta = 0.0):\n",
    "    model.to(device)\n",
    "    early_stopping = EarlyStopping(patience=patience, min_delta=min_delta)\n",
    "    best_model = None\n",
    "    best_acc = 0.0\n",
    "    \n",
    "    for epoch in range(n_epochs):\n",
    "        # Treinamento\n",
    "        model.train()\n",
    "        train_loss = 0.0\n",
    "\n",
    "        for X_batch, y_batch in train_loader:\n",
    "            X_batch, y_batch = X_batch.to(device), y_batch.to(device)\n",
    "            y_batch = y_batch.squeeze()  # Converte (batch_size, 1) para (batch_size,)\n",
    "            \n",
    "            optimizer.zero_grad()\n",
    "            outputs = model(X_batch)\n",
    "            loss = criterion(outputs, y_batch)\n",
    "            loss.backward()\n",
    "            optimizer.step()\n",
    "            train_loss += loss.item()\n",
    "        \n",
    "        # Validação\n",
    "        model.eval()\n",
    "        with torch.no_grad():\n",
    "            val_loss = 0.0\n",
    "            correct = 0\n",
    "            total = 0\n",
    "            for X_val, y_val in val_loader:\n",
    "                X_val, y_val = X_val.to(device), y_val.to(device)\n",
    "                y_val = y_val.squeeze()  # Garante que y_val é 1D\n",
    "                \n",
    "                outputs = model(X_val)\n",
    "                val_loss += criterion(outputs, y_val).item()  \n",
    "                _, predicted = torch.max(outputs.data, 1)\n",
    "                correct += (predicted == y_val).sum().item()\n",
    "                total += y_val.size(0)\n",
    "        \n",
    "        \n",
    "        val_acc = correct / total\n",
    "        val_loss /= len(val_loader)\n",
    "        train_loss /= len(train_loader)\n",
    "        \n",
    "        print(f'Epoch {epoch+1}/{n_epochs} - Train Loss: {train_loss:.4f} - Val Loss: {val_loss:.4f} - Val Acc: {val_acc:.4f}')\n",
    "        \n",
    "        # Early Stopping\n",
    "        early_stopping(val_loss)\n",
    "        if early_stopping.early_stop:\n",
    "            print(f\"Early stopping at epoch {epoch+1}\")\n",
    "            break\n",
    "            \n",
    "        # Salvar melhor modelo\n",
    "        if val_acc > best_acc:\n",
    "            best_acc = val_acc\n",
    "            best_model = deepcopy(model.state_dict())\n",
    "    \n",
    "    return best_model, best_acc"
   ]
  },
  {
   "cell_type": "code",
   "execution_count": 7,
   "id": "32e3a346",
   "metadata": {},
   "outputs": [
    {
     "name": "stdout",
     "output_type": "stream",
     "text": [
      "\n",
      "=== Fold 1/3 ===\n",
      "Epoch 1/1000000 - Train Loss: 2.9380 - Val Loss: 2.7584 - Val Acc: 0.2583\n",
      "Epoch 2/1000000 - Train Loss: 2.3916 - Val Loss: 2.7810 - Val Acc: 0.2583\n",
      "Epoch 3/1000000 - Train Loss: 2.2634 - Val Loss: 2.6666 - Val Acc: 0.2583\n",
      "Epoch 4/1000000 - Train Loss: 2.2326 - Val Loss: 2.6934 - Val Acc: 0.2583\n",
      "Epoch 5/1000000 - Train Loss: 2.2361 - Val Loss: 2.6914 - Val Acc: 0.2583\n",
      "Epoch 6/1000000 - Train Loss: 2.1763 - Val Loss: 2.6815 - Val Acc: 0.3000\n",
      "Epoch 7/1000000 - Train Loss: 2.1646 - Val Loss: 2.7638 - Val Acc: 0.2333\n",
      "Epoch 8/1000000 - Train Loss: 2.1967 - Val Loss: 2.7077 - Val Acc: 0.3083\n",
      "Epoch 9/1000000 - Train Loss: 2.1226 - Val Loss: 2.7104 - Val Acc: 0.3000\n",
      "Epoch 10/1000000 - Train Loss: 2.1011 - Val Loss: 2.6950 - Val Acc: 0.2667\n",
      "Epoch 11/1000000 - Train Loss: 2.1027 - Val Loss: 2.7882 - Val Acc: 0.3000\n",
      "Epoch 12/1000000 - Train Loss: 2.0803 - Val Loss: 2.6972 - Val Acc: 0.2833\n",
      "Epoch 13/1000000 - Train Loss: 2.1011 - Val Loss: 2.7530 - Val Acc: 0.2833\n",
      "Epoch 14/1000000 - Train Loss: 2.1030 - Val Loss: 2.7893 - Val Acc: 0.2917\n",
      "Epoch 15/1000000 - Train Loss: 2.0923 - Val Loss: 2.7072 - Val Acc: 0.3250\n",
      "Epoch 16/1000000 - Train Loss: 2.0666 - Val Loss: 2.8247 - Val Acc: 0.2833\n",
      "Epoch 17/1000000 - Train Loss: 2.0426 - Val Loss: 2.7784 - Val Acc: 0.2833\n",
      "Epoch 18/1000000 - Train Loss: 2.0813 - Val Loss: 2.7769 - Val Acc: 0.2833\n",
      "Early stopping at epoch 18\n",
      "\n",
      "=== Fold 2/3 ===\n",
      "Epoch 1/1000000 - Train Loss: 2.9500 - Val Loss: 2.5764 - Val Acc: 0.3000\n",
      "Epoch 2/1000000 - Train Loss: 2.4541 - Val Loss: 2.4599 - Val Acc: 0.3250\n",
      "Epoch 3/1000000 - Train Loss: 2.3521 - Val Loss: 2.4295 - Val Acc: 0.3250\n",
      "Epoch 4/1000000 - Train Loss: 2.3170 - Val Loss: 2.4635 - Val Acc: 0.2750\n",
      "Epoch 5/1000000 - Train Loss: 2.2608 - Val Loss: 2.4333 - Val Acc: 0.3667\n",
      "Epoch 6/1000000 - Train Loss: 2.2651 - Val Loss: 2.4222 - Val Acc: 0.3333\n",
      "Epoch 7/1000000 - Train Loss: 2.2446 - Val Loss: 2.4166 - Val Acc: 0.3583\n",
      "Epoch 8/1000000 - Train Loss: 2.2042 - Val Loss: 2.4539 - Val Acc: 0.3500\n",
      "Epoch 9/1000000 - Train Loss: 2.1999 - Val Loss: 2.4447 - Val Acc: 0.3667\n",
      "Epoch 10/1000000 - Train Loss: 2.1839 - Val Loss: 2.4443 - Val Acc: 0.3667\n",
      "Epoch 11/1000000 - Train Loss: 2.1638 - Val Loss: 2.4682 - Val Acc: 0.3250\n",
      "Epoch 12/1000000 - Train Loss: 2.1649 - Val Loss: 2.4834 - Val Acc: 0.3750\n",
      "Epoch 13/1000000 - Train Loss: 2.1377 - Val Loss: 2.4707 - Val Acc: 0.3750\n",
      "Epoch 14/1000000 - Train Loss: 2.1406 - Val Loss: 2.4742 - Val Acc: 0.3500\n",
      "Epoch 15/1000000 - Train Loss: 2.0949 - Val Loss: 2.5140 - Val Acc: 0.3833\n",
      "Epoch 16/1000000 - Train Loss: 2.0324 - Val Loss: 2.5041 - Val Acc: 0.3583\n",
      "Epoch 17/1000000 - Train Loss: 2.0623 - Val Loss: 2.5066 - Val Acc: 0.3667\n",
      "Epoch 18/1000000 - Train Loss: 2.0376 - Val Loss: 2.5043 - Val Acc: 0.3833\n",
      "Epoch 19/1000000 - Train Loss: 2.0642 - Val Loss: 2.5139 - Val Acc: 0.3750\n",
      "Epoch 20/1000000 - Train Loss: 2.1045 - Val Loss: 2.4988 - Val Acc: 0.3667\n",
      "Epoch 21/1000000 - Train Loss: 2.0391 - Val Loss: 2.5150 - Val Acc: 0.4000\n",
      "Epoch 22/1000000 - Train Loss: 2.0199 - Val Loss: 2.5062 - Val Acc: 0.3667\n",
      "Early stopping at epoch 22\n",
      "\n",
      "=== Fold 3/3 ===\n",
      "Epoch 1/1000000 - Train Loss: 2.9625 - Val Loss: 2.5678 - Val Acc: 0.2833\n",
      "Epoch 2/1000000 - Train Loss: 2.4567 - Val Loss: 2.5121 - Val Acc: 0.2917\n",
      "Epoch 3/1000000 - Train Loss: 2.3425 - Val Loss: 2.5064 - Val Acc: 0.3417\n",
      "Epoch 4/1000000 - Train Loss: 2.2910 - Val Loss: 2.5317 - Val Acc: 0.3167\n",
      "Epoch 5/1000000 - Train Loss: 2.3094 - Val Loss: 2.5345 - Val Acc: 0.3000\n",
      "Epoch 6/1000000 - Train Loss: 2.2208 - Val Loss: 2.5563 - Val Acc: 0.3417\n",
      "Epoch 7/1000000 - Train Loss: 2.2118 - Val Loss: 2.6095 - Val Acc: 0.3500\n",
      "Epoch 8/1000000 - Train Loss: 2.2359 - Val Loss: 2.5678 - Val Acc: 0.3250\n",
      "Epoch 9/1000000 - Train Loss: 2.1964 - Val Loss: 2.6014 - Val Acc: 0.3500\n",
      "Epoch 10/1000000 - Train Loss: 2.1706 - Val Loss: 2.5940 - Val Acc: 0.3417\n",
      "Epoch 11/1000000 - Train Loss: 2.1576 - Val Loss: 2.6364 - Val Acc: 0.3333\n",
      "Epoch 12/1000000 - Train Loss: 2.0867 - Val Loss: 2.6313 - Val Acc: 0.3333\n",
      "Epoch 13/1000000 - Train Loss: 2.1077 - Val Loss: 2.6289 - Val Acc: 0.3333\n",
      "Epoch 14/1000000 - Train Loss: 2.0852 - Val Loss: 2.6811 - Val Acc: 0.3167\n",
      "Epoch 15/1000000 - Train Loss: 2.0778 - Val Loss: 2.6608 - Val Acc: 0.3583\n",
      "Epoch 16/1000000 - Train Loss: 2.0581 - Val Loss: 2.6698 - Val Acc: 0.3167\n",
      "Epoch 17/1000000 - Train Loss: 2.0519 - Val Loss: 2.7129 - Val Acc: 0.3167\n",
      "Epoch 18/1000000 - Train Loss: 2.0341 - Val Loss: 2.7108 - Val Acc: 0.3167\n",
      "Early stopping at epoch 18\n",
      "\n",
      "=== Resultados ===\n",
      "Acurácia média: 0.3611 ± 0.0307\n",
      "Acurácias por fold: [0.325, 0.4, 0.35833333333333334]\n"
     ]
    }
   ],
   "source": [
    "results = []\n",
    "\n",
    "for fold, (train_idx, val_idx) in enumerate(kf.split(X)):\n",
    "    print(f\"\\n=== Fold {fold + 1}/{3} ===\")\n",
    "    \n",
    "    # Dividir e preparar dados\n",
    "    X_train, X_val = X[train_idx], X[val_idx]\n",
    "    y_train, y_val = y_best_ansatz[train_idx], y_best_ansatz[val_idx]\n",
    "    \n",
    "    train_dataset = TensorDataset(torch.FloatTensor(X_train), torch.LongTensor(y_train))\n",
    "    val_dataset = TensorDataset(torch.FloatTensor(X_val), torch.LongTensor(y_val))\n",
    "    \n",
    "    train_loader = DataLoader(train_dataset, batch_size=32, shuffle=True)\n",
    "    val_loader = DataLoader(val_dataset, batch_size=32)\n",
    "    \n",
    "    # Inicializar modelo e otimizador\n",
    "    model = MLP_500_classifier(22)\n",
    "    criterion = nn.CrossEntropyLoss()\n",
    "    optimizer = optim.Adam(model.parameters(), lr=0.01)  # L2 regularization\n",
    "    \n",
    "    # Treinar fold\n",
    "    best_model, best_acc = train_fold(model, train_loader, val_loader, criterion, optimizer, patience= 15, min_delta=0.0)\n",
    "    results.append(best_acc)\n",
    "    \n",
    "    # Salvar modelo se necessário\n",
    "    torch.save(best_model, f'./models_salvos/best_model_MLP-500-classifier_fold{fold+1}.pt')\n",
    "\n",
    "# 7. Resultados finais\n",
    "print(\"\\n=== Resultados ===\")\n",
    "print(f\"Acurácia média: {np.mean(results):.4f} ± {np.std(results):.4f}\")\n",
    "print(f\"Acurácias por fold: {results}\")"
   ]
  },
  {
   "cell_type": "code",
   "execution_count": 8,
   "id": "481e0193",
   "metadata": {},
   "outputs": [
    {
     "data": {
      "text/plain": [
       "MLP_500_classifier(\n",
       "  (layer1): Linear(in_features=22, out_features=500, bias=True)\n",
       "  (relu): ReLU()\n",
       "  (layer2): Linear(in_features=500, out_features=30, bias=True)\n",
       ")"
      ]
     },
     "execution_count": 8,
     "metadata": {},
     "output_type": "execute_result"
    }
   ],
   "source": [
    "model = MLP_500_classifier(22).to(device)\n",
    "#carregando o melhor fold treinado\n",
    "model.load_state_dict(torch.load('.//models_salvos/best_model_MLP-500-classifier_fold2.pt'))  # Substitua pelo caminho correto\n",
    "model.eval()  # Modo de avaliação"
   ]
  },
  {
   "cell_type": "code",
   "execution_count": 9,
   "id": "24c69372",
   "metadata": {},
   "outputs": [
    {
     "name": "stdout",
     "output_type": "stream",
     "text": [
      "tensor([ 1.6142, -2.3243,  1.3192, -3.7483, -6.5113, -6.4406,  1.3386,  0.8577,\n",
      "        -1.4171, -5.4326, -3.5050,  0.6132, -0.1423, -0.5097,  1.3137, -6.4582,\n",
      "        -1.0245, -3.5299, -5.2758, -3.8636, -3.8992, -0.8746, -3.9422, -5.2814,\n",
      "        -3.3296, -2.3045, -4.8350, -4.5567, -4.5225, -3.6123])\n",
      "torch.Size([30])\n"
     ]
    }
   ],
   "source": [
    "input = X[6]\n",
    "input_tensor = torch.FloatTensor(input).to(device)\n",
    "\n",
    "with torch.no_grad():\n",
    "    logits = model(input_tensor)\n",
    "    print(logits)\n",
    "    print(logits.shape)\n",
    "    probabilities = torch.softmax(logits, dim=0)  # Shape (1, 30)"
   ]
  },
  {
   "cell_type": "code",
   "execution_count": 10,
   "id": "3afe04ba",
   "metadata": {},
   "outputs": [
    {
     "name": "stdout",
     "output_type": "stream",
     "text": [
      "tensor([2.1432e-01, 4.1746e-03, 1.5957e-01, 1.0050e-03, 6.3419e-05, 6.8064e-05,\n",
      "        1.6269e-01, 1.0058e-01, 1.0342e-02, 1.8650e-04, 1.2819e-03, 7.8763e-02,\n",
      "        3.7001e-02, 2.5625e-02, 1.5869e-01, 6.6879e-05, 1.5315e-02, 1.2503e-03,\n",
      "        2.1816e-04, 8.9555e-04, 8.6420e-04, 1.7791e-02, 8.2784e-04, 2.1695e-04,\n",
      "        1.5276e-03, 4.2578e-03, 3.3902e-04, 4.4778e-04, 4.6337e-04, 1.1514e-03])\n"
     ]
    }
   ],
   "source": [
    "print(probabilities)"
   ]
  },
  {
   "cell_type": "code",
   "execution_count": 11,
   "id": "230e8bad",
   "metadata": {},
   "outputs": [
    {
     "name": "stdout",
     "output_type": "stream",
     "text": [
      "Melhores ansatzes e suas probabilidades:\n",
      "1º: Ansatz 0 - Probabilidade: 0.2143\n",
      "2º: Ansatz 6 - Probabilidade: 0.1627\n",
      "3º: Ansatz 2 - Probabilidade: 0.1596\n"
     ]
    }
   ],
   "source": [
    "# Obter índices e valores das top-k probabilidades (ex.: top-5)\n",
    "k = 3\n",
    "top_k_probs, top_k_indices = torch.topk(probabilities, k=k, dim=0)\n",
    "\n",
    "# Converter para numpy e exibir\n",
    "top_k_probs = top_k_probs.cpu().numpy().flatten()\n",
    "top_k_indices = top_k_indices.cpu().numpy().flatten()\n",
    "\n",
    "print(\"Melhores ansatzes e suas probabilidades:\")\n",
    "for i, (idx, prob) in enumerate(zip(top_k_indices, top_k_probs)):\n",
    "    print(f\"{i+1}º: Ansatz {idx} - Probabilidade: {prob:.4f}\")"
   ]
  }
 ],
 "metadata": {
  "kernelspec": {
   "display_name": "IA_venv",
   "language": "python",
   "name": "python3"
  },
  "language_info": {
   "codemirror_mode": {
    "name": "ipython",
    "version": 3
   },
   "file_extension": ".py",
   "mimetype": "text/x-python",
   "name": "python",
   "nbconvert_exporter": "python",
   "pygments_lexer": "ipython3",
   "version": "3.13.3"
  }
 },
 "nbformat": 4,
 "nbformat_minor": 5
}
